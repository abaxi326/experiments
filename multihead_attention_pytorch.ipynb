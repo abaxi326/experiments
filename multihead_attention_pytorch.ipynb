{
 "cells": [
  {
   "cell_type": "code",
   "execution_count": 26,
   "id": "a9d96eac",
   "metadata": {},
   "outputs": [],
   "source": [
    "import torch\n",
    "import torch.nn as nn\n",
    "import torch.nn.functional as F\n",
    "import math\n",
    "\n",
    "device = torch.device(\"cuda\" if torch.cuda.is_available() else \"cpu\")\n",
    "\n"
   ]
  },
  {
   "cell_type": "code",
   "execution_count": 28,
   "id": "d2a7024d",
   "metadata": {},
   "outputs": [],
   "source": [
    "import torch\n",
    "import torch.nn as nn\n",
    "import torch.nn.functional as F\n",
    "import math\n",
    "\n",
    "class MultiHeadAttention(nn.Module):\n",
    "    def __init__(self, embed_dim, num_heads):\n",
    "        super().__init__()\n",
    "        assert embed_dim % num_heads == 0, \"embed_dim must be divisible by num_heads\"\n",
    "        \n",
    "        self.embed_dim = embed_dim\n",
    "        self.num_heads = num_heads\n",
    "        self.head_dim = embed_dim // num_heads\n",
    "        \n",
    "       \n",
    "        self.q_proj = nn.Linear(embed_dim, embed_dim)\n",
    "        self.k_proj = nn.Linear(embed_dim, embed_dim)\n",
    "        self.v_proj = nn.Linear(embed_dim, embed_dim)\n",
    "        \n",
    "       \n",
    "        self.out_proj = nn.Linear(embed_dim, embed_dim)\n",
    "    \n",
    "    def forward(self, query, key, value, mask=None):\n",
    "      \n",
    "        seq_len, batch_size, embed_dim = query.size()\n",
    "        \n",
    "        \n",
    "        Q = self.q_proj(query)  \n",
    "        K = self.k_proj(key)\n",
    "        V = self.v_proj(value)\n",
    "        \n",
    "       \n",
    "        Q = Q.contiguous().view(seq_len, batch_size, self.num_heads, self.head_dim)\n",
    "        K = K.contiguous().view(-1, batch_size, self.num_heads, self.head_dim)\n",
    "        V = V.contiguous().view(-1, batch_size, self.num_heads, self.head_dim)\n",
    "        \n",
    "        \n",
    "        Q = Q.permute(1, 2, 0, 3).reshape(batch_size * self.num_heads, seq_len, self.head_dim)\n",
    "        K = K.permute(1, 2, 0, 3).reshape(batch_size * self.num_heads, -1, self.head_dim)\n",
    "        V = V.permute(1, 2, 0, 3).reshape(batch_size * self.num_heads, -1, self.head_dim)\n",
    "        \n",
    "       \n",
    "        scores = torch.bmm(Q, K.transpose(1, 2)) \n",
    "        scores = scores / math.sqrt(self.head_dim)\n",
    "        \n",
    "        \n",
    "        if mask is not None:\n",
    "           \n",
    "            mask = mask.repeat_interleave(self.num_heads, dim=0)\n",
    "            scores = scores.masked_fill(mask == 0, float('-inf'))\n",
    "        \n",
    "        attn = F.softmax(scores, dim=-1)  \n",
    "        \n",
    "        \n",
    "        output = torch.bmm(attn, V) \n",
    "        \n",
    "        \n",
    "        output = output.view(batch_size, self.num_heads, seq_len, self.head_dim)\n",
    "        output = output.permute(2, 0, 1, 3).contiguous() \n",
    "        output = output.view(seq_len, batch_size, embed_dim)  \n",
    "        \n",
    "        \n",
    "        output = self.out_proj(output)\n",
    "        \n",
    "        return output\n"
   ]
  },
  {
   "cell_type": "code",
   "execution_count": 29,
   "id": "50f257fd",
   "metadata": {},
   "outputs": [
    {
     "name": "stdout",
     "output_type": "stream",
     "text": [
      "3486104227904\n",
      "3486104227904\n"
     ]
    }
   ],
   "source": [
    "\n",
    "\n",
    "x = torch.arange(6)       # tensor([0, 1, 2, 3, 4, 5])\n",
    "y = x.view(2, 3)         # reshape without copying data\n",
    "\n",
    "print(x.storage().data_ptr())  # Memory address of x's data\n",
    "print(y.storage().data_ptr())  # Same address — they share data!\n"
   ]
  },
  {
   "cell_type": "code",
   "execution_count": 30,
   "id": "83fa83a6",
   "metadata": {},
   "outputs": [
    {
     "name": "stdout",
     "output_type": "stream",
     "text": [
      "torch.Size([10, 2, 64])\n"
     ]
    }
   ],
   "source": [
    "embed_dim = 64\n",
    "num_heads = 8\n",
    "seq_len = 10\n",
    "batch_size = 2\n",
    "\n",
    "mha = MultiHeadAttention(embed_dim, num_heads)\n",
    "x = torch.rand(seq_len, batch_size, embed_dim)\n",
    "\n",
    "out = mha(x, x, x)  \n",
    "print(out.shape)"
   ]
  }
 ],
 "metadata": {
  "kernelspec": {
   "display_name": "Python 3",
   "language": "python",
   "name": "python3"
  },
  "language_info": {
   "codemirror_mode": {
    "name": "ipython",
    "version": 3
   },
   "file_extension": ".py",
   "mimetype": "text/x-python",
   "name": "python",
   "nbconvert_exporter": "python",
   "pygments_lexer": "ipython3",
   "version": "3.11.9"
  }
 },
 "nbformat": 4,
 "nbformat_minor": 5
}
