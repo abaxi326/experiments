{
 "cells": [
  {
   "cell_type": "code",
   "execution_count": 3,
   "id": "9c1371d2",
   "metadata": {},
   "outputs": [
    {
     "data": {
      "text/plain": [
       "'text\\n\"O my Luve\\'s like a red, red rose\\nThat’s newly sprung in June;\\nO my Luve\\'s like the melodie\\nThat’s sweetly play\\'d in tune.\\n\\nAs fair art thou, my bonnie lass,\\nSo deep in luve am I:\\nAnd I will luve thee still, my dear,\\nTill a’ the seas gang dry:\\n\\nTill a’ the seas gang dry, my dear,\\nAnd the rocks melt wi’ the sun:\\nI will luve thee still, my dear,\\nWhile the sands o’ life shall run.\\n\\nAnd fare thee well, my only Luve\\nAnd fare thee well, a while!\\nAnd I will come again, my Luve,\\nTho’ it were ten thousand mile.\"\\n\"The rose is red,\\nThe violet\\'s blue,\\nSugar is sweet,\\nAnd so are you.\"\\n\"How do I love thee? Let me count the ways.\\nI love thee to the depth and breadth and height\\nMy soul can reach, when feeling out of sight\\nFor the ends of being and ideal grace.\\nI love thee to the level of every day\\'s\\nMost quiet need, by sun and candle-light.\\nI love thee freely, as men strive for right.\\nI love thee purely, as they turn from praise.\\nI love thee with the passion put to use\\nIn my old griefs, and with my childhood\\'s faith.\\nI love thee with a love I seemed to lose\\nWith my lost saints. I love with the breath,\\nSmiles, tears, of all my life; and, if God choose,\\nI shall but love thee better after death.\\n\"\\n\"Had I the heavens\\' embroidered cloths,\\nEnwrought with golden and silver light,\\nThe blue and the dim and the dark cloths\\nOf night and light and the half-light,\\nI would spread the cloths under your feet:\\nBut I, being poor, have only my dreams;\\nI have spread my dreams under your feet;\\nTread softly because you tread on my dreams.\"\\n\"I.\\n    Enough! we\\'re tired, my heart and I.\\n    We sit beside the headstone thus,\\n    And wish that name were carved for us.\\n    The moss reprints more tenderly\\n    The hard types of the mason\\'s knife,\\n    As heaven\\'s sweet life renews earth\\'s life\\n    With which we\\'re tired, my heart and I.\\n\\nII.\\n    You see we\\'re tired, my heart and I.\\n    We dealt with books, we trusted men,\\n    And in our own blood drenched the pen,\\n    As if such colours could not fly.\\n    We walked too straight for fortune\\'s end,\\n    We loved too true to keep a friend;\\n    At last we\\'re tired, my heart and I.\\n\\nIII.\\n    How tired we feel, my heart and I!\\n    We seem of no use in the world;\\n    Our fancies hang grey and uncurled\\n    About men\\'s eyes indifferently;\\n    Our voice which thrilled you so, will let\\n    You sleep; our tears are only wet:\\n    What do we here, my heart and I?\\n\\nIV.\\n    So tired, so tired, my heart and I!\\n    It was not thus in that old time\\n    When Ralph sat with me \\'neath the lime\\n    To watch the sunset from the sky.\\n    Dear love, you\\'re looking tired,\\' he said;\\n    I, smiling at him, shook my head:\\n    \\'Tis now we\\'re tired, my heart and I.\\n\\nV.\\n    So tired, so tired, my heart and I!\\n    Though now none takes me on his arm\\n    To fold me close and kiss me warm\\n    Till each quick breath end in a sigh\\n    Of happy languor. Now, alone,\\n    We lean upon this graveyard stone,\\n    Uncheered, unkissed, my heart and I.\\n\\nVI.\\n    Tired out we are, my heart and I.\\n    Suppose the world brought diadems\\n    To tempt us, crusted with loose gems\\n    Of powers and pleasures? Let it try.\\n    We scarcely care to look at even\\n    A pretty child, or God\\'s blue heaven,\\n    We feel so tired, my heart and I.\\n\\nVII.\\n    Yet who complains? My heart and I?\\n    In this abundant earth no doubt\\n    Is little room for things worn out:\\n    Disdain them, break them, throw them by\\n    And if before the days grew rough\\n    We once were loved, used, well enough,\\n    I think, we\\'ve fared, my heart and I.\"\\n\"She walks in beauty, like the night\\nOf cloudless climes and starry skies;\\nAnd all that\\'s best of dark and bright\\nMeet in her aspect and her eyes:\\nThus mellow\\'d to that tender light\\nWhich heaven to gaudy day denies.\\n\\nOne shade the more, one ray the less,\\nHad half impaired the nameless grace\\nWhich waves in every raven tress,\\nOr softly lightens o\\'er her face;\\nWhere thoughts serenely sweet express\\nHow pure, how dear their dwelling-place.\\n\\nAnd on that cheek, and o\\'er that brow,\\nSo soft, so calm, yet eloquent,\\nThe smiles that win, the tints that glow,\\nBut tell of days in goodness spent,\\nA mind at peace with all below,\\nA heart whose love is innocent!\"\\n\"GIVE all to love;\\nObey thy heart;\\nFriends, kindred, days,\\nEstate, good fame,\\nPlans, credit, and the Muse—\\nNothing refuse.\\n\\n\\'Tis a brave master;\\nLet it have scope:\\nFollow it utterly,\\nHope beyond hope:\\nHigh and more high\\nIt dives into noon,\\nWith wing unspent,\\nUntold intent;\\nBut it is a god,\\nKnows its own path,\\nAnd the outlets of the sky.\\n\\nIt was never for the mean;\\nIt requireth courage stout,\\nSouls above doubt,\\nValour unbending:\\nSuch \\'twill reward;—\\nThey shall return\\nMore than they were,\\nAnd ever ascending.\\n\\nLeave all for love;\\nYet, hear me, yet,\\nOne word more thy heart behoved,\\nOne pulse more of firm endeavour—\\nKeep thee to-day,\\nTo-morrow, for ever,\\nFree as an Arab\\nOf thy beloved.\\n\\nCling with life to the maid;\\nBut when the surprise,\\nFirst vague shadow of surmise,\\nFlits across her bosom young,\\nOf a joy apart from thee,\\nFree be she, fancy-free;\\nNor thou detain her vesture\\'s hem,\\nNor the palest rose she flung\\nFrom her summer diadem.\\n\\nThough thou loved her as thyself,\\nAs a self of purer clay;\\nThough her parting dims the day,\\nStealing grace from all alive;\\nHeartily know,\\nWhen half-gods go\\nThe gods arrive.\"\\n\"THE gray sea and the long black land;\\nAnd the yellow half-moon large and low;\\nAnd the startled little waves that leap\\nIn fiery ringlets from their sleep,\\nAs I gain the cove with pushing prow,\\nAnd quench its speed i\\' the slushy sand.\\n\\nThen a mile of warm sea-scented beach;\\nThree fields to cross till a farm appears;\\nA tap at the pane, the quick sharp scratch\\nAnd blue spurt of a lighted match,\\nAnd a voice less loud, thro\\' its joys and fears,\\nThan the two hearts beating each to each!\"\\n\"I SAID—Then, dearest, since \\'tis so,\\nSince now at length my fate I know,\\nSince nothing all my love avails,\\nSince all, my life seem\\'d meant for, fails,\\n  Since this was written and needs must be—\\nMy whole heart rises up to bless\\nYour name in pride and thankfulness!\\nTake back the hope you gave,—I claim\\nOnly a memory of the same,\\n—And this beside, if you will not blame;\\n  Your leave for one more last ride with me.\\n\\nMy mistress bent that brow of hers,\\nThose deep dark eyes where pride demurs\\nWhen pity would be softening through,\\nFix\\'d me a breathing-while or two\\n  With life or death in the balance: right!\\nThe blood replenish\\'d me again;\\nMy last thought was at least not vain:\\nI and my mistress, side by side\\nShall be together, breathe and ride,\\nSo, one day more am I deified.\\n  Who knows but the world may end to-night?\\n\\nHush! if you saw some western cloud\\nAll billowy-bosom\\'d, over-bow\\'d\\nBy many benedictions—sun\\'s\\nAnd moon\\'s and evening-star\\'s at once—\\n  And so, you, looking and loving best,\\nConscious grew, your passion drew\\nCloud, sunset, moonrise, star-shine too,\\nDown on you, near and yet more near,\\nTill flesh must fade for heaven was here!—\\nThus leant she and linger\\'d—joy and fear!\\n  Thus lay she a moment on my breast.\\n\\nThen we began to ride. My soul\\nSmooth\\'d itself out, a long-cramp\\'d scroll\\nFreshening and fluttering in the wind.\\nPast hopes already lay behind.\\n  What need to strive with a life awry?\\nHad I said that, had I done this,\\nSo might I gain, so might I miss.\\nMight she have loved me? just as well\\nShe might have hated, who can tell!\\nWhere had I been now if the worst befell?\\n  And here we are riding, she and I.\\n\\nFail I alone, in words and deeds?\\nWhy, all men strive and who succeeds?\\nWe rode; it seem\\'d my spirit flew,\\nSaw other regions, cities new,\\n  As the world rush\\'d by on either side.\\nI thought,—All labour, yet no less\\nBear up beneath their unsuccess.\\nLook at the end of work, contrast\\nThe petty done, the undone vast,\\nThis present of theirs with the hopeful past!\\n  I hoped she would love me; here we ride.\\n\\nWhat hand and brain went ever pair\\'d?\\nWhat heart alike conceived and dared?\\nWhat act proved all its thought had been?\\nWhat will but felt the fleshly screen?\\n  We ride and I see her bosom heave.\\nThere \\'s many a crown for who can reach.\\nTen lines, a statesman\\'s life in each!\\nThe flag stuck on a heap of bones,\\nA soldier\\'s doing! what atones?\\nThey scratch his name on the Abbey-stones.\\n  My riding is better, by their leave.\\n\\nWhat does it all mean, poet? Well,\\nYour brains beat into rhythm, you tell\\nWhat we felt only; you express\\'d\\nYou hold things beautiful the best,\\n  And pace them in rhyme so, side by side.\\n\\'Tis something, nay \\'tis much: but then,\\nHave you yourself what \\'s best for men?\\nAre you—poor, sick, old ere your time—\\nNearer one whit your own sublime\\nThan we who never have turn\\'d a rhyme?\\n  Sing, riding \\'s a joy! For me, I ride.\\n\\nAnd you, great sculptor—so, you gave\\nA score of years to Art, her slave,\\nAnd that \\'s your Venus, whence we turn\\nTo yonder girl that fords the burn!\\n  You acquiesce, and shall I repine?\\nWhat, man of music, you grown gray\\nWith notes and nothing else to say,\\nIs this your sole praise from a friend,\\n\\'Greatly his opera\\'s strains intend,\\nBut in music we know how fashions end!\\'\\n  I gave my youth: but we ride, in fine.\\n\\nWho knows what \\'s fit for us? Had fate\\nProposed bliss here should sublimate\\nMy being—had I sign\\'d the bond—\\nStill one must lead some life beyond,\\n  Have a bliss to die with, dim-descried.\\nThis foot once planted on the goal,\\nThis glory-garland round my soul,\\nCould I descry such? Try and test!\\nI sink back shuddering from the quest.\\nEarth being so good, would heaven seem best?\\n  Now, heaven and she are beyond this ride.\\n\\nAnd yet—she has not spoke so long!\\nWhat if heaven be that, fair and strong\\nAt life\\'s best, with our eyes upturn\\'d\\nWhither life\\'s flower is first discern\\'d,\\n  We, fix\\'d so, ever should so abide?\\nWhat if we still ride on, we two\\nWith life for ever old yet new,\\nChanged not in kind but in degree,\\nThe instant made eternity,—\\nAnd heaven just prove that I and she\\n  Ride, ride together, for ever ride?\\n\"\\n\"There! See the line of lights,\\n A chain of stars down either side the street,\\n Why can\\'t you lift the chain and give it to me,\\n A necklace for my throat? I\\'d twist it round\\n And you could play with it. You smile at me\\n As though I were a little dreamy child\\n Behind whose eyes the fairies live.... And see,\\n The people on the street look up at us\\n All envious. We are a king and queen,\\n Our royal carriage is a motor bus,\\n We watch our subjects with a haughty joy....\\n How still you are! Have you been hard at work\\n And are you tired to-night? It is so long\\n Since I have seen you, four whole days, I think.\\n My heart is crowded full of foolish thoughts\\n Like early flowers in an April meadow,\\n And I must give them to you, all of them,\\n Before they fade. The people I have met,\\n The play I saw, the trivial, shifting things\\n That loom too big or shrink too little, shadows\\n That hurry, gesturing along a wall,\\n Haunting or gay, and yet they all grow real\\n And take their proper size here in my heart\\n When you have seen them.... There\\'s the Plaza now,\\n A lake of light! To-night it almost seems\\n That all the lights are gathered in your eyes,\\n Drawn somehow toward you. See the open park\\n Lying below us with a million lamps\\n Scattered in wise disorder like the stars.\\n We look down on them as God must look down\\n On constellations floating under Him\\n Tangled in clouds.... Come, then, and let us walk\\n Since we have reached the park. It is our garden,\\n All black and blossomless this winter night,\\n But we bring April with us, you and I;\\n We set the whole world on the trail of spring.\\n I think that every path we ever took\\n Has marked our footprints in mysterious fire,\\n Delicate gold that only fairies see.\\n When they wake up at dawn in hollow tree-trunks\\n And come out on the drowsy park, they look\\n Along the empty paths and say, \"\"Oh, here\\n They went, and here, and here, and here! Come, see,\\n Here is their bench, take hands and let us dance\\n About it in a windy ring and make\\n A circle round it only they can cross\\n When they come back again!\"\".... Look at the lake,\\n Do you remember how we watched the swans\\n That night in late October while they slept?\\n Swans must have stately dreams, I think. But now\\n The lake bears only thin reflected lights\\n That shake a little. How I long to take\\n One from the cold black water, new-made gold\\n To give you in your hand! And see, and see,\\n There is a star, deep in the lake, a star!\\n Oh, dimmer than a pearl, if you stoop down\\n Your hand could almost reach it up to me....\\n\\n There was a new frail yellow moon to-night,\\n I wish you could have had it for a cup\\n With stars like dew to fill it to the brim....\\n\\n How cold it is! Even the lights are cold;\\n They have put shawls of fog around them, see!\\n What if the air should grow so dimly white\\n That we would lose our way along the paths\\n Made new by walls of moving mist receding\\n The more we follow.... What a silver night!\\n That was our bench the time you said to me\\n The long new poem, but how different now,\\n How eerie with the curtain of the fog\\n Making it strange to all the friendly trees!\\n There is no wind, and yet great curving scrolls\\n Carve themselves, ever changing, in the mist.\\n Walk on a little, let me stand here watching\\n To see you, too, grown strange to me and far....\\n I used to wonder how the park would be\\n If one night we could have it all alone,\\n No lovers with close arm-encircled waists\\n To whisper and break in upon our dreams.\\n And now we have it! Every wish comes true!\\n We are alone now in a fleecy world;\\n Even the stars have gone. We two alone!\"\\n\"I am not yours, not lost in you,\\nNot lost, although I long to be\\nLost as a candle lit at noon,\\nLost as a snowflake in the sea.\\n\\nYou love me, and I find you still\\nA spirit beautiful and bright,\\nYet I am I, who long to be\\nLost as a light is lost in light.\\n\\nOh plunge me deep in love, put out\\nMy senses, leave me deaf and blind,\\nSwept by the tempest of your love,\\nA taper in a rushing wind.\"\\n\"Time is \\nToo Slow for those who Wait,\\nToo Swift for those who Fear,\\nToo Long for those who Grieve,\\nToo Short for those who Rejoice;\\nBut for those who Love,\\nTime is not. \"\\n\"Love is like water or the air\\nmy townspeople;\\nit cleanses, and dissipates evil gases.\\nIt is like poetry too\\nand for the same reasons.\\nLove is so precious\\nmy townspeople\\nthat if I were you I would\\nhave it under lock and key—\\nlike the air or the Atlantic or\\nlike poetry!\"\\n\"It was many and many a year ago,\\nIn a kingdom by the sea,\\nThat a maiden there lived whom you may know\\nBy the name of ANNABEL LEE;\\nAnd this maiden she lived with no other thought\\nThan to love and be loved by me. I was a child and she was a child,\\nIn this kingdom by the sea;\\nBut we loved with a love that was more than love-\\nI and my Annabel Lee;\\nWith a love that the winged seraphs of heaven\\nCoveted her and me.\\n\\nAnd this was the reason that, long ago,\\nIn this kingdom by the sea,\\nA wind blew out of a cloud, chilling\\nMy beautiful Annabel Lee;\\nSo that her highborn kinsman came\\nAnd bore her away from me,\\nTo shut her up in a sepulchre\\nIn this kingdom by the sea.\\n\\nThe angels, not half so happy in heaven,\\nWent envying her and me-\\nYes!- that was the reason (as all men know,\\nIn this kingdom by the sea)\\nThat the wind came out of the cloud by night,\\nChilling and killing my Annabel Lee.\\n\\nBut our love it was stronger by far than the love\\nOf those who were older than we-\\nOf many far wiser than we-\\nAnd neither the angels in heaven above,\\nNor the demons down under the sea,\\nCan ever dissever my soul from the soul\\nOf the beautiful Annabel Lee.\\n\\nFor the moon never beams without bringing me dreams\\nOf the beautiful Annabel Lee;\\nAnd the stars never rise but I feel the bright eyes\\nOf the beautiful Annabel Lee;\\nAnd so, all the night-tide, I lie down by the side\\nOf my darling- my darling- my life and my bride,\\nIn the sepulchre there by the sea,\\nIn her tomb by the sounding sea.\\n\"\\n\"Gather ye rosebuds while ye may,\\nOld time is still a-flying;\\nAnd this same flower that smiles today\\nTomorrow will be dying.\\n\\nThe glorious lamp of heaven the sun,\\nThe higher he\\'s a-getting,\\nThe sooner will his race be run,\\nAnd nearer he\\'s to setting.\\n\\nThat age is best which is the first,\\nWhen youth and blood are warmer;\\nBut being spent, the worse, and worst\\nTimes still succeed the former.\\n\\nThen be not coy, but use your time,\\nAnd, while ye may, go marry;\\nFor, having lost but once your prime,\\nYou may forever tarry.\"\\n\"Shall I compare thee to a summer\\'s day?\\n  Thou art more lovely and more temperate:\\n  Rough winds do shake the darling buds of May,\\n  And summer\\'s lease hath all too short a date:\\n  Sometime too hot the eye of heaven shines,\\n  And often is his gold complexion dimmed,\\n  And every fair from fair sometime declines,\\n  By chance, or nature\\'s changing course untrimmed:\\n  But thy eternal summer shall not fade,\\n  Nor lose possession of that fair thou ow\\'st,\\n  Nor shall death brag thou wand\\'rest in his shade,\\n  When in eternal lines to time thou grow\\'st,\\n    So long as men can breathe or eyes can see,\\n    So long lives this, and this gives life to thee.\"\\n\"Love is like the wild rose-briar,\\nFriendship like the holly-tree—\\nThe holly is dark when the rose-briar blooms\\nBut which will bloom most constantly?\\n\\nThe wild rose-briar is sweet in spring,\\nIts summer blossoms scent the air;\\nYet wait till winter comes again\\nAnd who will call the wild-briar fair?\\n\\nThen scorn the silly rose-wreath now\\nAnd deck thee with the holly’s sheen,\\nThat when December blights thy brow\\nHe still may leave thy garland green.\"\\n\"I cannot live with You – \\nIt would be Life – \\nAnd Life is over there – \\nBehind the Shelf\\n\\nThe Sexton keeps the Key to – \\nPutting up\\nOur Life – His Porcelain – \\nLike a Cup – \\n\\nDiscarded of the Housewife – \\nQuaint – or Broke – \\nA newer Sevres pleases – \\nOld Ones crack – \\n\\nI could not die – with You – \\nFor One must wait\\nTo shut the Other’s Gaze down – \\nYou – could not – \\n\\nAnd I – could I stand by\\nAnd see You – freeze – \\nWithout my Right of Frost – \\nDeath’s privilege?\\n\\nNor could I rise – with You – \\nBecause Your Face\\nWould put out Jesus’ – \\nThat New Grace\\n\\nGlow plain – and foreign\\nOn my homesick Eye – \\nExcept that You than He\\nShone closer by – \\n\\nThey’d judge Us – How – \\nFor You – served Heaven – You know,\\nOr sought to – \\nI could not – \\n\\nBecause You saturated Sight – \\nAnd I had no more Eyes\\nFor sordid excellence\\nAs Paradise\\n\\nAnd were You lost, I would be – \\nThough My Name\\nRang loudest\\nOn the Heavenly fame – \\n\\nAnd were You – saved – \\nAnd I – condemned to be\\nWhere You were not – \\nThat self – were Hell to Me – \\n\\nSo We must meet apart – \\nYou there – I – here – \\nWith just the Door ajar\\nThat Oceans are – and Prayer – \\nAnd that White Sustenance – \\nDespair – \"\\n\"Wild Nights! Wild Nights!\\nWere I with thee,\\nWild Nights should be\\nOur luxury!\\n\\nFutile the winds\\nTo a heart in port, --\\nDone with the compass,\\nDone with the chart!\\n\\nRowing in Eden!\\nAh! the sea!\\nMight I but moor\\nTo-night in Thee!\"\\n\"He is stark mad, whoever says,\\nThat he hath been in love an hour,\\nYet not that love so soon decays,\\nBut that it can ten in less space devour;\\nWho will believe me, if I swear\\nThat I have had the plague a year?\\nWho would not laugh at me, if I should say\\nI saw a flash of powder burn a day?\\n\\nAh, what a trifle is a heart,\\nIf once into love\\'s hands it come!\\nAll other griefs allow a part\\nTo other griefs, and ask themselves but some;\\nThey come to us, but us love draws;\\nHe swallows us and never chaws;\\nBy him, as by chain\\'d shot, whole ranks do die;\\nHe is the tyrant pike, our hearts the fry.\\n\\nIf \\'twere not so, what did become\\nOf my heart when I first saw thee?\\nI brought a heart into the room,\\nBut from the room I carried none with me.\\nIf it had gone to thee, I know\\nMine would have taught thine heart to show\\nMore pity unto me; but Love, alas!\\nAt one first blow did shiver it as glass.\\n\\nYet nothing can to nothing fall,\\nNor any place be empty quite;\\nTherefore I think my breast hath all\\nThose pieces still, though they be not unite;\\nAnd now, as broken glasses show\\nA hundred lesser faces, so\\nMy rags of heart can like, wish, and adore,\\nBut after one such love, can love no more.\\n\"\\n\"I DO not love thee!—no! I do not love thee!\\nAnd yet when thou art absent I am sad;\\n  And envy even the bright blue sky above thee,\\nWhose quiet stars may see thee and be glad.\\n\\n  I do not love thee!—yet, I know not why,\\nWhate\\'er thou dost seems still well done, to me:\\n  And often in my solitude I sigh\\nThat those I do love are not more like thee!\\n\\n  I do not love thee!—yet, when thou art gone,\\nI hate the sound (though those who speak be dear)\\n  Which breaks the lingering echo of the tone\\nThy voice of music leaves upon my ear.\\n\\n  I do not love thee!—yet thy speaking eyes,\\nWith their deep, bright, and most expressive blue,\\n  Between me and the midnight heaven arise,\\nOftener than any eyes I ever knew.\\n\\n  I know I do not love thee! yet, alas!\\nOthers will scarcely trust my candid heart;\\n  And oft I catch them smiling as they pass,\\nBecause they see me gazing where thou art.\"\\n\"YOU\\'LL love me yet!—and I can tarry\\n  Your love\\'s protracted growing:\\nJune rear\\'d that bunch of flowers you carry,\\n  From seeds of April\\'s sowing.\\n\\nI plant a heartful now: some seed\\n  At least is sure to strike,\\nAnd yield—what you\\'ll not pluck indeed,\\n  Not love, but, may be, like.\\n\\nYou\\'ll look at least on love\\'s remains,\\n  A grave\\'s one violet:\\nYour look?—that pays a thousand pains.\\n  What\\'s death? You\\'ll love me yet!\"\\n\"I celebrate myself, and sing myself,\\n  And what I assume you shall assume,\\n  For every atom belonging to me as good belongs to you.\\n\\n  I loafe and invite my soul,\\n  I lean and loafe at my ease observing a spear of summer grass.\\n\\n  My tongue, every atom of my blood, form\\'d from this soil, this air,\\n  Born here of parents born here from parents the same, and their\\n      parents the same,\\n  I, now thirty-seven years old in perfect health begin,\\n  Hoping to cease not till death.\\n\\n  Creeds and schools in abeyance,\\n  Retiring back a while sufficed at what they are, but never forgotten,\\n  I harbor for good or bad, I permit to speak at every hazard,\\n  Nature without check with original energy.\"\\n\" Houses and rooms are full of perfumes, the shelves are crowded with\\n      perfumes,\\n  I breathe the fragrance myself and know it and like it,\\n  The distillation would intoxicate me also, but I shall not let it.\\n\\n  The atmosphere is not a perfume, it has no taste of the\\n      distillation, it is odorless,\\n  It is for my mouth forever, I am in love with it,\\n  I will go to the bank by the wood and become undisguised and naked,\\n  I am mad for it to be in contact with me.\\n\\n  The smoke of my own breath,\\n  Echoes, ripples, buzz\\'d whispers, love-root, silk-thread, crotch and vine,\\n  My respiration and inspiration, the beating of my heart, the passing\\n      of blood and air through my lungs,\\n  The sniff of green leaves and dry leaves, and of the shore and\\n      dark-color\\'d sea-rocks, and of hay in the barn,\\n\\n  The sound of the belch\\'d words of my voice loos\\'d to the eddies of\\n      the wind,\\n  A few light kisses, a few embraces, a reaching around of arms,\\n  The play of shine and shade on the trees as the supple boughs wag,\\n  The delight alone or in the rush of the streets, or along the fields\\n      and hill-sides,\\n  The feeling of health, the full-noon trill, the song of me rising\\n      from bed and meeting the sun.\\n\\n  Have you reckon\\'d a thousand acres much? have you reckon\\'d the earth much?\\n  Have you practis\\'d so long to learn to read?\\n  Have you felt so proud to get at the meaning of poems?\\n\\n  Stop this day and night with me and you shall possess the origin of\\n      all poems,\\n  You shall possess the good of the earth and sun, (there are millions\\n      of suns left,)\\n  You shall no longer take things at second or third hand, nor look through\\n      the eyes of the dead, nor feed on the spectres in books,\\n  You shall not look through my eyes either, nor take things from me,\\n  You shall listen to all sides and filter them from your self.\"\\n\"  I have heard what the talkers were talking, the talk of the\\n      beginning and the end,\\n  But I do not talk of the beginning or the end.\\n\\n  There was never any more inception than there is now,\\n  Nor any more youth or age than there is now,\\n  And will never be any more perfection than there is now,\\n  Nor any more heaven or hell than there is now.\\n\\n  Urge and urge and urge,\\n  Always the procreant urge of the world.\\n\\n  Out of the dimness opposite equals advance, always substance and\\n      increase, always sex,\\n  Always a knit of identity, always distinction, always a breed of life.\\n  To elaborate is no avail, learn\\'d and unlearn\\'d feel that it is so.\\n\\n  Sure as the most certain sure, plumb in the uprights, well\\n      entretied, braced in the beams,\\n  Stout as a horse, affectionate, haughty, electrical,\\n  I and this mystery here we stand.\\n\\n  Clear and sweet is my soul, and clear and sweet is all that is not my soul.\\n\\n  Lack one lacks both, and the unseen is proved by the seen,\\n  Till that becomes unseen and receives proof in its turn.\\n\\n  Showing the best and dividing it from the worst age vexes age,\\n  Knowing the perfect fitness and equanimity of things, while they\\n      discuss I am silent, and go bathe and admire myself.\\n\\n  Welcome is every organ and attribute of me, and of any man hearty and clean,\\n  Not an inch nor a particle of an inch is vile, and none shall be\\n      less familiar than the rest.\\n\\n  I am satisfied—I see, dance, laugh, sing;\\n  As the hugging and loving bed-fellow sleeps at my side through the night,\\n      and withdraws at the peep of the day with stealthy tread,\\n  Leaving me baskets cover\\'d with white towels swelling the house with\\n      their plenty,\\n  Shall I postpone my acceptation and realization and scream at my eyes,\\n  That they turn from gazing after and down the road,\\n  And forthwith cipher and show me to a cent,\\n  Exactly the value of one and exactly the value of two, and which is ahead?\"\\n\"  Trippers and askers surround me,\\n  People I meet, the effect upon me of my early life or the ward and\\n      city I live in, or the nation,\\n  The latest dates, discoveries, inventions, societies, authors old and new,\\n  My dinner, dress, associates, looks, compliments, dues,\\n  The real or fancied indifference of some man or woman I love,\\n  The sickness of one of my folks or of myself, or ill-doing or loss\\n      or lack of money, or depressions or exaltations,\\n  Battles, the horrors of fratricidal war, the fever of doubtful news,\\n      the fitful events;\\n  These come to me days and nights and go from me again,\\n  But they are not the Me myself.\\n\\n  Apart from the pulling and hauling stands what I am,\\n  Stands amused, complacent, compassionating, idle, unitary,\\n  Looks down, is erect, or bends an arm on an impalpable certain rest,\\n  Looking with side-curved head curious what will come next,\\n  Both in and out of the game and watching and wondering at it.\\n\\n  Backward I see in my own days where I sweated through fog with\\n      linguists and contenders,\\n  I have no mockings or arguments, I witness and wait.\"\\n\"  I believe in you my soul, the other I am must not abase itself to you,\\n  And you must not be abased to the other.\\n\\n  Loafe with me on the grass, loose the stop from your throat,\\n  Not words, not music or rhyme I want, not custom or lecture, not\\n      even the best,\\n  Only the lull I like, the hum of your valved voice.\\n\\n  I mind how once we lay such a transparent summer morning,\\n  How you settled your head athwart my hips and gently turn\\'d over upon me,\\n  And parted the shirt from my bosom-bone, and plunged your tongue\\n      to my bare-stript heart,\\n  And reach\\'d till you felt my beard, and reach\\'d till you held my feet.\\n\\n  Swiftly arose and spread around me the peace and knowledge that pass\\n      all the argument of the earth,\\n  And I know that the hand of God is the promise of my own,\\n  And I know that the spirit of God is the brother of my own,\\n  And that all the men ever born are also my brothers, and the women\\n      my sisters and lovers,\\n  And that a kelson of the creation is love,\\n  And limitless are leaves stiff or drooping in the fields,\\n  And brown ants in the little wells beneath them,\\n  And mossy scabs of the worm fence, heap\\'d stones, elder, mullein and\\n      poke-weed.\"\\n\"  A child said What is the grass? fetching it to me with full hands;\\n  How could I answer the child? I do not know what it is any more than he.\\n\\n  I guess it must be the flag of my disposition, out of hopeful green\\n      stuff woven.\\n\\n  Or I guess it is the handkerchief of the Lord,\\n  A scented gift and remembrancer designedly dropt,\\n  Bearing the owner\\'s name someway in the corners, that we may see\\n      and remark, and say Whose?\\n\\n  Or I guess the grass is itself a child, the produced babe of the vegetation.\\n\\n  Or I guess it is a uniform hieroglyphic,\\n  And it means, Sprouting alike in broad zones and narrow zones,\\n  Growing among black folks as among white,\\n  Kanuck, Tuckahoe, Congressman, Cuff, I give them the same, I\\n      receive them the same.\\n\\n  And now it seems to me the beautiful uncut hair of graves.\\n\\n  Tenderly will I use you curling grass,\\n  It may be you transpire from the breasts of young men,\\n  It may be if I had known them I would have loved them,\\n  It may be you are from old people, or from offspring taken soon out\\n      of their mothers\\' laps,\\n  And here you are the mothers\\' laps.\\n\\n  This grass is very dark to be from the white heads of old mothers,\\n  Darker than the colorless beards of old men,\\n  Dark to come from under the faint red roofs of mouths.\\n\\n  O I perceive after all so many uttering tongues,\\n  And I perceive they do not come from the roofs of mouths for nothing.\\n\\n  I wish I could translate the hints about the dead young men and women,\\n  And the hints about old men and mothers, and the offspring taken\\n      soon out of their laps.\\n\\n  What do you think has become of the young and old men?\\n  And what do you think has become of the women and children?\\n\\n  They are alive and well somewhere,\\n  The smallest sprout shows there is really no death,\\n  And if ever there was it led forward life, and does not wait at the\\n      end to arrest it,\\n  And ceas\\'d the moment life appear\\'d.\\n\\n  All goes onward and outward, nothing collapses,\\n  And to die is different from what any one supposed, and luckier.\"\\n\"  Has any one supposed it lucky to be born?\\n  I hasten to inform him or her it is just as lucky to die, and I know it.\\n\\n  I pass death with the dying and birth with the new-wash\\'d babe, and\\n      am not contain\\'d between my hat and boots,\\n  And peruse manifold objects, no two alike and every one good,\\n  The earth good and the stars good, and their adjuncts all good.\\n\\n  I am not an earth nor an adjunct of an earth,\\n  I am the mate and companion of people, all just as immortal and\\n      fathomless as myself,\\n  (They do not know how immortal, but I know.)\\n\\n  Every kind for itself and its own, for me mine male and female,\\n  For me those that have been boys and that love women,\\n  For me the man that is proud and feels how it stings to be slighted,\\n  For me the sweet-heart and the old maid, for me mothers and the\\n      mothers of mothers,\\n  For me lips that have smiled, eyes that have shed tears,\\n  For me children and the begetters of children.\\n\\n  Undrape! you are not guilty to me, nor stale nor discarded,\\n  I see through the broadcloth and gingham whether or no,\\n  And am around, tenacious, acquisitive, tireless, and cannot be shaken away.\"\\n\"  The little one sleeps in its cradle,\\n  I lift the gauze and look a long time, and silently brush away flies\\n      with my hand.\\n\\n  The youngster and the red-faced girl turn aside up the bushy hill,\\n  I peeringly view them from the top.\\n\\n  The suicide sprawls on the bloody floor of the bedroom,\\n  I witness the corpse with its dabbled hair, I note where the pistol\\n      has fallen.\\n\\n  The blab of the pave, tires of carts, sluff of boot-soles, talk of\\n      the promenaders,\\n  The heavy omnibus, the driver with his interrogating thumb, the\\n      clank of the shod horses on the granite floor,\\n  The snow-sleighs, clinking, shouted jokes, pelts of snow-balls,\\n  The hurrahs for popular favorites, the fury of rous\\'d mobs,\\n  The flap of the curtain\\'d litter, a sick man inside borne to the hospital,\\n  The meeting of enemies, the sudden oath, the blows and fall,\\n  The excited crowd, the policeman with his star quickly working his\\n      passage to the centre of the crowd,\\n  The impassive stones that receive and return so many echoes,\\n  What groans of over-fed or half-starv\\'d who fall sunstruck or in fits,\\n  What exclamations of women taken suddenly who hurry home and\\n      give birth to babes,\\n  What living and buried speech is always vibrating here, what howls\\n      restrain\\'d by decorum,\\n  Arrests of criminals, slights, adulterous offers made, acceptances,\\n      rejections with convex lips,\\n  I mind them or the show or resonance of them—I come and I depart.\\n\"\\n\"  The big doors of the country barn stand open and ready,\\n  The dried grass of the harvest-time loads the slow-drawn wagon,\\n  The clear light plays on the brown gray and green intertinged,\\n  The armfuls are pack\\'d to the sagging mow.\\n\\n  I am there, I help, I came stretch\\'d atop of the load,\\n  I felt its soft jolts, one leg reclined on the other,\\n  I jump from the cross-beams and seize the clover and timothy,\\n  And roll head over heels and tangle my hair full of wisps.\"\\n\"Alone far in the wilds and mountains I hunt,\\n  Wandering amazed at my own lightness and glee,\\n  In the late afternoon choosing a safe spot to pass the night,\\n  Kindling a fire and broiling the fresh-kill\\'d game,\\n  Falling asleep on the gather\\'d leaves with my dog and gun by my side.\\n\\n  The Yankee clipper is under her sky-sails, she cuts the sparkle and scud,\\n  My eyes settle the land, I bend at her prow or shout joyously from the deck.\\n\\n  The boatmen and clam-diggers arose early and stopt for me,\\n  I tuck\\'d my trowser-ends in my boots and went and had a good time;\\n  You should have been with us that day round the chowder-kettle.\\n\\n  I saw the marriage of the trapper in the open air in the far west,\\n      the bride was a red girl,\\n  Her father and his friends sat near cross-legged and dumbly smoking,\\n      they had moccasins to their feet and large thick blankets\\n      hanging from their shoulders,\\n  On a bank lounged the trapper, he was drest mostly in skins, his luxuriant\\n      beard and curls protected his neck, he held his bride by the hand,\\n  She had long eyelashes, her head was bare, her coarse straight locks\\n      descended upon her voluptuous limbs and reach\\'d to her feet.\\n\\n  The runaway slave came to my house and stopt outside,\\n  I heard his motions crackling the twigs of the woodpile,\\n  Through the swung half-door of the kitchen I saw him limpsy and weak,\\n  And went where he sat on a log and led him in and assured him,\\n  And brought water and fill\\'d a tub for his sweated body and bruis\\'d feet,\\n  And gave him a room that enter\\'d from my own, and gave him some\\n      coarse clean clothes,\\n  And remember perfectly well his revolving eyes and his awkwardness,\\n  And remember putting plasters on the galls of his neck and ankles;\\n  He staid with me a week before he was recuperated and pass\\'d north,\\n  I had him sit next me at table, my fire-lock lean\\'d in the corner.\"\\n\"  Twenty-eight young men bathe by the shore,\\n  Twenty-eight young men and all so friendly;\\n  Twenty-eight years of womanly life and all so lonesome.\\n\\n  She owns the fine house by the rise of the bank,\\n  She hides handsome and richly drest aft the blinds of the window.\\n\\n  Which of the young men does she like the best?\\n  Ah the homeliest of them is beautiful to her.\\n\\n  Where are you off to, lady? for I see you,\\n  You splash in the water there, yet stay stock still in your room.\\n\\n  Dancing and laughing along the beach came the twenty-ninth bather,\\n  The rest did not see her, but she saw them and loved them.\\n\\n  The beards of the young men glisten\\'d with wet, it ran from their long hair,\\n  Little streams pass\\'d all over their bodies.\\n\\n  An unseen hand also pass\\'d over their bodies,\\n  It descended tremblingly from their temples and ribs.\\n\\n  The young men float on their backs, their white bellies bulge to the\\n      sun, they do not ask who seizes fast to them,\\n  They do not know who puffs and declines with pendant and bending arch,\\n  They do not think whom they souse with spray.\\n\"\\n\"  The butcher-boy puts off his killing-clothes, or sharpens his knife\\n      at the stall in the market,\\n  I loiter enjoying his repartee and his shuffle and break-down.\\n\\n  Blacksmiths with grimed and hairy chests environ the anvil,\\n  Each has his main-sledge, they are all out, there is a great heat in\\n      the fire.\\n\\n  From the cinder-strew\\'d threshold I follow their movements,\\n  The lithe sheer of their waists plays even with their massive arms,\\n  Overhand the hammers swing, overhand so slow, overhand so sure,\\n  They do not hasten, each man hits in his place.\"\\n\" The negro holds firmly the reins of his four horses, the block swags\\n      underneath on its tied-over chain,\\n  The negro that drives the long dray of the stone-yard, steady and\\n      tall he stands pois\\'d on one leg on the string-piece,\\n  His blue shirt exposes his ample neck and breast and loosens over\\n      his hip-band,\\n  His glance is calm and commanding, he tosses the slouch of his hat\\n      away from his forehead,\\n  The sun falls on his crispy hair and mustache, falls on the black of\\n      his polish\\'d and perfect limbs.\\n\\n  I behold the picturesque giant and love him, and I do not stop there,\\n  I go with the team also.\\n\\n  In me the caresser of life wherever moving, backward as well as\\n      forward sluing,\\n  To niches aside and junior bending, not a person or object missing,\\n  Absorbing all to myself and for this song.\\n\\n  Oxen that rattle the yoke and chain or halt in the leafy shade, what\\n      is that you express in your eyes?\\n  It seems to me more than all the print I have read in my life.\\n\\n  My tread scares the wood-drake and wood-duck on my distant and\\n      day-long ramble,\\n  They rise together, they slowly circle around.\\n\\n  I believe in those wing\\'d purposes,\\n  And acknowledge red, yellow, white, playing within me,\\n  And consider green and violet and the tufted crown intentional,\\n  And do not call the tortoise unworthy because she is not something else,\\n  And the jay in the woods never studied the gamut, yet trills pretty well to me,\\n  And the look of the bay mare shames silliness out of me.\"\\n\"  The wild gander leads his flock through the cool night,\\n  Ya-honk he says, and sounds it down to me like an invitation,\\n  The pert may suppose it meaningless, but I listening close,\\n  Find its purpose and place up there toward the wintry sky.\\n\\n  The sharp-hoof\\'d moose of the north, the cat on the house-sill, the\\n      chickadee, the prairie-dog,\\n  The litter of the grunting sow as they tug at her teats,\\n  The brood of the turkey-hen and she with her half-spread wings,\\n  I see in them and myself the same old law.\\n\\n  The press of my foot to the earth springs a hundred affections,\\n  They scorn the best I can do to relate them.\\n\\n  I am enamour\\'d of growing out-doors,\\n  Of men that live among cattle or taste of the ocean or woods,\\n  Of the builders and steerers of ships and the wielders of axes and\\n      mauls, and the drivers of horses,\\n  I can eat and sleep with them week in and week out.\\n\\n  What is commonest, cheapest, nearest, easiest, is Me,\\n  Me going in for my chances, spending for vast returns,\\n  Adorning myself to bestow myself on the first that will take me,\\n  Not asking the sky to come down to my good will,\\n  Scattering it freely forever.\"\\n\" The pure contralto sings in the organ loft,\\n  The carpenter dresses his plank, the tongue of his foreplane\\n      whistles its wild ascending lisp,\\n  The married and unmarried children ride home to their Thanksgiving dinner,\\n  The pilot seizes the king-pin, he heaves down with a strong arm,\\n  The mate stands braced in the whale-boat, lance and harpoon are ready,\\n  The duck-shooter walks by silent and cautious stretches,\\n  The deacons are ordain\\'d with cross\\'d hands at the altar,\\n  The spinning-girl retreats and advances to the hum of the big wheel,\\n  The farmer stops by the bars as he walks on a First-day loafe and\\n      looks at the oats and rye,\\n  The lunatic is carried at last to the asylum a confirm\\'d case,\\n  (He will never sleep any more as he did in the cot in his mother\\'s\\n      bed-room;)\\n  The jour printer with gray head and gaunt jaws works at his case,\\n  He turns his quid of tobacco while his eyes blurr with the manuscript;\\n  The malform\\'d limbs are tied to the surgeon\\'s table,\\n  What is removed drops horribly in a pail;\\n  The quadroon girl is sold at the auction-stand, the drunkard nods by\\n      the bar-room stove,\\n  The machinist rolls up his sleeves, the policeman travels his beat,\\n      the gate-keeper marks who pass,\\n  The young fellow drives the express-wagon, (I love him, though I do\\n      not know him;)\\n  The half-breed straps on his light boots to compete in the race,\\n  The western turkey-shooting draws old and young, some lean on their\\n      rifles, some sit on logs,\\n  Out from the crowd steps the marksman, takes his position, levels his piece;\\n  The groups of newly-come immigrants cover the wharf or levee,\\n  As the woolly-pates hoe in the sugar-field, the overseer views them\\n      from his saddle,\\n  The bugle calls in the ball-room, the gentlemen run for their\\n      partners, the dancers bow to each other,\\n  The youth lies awake in the cedar-roof\\'d garret and harks to the\\n      musical rain,\\n  The Wolverine sets traps on the creek that helps fill the Huron,\\n  The squaw wrapt in her yellow-hemm\\'d cloth is offering moccasins and\\n      bead-bags for sale,\\n  The connoisseur peers along the exhibition-gallery with half-shut\\n      eyes bent sideways,\\n  As the deck-hands make fast the steamboat the plank is thrown for\\n      the shore-going passengers,\\n  The young sister holds out the skein while the elder sister winds it\\n      off in a ball, and stops now and then for the knots,\\n  The one-year wife is recovering and happy having a week ago borne\\n      her first child,\\n  The clean-hair\\'d Yankee girl works with her sewing-machine or in the\\n      factory or mill,\\n  The paving-man leans on his two-handed rammer, the reporter\\'s lead\\n      flies swiftly over the note-book, the sign-painter is lettering\\n      with blue and gold,\\n  The canal boy trots on the tow-path, the book-keeper counts at his\\n      desk, the shoemaker waxes his thread,\\n  The conductor beats time for the band and all the performers follow him,\\n  The child is baptized, the convert is making his first professions,\\n  The regatta is spread on the bay, the race is begun, (how the white\\n      sails sparkle!)\\n  The drover watching his drove sings out to them that would stray,\\n  The pedler sweats with his pack on his back, (the purchaser higgling\\n      about the odd cent;)\\n  The bride unrumples her white dress, the minute-hand of the clock\\n      moves slowly,\\n  The opium-eater reclines with rigid head and just-open\\'d lips,\\n  The prostitute draggles her shawl, her bonnet bobs on her tipsy and\\n      pimpled neck,\\n  The crowd laugh at her blackguard oaths, the men jeer and wink to\\n      each other,\\n  (Miserable! I do not laugh at your oaths nor jeer you;)\\n  The President holding a cabinet council is surrounded by the great\\n      Secretaries,\\n  On the piazza walk three matrons stately and friendly with twined arms,\\n  The crew of the fish-smack pack repeated layers of halibut in the hold,\\n  The Missourian crosses the plains toting his wares and his cattle,\\n  As the fare-collector goes through the train he gives notice by the\\n      jingling of loose change,\\n  The floor-men are laying the floor, the tinners are tinning the\\n      roof, the masons are calling for mortar,\\n  In single file each shouldering his hod pass onward the laborers;\\n  Seasons pursuing each other the indescribable crowd is gather\\'d, it\\n      is the fourth of Seventh-month, (what salutes of cannon and small arms!)\\n  Seasons pursuing each other the plougher ploughs, the mower mows,\\n      and the winter-grain falls in the ground;\\n  Off on the lakes the pike-fisher watches and waits by the hole in\\n      the frozen surface,\\n  The stumps stand thick round the clearing, the squatter strikes deep\\n      with his axe,\\n  Flatboatmen make fast towards dusk near the cotton-wood or pecan-trees,\\n  Coon-seekers go through the regions of the Red river or through\\n      those drain\\'d by the Tennessee, or through those of the Arkansas,\\n  Torches shine in the dark that hangs on the Chattahooche or Altamahaw,\\n  Patriarchs sit at supper with sons and grandsons and great-grandsons\\n      around them,\\n  In walls of adobie, in canvas tents, rest hunters and trappers after\\n      their day\\'s sport,\\n  The city sleeps and the country sleeps,\\n  The living sleep for their time, the dead sleep for their time,\\n  The old husband sleeps by his wife and the young husband sleeps by his wife;\\n  And these tend inward to me, and I tend outward to them,\\n  And such as it is to be of these more or less I am,\\n  And of these one and all I weave the song of myself.\"\\n\"  I am of old and young, of the foolish as much as the wise,\\n  Regardless of others, ever regardful of others,\\n  Maternal as well as paternal, a child as well as a man,\\n  Stuff\\'d with the stuff that is coarse and stuff\\'d with the stuff\\n      that is fine,\\n  One of the Nation of many nations, the smallest the same and the\\n      largest the same,\\n  A Southerner soon as a Northerner, a planter nonchalant and\\n      hospitable down by the Oconee I live,\\n  A Yankee bound my own way ready for trade, my joints the limberest\\n      joints on earth and the sternest joints on earth,\\n  A Kentuckian walking the vale of the Elkhorn in my deer-skin\\n      leggings, a Louisianian or Georgian,\\n  A boatman over lakes or bays or along coasts, a Hoosier, Badger, Buckeye;\\n  At home on Kanadian snow-shoes or up in the bush, or with fishermen\\n      off Newfoundland,\\n  At home in the fleet of ice-boats, sailing with the rest and tacking,\\n  At home on the hills of Vermont or in the woods of Maine, or the\\n      Texan ranch,\\n  Comrade of Californians, comrade of free North-Westerners, (loving\\n      their big proportions,)\\n  Comrade of raftsmen and coalmen, comrade of all who shake hands\\n      and welcome to drink and meat,\\n  A learner with the simplest, a teacher of the thoughtfullest,\\n  A novice beginning yet experient of myriads of seasons,\\n  Of every hue and caste am I, of every rank and religion,\\n  A farmer, mechanic, artist, gentleman, sailor, quaker,\\n  Prisoner, fancy-man, rowdy, lawyer, physician, priest.\\n\\n  I resist any thing better than my own diversity,\\n  Breathe the air but leave plenty after me,\\n  And am not stuck up, and am in my place.\\n\\n  (The moth and the fish-eggs are in their place,\\n  The bright suns I see and the dark suns I cannot see are in their place,\\n  The palpable is in its place and the impalpable is in its place.)\"\\n\"  These are really the thoughts of all men in all ages and lands, they\\n      are not original with me,\\n  If they are not yours as much as mine they are nothing, or next to nothing,\\n  If they are not the riddle and the untying of the riddle they are nothing,\\n  If they are not just as close as they are distant they are nothing.\\n\\n  This is the grass that grows wherever the land is and the water is,\\n  This the common air that bathes the globe.\"\\n\" With music strong I come, with my cornets and my drums,\\n  I play not marches for accepted victors only, I play marches for\\n      conquer\\'d and slain persons.\\n\\n  Have you heard that it was good to gain the day?\\n  I also say it is good to fall, battles are lost in the same spirit\\n      in which they are won.\\n\\n  I beat and pound for the dead,\\n  I blow through my embouchures my loudest and gayest for them.\\n\\n  Vivas to those who have fail\\'d!\\n  And to those whose war-vessels sank in the sea!\\n  And to those themselves who sank in the sea!\\n  And to all generals that lost engagements, and all overcome heroes!\\n  And the numberless unknown heroes equal to the greatest heroes known!\"\\n\"  This is the meal equally set, this the meat for natural hunger,\\n  It is for the wicked just same as the righteous, I make appointments\\n      with all,\\n  I will not have a single person slighted or left away,\\n  The kept-woman, sponger, thief, are hereby invited,\\n  The heavy-lipp\\'d slave is invited, the venerealee is invited;\\n  There shall be no difference between them and the rest.\\n\\n  This is the press of a bashful hand, this the float and odor of hair,\\n  This the touch of my lips to yours, this the murmur of yearning,\\n  This the far-off depth and height reflecting my own face,\\n  This the thoughtful merge of myself, and the outlet again.\\n\\n  Do you guess I have some intricate purpose?\\n  Well I have, for the Fourth-month showers have, and the mica on the\\n      side of a rock has.\\n\\n  Do you take it I would astonish?\\n  Does the daylight astonish? does the early redstart twittering\\n      through the woods?\\n  Do I astonish more than they?\\n\\n  This hour I tell things in confidence,\\n  I might not tell everybody, but I will tell you.\"\\n\"   Who goes there? hankering, gross, mystical, nude;\\n  How is it I extract strength from the beef I eat?\\n\\n  What is a man anyhow? what am I? what are you?\\n\\n  All I mark as my own you shall offset it with your own,\\n  Else it were time lost listening to me.\\n\\n  I do not snivel that snivel the world over,\\n  That months are vacuums and the ground but wallow and filth.\\n\\n  Whimpering and truckling fold with powders for invalids, conformity\\n      goes to the fourth-remov\\'d,\\n  I wear my hat as I please indoors or out.\\n\\n  Why should I pray? why should I venerate and be ceremonious?\\n\\n  Having pried through the strata, analyzed to a hair, counsel\\'d with\\n      doctors and calculated close,\\n  I find no sweeter fat than sticks to my own bones.\\n\\n  In all people I see myself, none more and not one a barley-corn less,\\n  And the good or bad I say of myself I say of them.\\n\\n  I know I am solid and sound,\\n  To me the converging objects of the universe perpetually flow,\\n  All are written to me, and I must get what the writing means.\\n\\n  I know I am deathless,\\n  I know this orbit of mine cannot be swept by a carpenter\\'s compass,\\n  I know I shall not pass like a child\\'s carlacue cut with a burnt\\n      stick at night.\\n\\n  I know I am august,\\n  I do not trouble my spirit to vindicate itself or be understood,\\n  I see that the elementary laws never apologize,\\n  (I reckon I behave no prouder than the level I plant my house by,\\n      after all.)\\n\\n  I exist as I am, that is enough,\\n  If no other in the world be aware I sit content,\\n  And if each and all be aware I sit content.\\n\\n  One world is aware and by far the largest to me, and that is myself,\\n  And whether I come to my own to-day or in ten thousand or ten\\n      million years,\\n  I can cheerfully take it now, or with equal cheerfulness I can wait.\\n\\n  My foothold is tenon\\'d and mortis\\'d in granite,\\n  I laugh at what you call dissolution,\\n  And I know the amplitude of time.\"\\n\"  I am the poet of the Body and I am the poet of the Soul,\\n  The pleasures of heaven are with me and the pains of hell are with me,\\n  The first I graft and increase upon myself, the latter I translate\\n      into new tongue.\\n\\n  I am the poet of the woman the same as the man,\\n  And I say it is as great to be a woman as to be a man,\\n  And I say there is nothing greater than the mother of men.\\n\\n  I chant the chant of dilation or pride,\\n  We have had ducking and deprecating about enough,\\n  I show that size is only development.\\n\\n  Have you outstript the rest? are you the President?\\n  It is a trifle, they will more than arrive there every one, and\\n      still pass on.\\n\\n  I am he that walks with the tender and growing night,\\n  I call to the earth and sea half-held by the night.\\n\\n  Press close bare-bosom\\'d night—press close magnetic nourishing night!\\n  Night of south winds—night of the large few stars!\\n  Still nodding night—mad naked summer night.\\n\\n  Smile O voluptuous cool-breath\\'d earth!\\n  Earth of the slumbering and liquid trees!\\n  Earth of departed sunset—earth of the mountains misty-topt!\\n  Earth of the vitreous pour of the full moon just tinged with blue!\\n  Earth of shine and dark mottling the tide of the river!\\n  Earth of the limpid gray of clouds brighter and clearer for my sake!\\n  Far-swooping elbow\\'d earth—rich apple-blossom\\'d earth!\\n  Smile, for your lover comes.\\n\\n  Prodigal, you have given me love—therefore I to you give love!\\n  O unspeakable passionate love.\\n\\n  Thruster holding me tight and that I hold tight!\\n  We hurt each other as the bridegroom and the bride hurt each other.\"\\n\"  You sea! I resign myself to you also—I guess what you mean,\\n  I behold from the beach your crooked fingers,\\n  I believe you refuse to go back without feeling of me,\\n  We must have a turn together, I undress, hurry me out of sight of the land,\\n  Cushion me soft, rock me in billowy drowse,\\n  Dash me with amorous wet, I can repay you.\\n\\n  Sea of stretch\\'d ground-swells,\\n  Sea breathing broad and convulsive breaths,\\n  Sea of the brine of life and of unshovell\\'d yet always-ready graves,\\n  Howler and scooper of storms, capricious and dainty sea,\\n  I am integral with you, I too am of one phase and of all phases.\\n\\n  Partaker of influx and efflux I, extoller of hate and conciliation,\\n  Extoller of amies and those that sleep in each others\\' arms.\\n\\n  I am he attesting sympathy,\\n  (Shall I make my list of things in the house and skip the house that\\n      supports them?)\\n\\n  I am not the poet of goodness only, I do not decline to be the poet\\n      of wickedness also.\\n\\n  What blurt is this about virtue and about vice?\\n  Evil propels me and reform of evil propels me, I stand indifferent,\\n  My gait is no fault-finder\\'s or rejecter\\'s gait,\\n  I moisten the roots of all that has grown.\\n\\n  Did you fear some scrofula out of the unflagging pregnancy?\\n  Did you guess the celestial laws are yet to be work\\'d over and rectified?\\n\\n  I find one side a balance and the antipedal side a balance,\\n  Soft doctrine as steady help as stable doctrine,\\n  Thoughts and deeds of the present our rouse and early start.\\n\\n  This minute that comes to me over the past decillions,\\n  There is no better than it and now.\\n\\n  What behaved well in the past or behaves well to-day is not such wonder,\\n  The wonder is always and always how there can be a mean man or an infidel.\"\\n\"  Endless unfolding of words of ages!\\n  And mine a word of the modern, the word En-Masse.\\n\\n  A word of the faith that never balks,\\n  Here or henceforward it is all the same to me, I accept Time absolutely.\\n\\n  It alone is without flaw, it alone rounds and completes all,\\n  That mystic baffling wonder alone completes all.\\n\\n  I accept Reality and dare not question it,\\n  Materialism first and last imbuing.\\n\\n  Hurrah for positive science! long live exact demonstration!\\n  Fetch stonecrop mixt with cedar and branches of lilac,\\n  This is the lexicographer, this the chemist, this made a grammar of\\n      the old cartouches,\\n  These mariners put the ship through dangerous unknown seas.\\n  This is the geologist, this works with the scalper, and this is a\\n      mathematician.\\n\\n  Gentlemen, to you the first honors always!\\n  Your facts are useful, and yet they are not my dwelling,\\n  I but enter by them to an area of my dwelling.\\n\\n  Less the reminders of properties told my words,\\n  And more the reminders they of life untold, and of freedom and extrication,\\n  And make short account of neuters and geldings, and favor men and\\n      women fully equipt,\\n  And beat the gong of revolt, and stop with fugitives and them that\\n      plot and conspire.\"\\n\"  Walt Whitman, a kosmos, of Manhattan the son,\\n  Turbulent, fleshy, sensual, eating, drinking and breeding,\\n  No sentimentalist, no stander above men and women or apart from them,\\n  No more modest than immodest.\\n\\n  Unscrew the locks from the doors!\\n  Unscrew the doors themselves from their jambs!\\n\\n  Whoever degrades another degrades me,\\n  And whatever is done or said returns at last to me.\\n\\n  Through me the afflatus surging and surging, through me the current\\n      and index.\\n\\n  I speak the pass-word primeval, I give the sign of democracy,\\n  By God! I will accept nothing which all cannot have their\\n      counterpart of on the same terms.\\n\\n  Through me many long dumb voices,\\n  Voices of the interminable generations of prisoners and slaves,\\n  Voices of the diseas\\'d and despairing and of thieves and dwarfs,\\n  Voices of cycles of preparation and accretion,\\n  And of the threads that connect the stars, and of wombs and of the\\n      father-stuff,\\n  And of the rights of them the others are down upon,\\n  Of the deform\\'d, trivial, flat, foolish, despised,\\n  Fog in the air, beetles rolling balls of dung.\\n\\n  Through me forbidden voices,\\n  Voices of sexes and lusts, voices veil\\'d and I remove the veil,\\n  Voices indecent by me clarified and transfigur\\'d.\\n\\n  I do not press my fingers across my mouth,\\n  I keep as delicate around the bowels as around the head and heart,\\n  Copulation is no more rank to me than death is.\\n\\n  I believe in the flesh and the appetites,\\n  Seeing, hearing, feeling, are miracles, and each part and tag of me\\n      is a miracle.\\n\\n  Divine am I inside and out, and I make holy whatever I touch or am\\n      touch\\'d from,\\n  The scent of these arm-pits aroma finer than prayer,\\n  This head more than churches, bibles, and all the creeds.\\n\\n  If I worship one thing more than another it shall be the spread of\\n      my own body, or any part of it,\\n  Translucent mould of me it shall be you!\\n  Shaded ledges and rests it shall be you!\\n  Firm masculine colter it shall be you!\\n  Whatever goes to the tilth of me it shall be you!\\n  You my rich blood! your milky stream pale strippings of my life!\\n  Breast that presses against other breasts it shall be you!\\n  My brain it shall be your occult convolutions!\\n  Root of wash\\'d sweet-flag! timorous pond-snipe! nest of guarded\\n      duplicate eggs! it shall be you!\\n  Mix\\'d tussled hay of head, beard, brawn, it shall be you!\\n  Trickling sap of maple, fibre of manly wheat, it shall be you!\\n  Sun so generous it shall be you!\\n  Vapors lighting and shading my face it shall be you!\\n  You sweaty brooks and dews it shall be you!\\n  Winds whose soft-tickling genitals rub against me it shall be you!\\n  Broad muscular fields, branches of live oak, loving lounger in my\\n      winding paths, it shall be you!\\n  Hands I have taken, face I have kiss\\'d, mortal I have ever touch\\'d,\\n      it shall be you.\\n\\n  I dote on myself, there is that lot of me and all so luscious,\\n  Each moment and whatever happens thrills me with joy,\\n  I cannot tell how my ankles bend, nor whence the cause of my faintest wish,\\n  Nor the cause of the friendship I emit, nor the cause of the\\n      friendship I take again.\\n\\n  That I walk up my stoop, I pause to consider if it really be,\\n  A morning-glory at my window satisfies me more than the metaphysics\\n      of books.\\n\\n  To behold the day-break!\\n  The little light fades the immense and diaphanous shadows,\\n  The air tastes good to my palate.\\n\\n  Hefts of the moving world at innocent gambols silently rising\\n      freshly exuding,\\n  Scooting obliquely high and low.\\n\\n  Something I cannot see puts upward libidinous prongs,\\n  Seas of bright juice suffuse heaven.\\n\\n  The earth by the sky staid with, the daily close of their junction,\\n  The heav\\'d challenge from the east that moment over my head,\\n  The mocking taunt, See then whether you shall be master!\"\\n\" Dazzling and tremendous how quick the sun-rise would kill me,\\n  If I could not now and always send sun-rise out of me.\\n\\n  We also ascend dazzling and tremendous as the sun,\\n  We found our own O my soul in the calm and cool of the daybreak.\\n\\n  My voice goes after what my eyes cannot reach,\\n  With the twirl of my tongue I encompass worlds and volumes of worlds.\\n\\n  Speech is the twin of my vision, it is unequal to measure itself,\\n  It provokes me forever, it says sarcastically,\\n  Walt you contain enough, why don\\'t you let it out then?\\n\\n  Come now I will not be tantalized, you conceive too much of\\n      articulation,\\n  Do you not know O speech how the buds beneath you are folded?\\n  Waiting in gloom, protected by frost,\\n  The dirt receding before my prophetical screams,\\n  I underlying causes to balance them at last,\\n  My knowledge my live parts, it keeping tally with the meaning of all things,\\n  Happiness, (which whoever hears me let him or her set out in search\\n      of this day.)\\n\\n  My final merit I refuse you, I refuse putting from me what I really am,\\n  Encompass worlds, but never try to encompass me,\\n  I crowd your sleekest and best by simply looking toward you.\\n\\n  Writing and talk do not prove me,\\n  I carry the plenum of proof and every thing else in my face,\\n  With the hush of my lips I wholly confound the skeptic.\"\\n\"  Now I will do nothing but listen,\\n  To accrue what I hear into this song, to let sounds contribute toward it.\\n\\n  I hear bravuras of birds, bustle of growing wheat, gossip of flames,\\n      clack of sticks cooking my meals,\\n  I hear the sound I love, the sound of the human voice,\\n  I hear all sounds running together, combined, fused or following,\\n  Sounds of the city and sounds out of the city, sounds of the day and night,\\n  Talkative young ones to those that like them, the loud laugh of\\n      work-people at their meals,\\n  The angry base of disjointed friendship, the faint tones of the sick,\\n  The judge with hands tight to the desk, his pallid lips pronouncing\\n      a death-sentence,\\n  The heave\\'e\\'yo of stevedores unlading ships by the wharves, the\\n      refrain of the anchor-lifters,\\n  The ring of alarm-bells, the cry of fire, the whirr of swift-streaking\\n      engines and hose-carts with premonitory tinkles and color\\'d lights,\\n  The steam-whistle, the solid roll of the train of approaching cars,\\n  The slow march play\\'d at the head of the association marching two and two,\\n  (They go to guard some corpse, the flag-tops are draped with black muslin.)\\n\\n  I hear the violoncello, (\\'tis the young man\\'s heart\\'s complaint,)\\n  I hear the key\\'d cornet, it glides quickly in through my ears,\\n  It shakes mad-sweet pangs through my belly and breast.\\n\\n  I hear the chorus, it is a grand opera,\\n  Ah this indeed is music—this suits me.\\n\\n  A tenor large and fresh as the creation fills me,\\n  The orbic flex of his mouth is pouring and filling me full.\\n\\n  I hear the train\\'d soprano (what work with hers is this?)\\n  The orchestra whirls me wider than Uranus flies,\\n  It wrenches such ardors from me I did not know I possess\\'d them,\\n  It sails me, I dab with bare feet, they are lick\\'d by the indolent waves,\\n  I am cut by bitter and angry hail, I lose my breath,\\n  Steep\\'d amid honey\\'d morphine, my windpipe throttled in fakes of death,\\n  At length let up again to feel the puzzle of puzzles,\\n  And that we call Being.\"\\n\"To be in any form, what is that?\\n  (Round and round we go, all of us, and ever come back thither,)\\n  If nothing lay more develop\\'d the quahaug in its callous shell were enough.\\n\\n  Mine is no callous shell,\\n  I have instant conductors all over me whether I pass or stop,\\n  They seize every object and lead it harmlessly through me.\\n\\n  I merely stir, press, feel with my fingers, and am happy,\\n  To touch my person to some one else\\'s is about as much as I can stand.\"\\n\"  Is this then a touch? quivering me to a new identity,\\n  Flames and ether making a rush for my veins,\\n  Treacherous tip of me reaching and crowding to help them,\\n  My flesh and blood playing out lightning to strike what is hardly\\n      different from myself,\\n  On all sides prurient provokers stiffening my limbs,\\n  Straining the udder of my heart for its withheld drip,\\n  Behaving licentious toward me, taking no denial,\\n  Depriving me of my best as for a purpose,\\n  Unbuttoning my clothes, holding me by the bare waist,\\n  Deluding my confusion with the calm of the sunlight and pasture-fields,\\n  Immodestly sliding the fellow-senses away,\\n  They bribed to swap off with touch and go and graze at the edges of me,\\n  No consideration, no regard for my draining strength or my anger,\\n  Fetching the rest of the herd around to enjoy them a while,\\n  Then all uniting to stand on a headland and worry me.\\n\\n  The sentries desert every other part of me,\\n  They have left me helpless to a red marauder,\\n  They all come to the headland to witness and assist against me.\\n\\n  I am given up by traitors,\\n  I talk wildly, I have lost my wits, I and nobody else am the\\n      greatest traitor,\\n  I went myself first to the headland, my own hands carried me there.\\n\\n  You villain touch! what are you doing? my breath is tight in its throat,\\n  Unclench your floodgates, you are too much for me.\"\\n\"  Blind loving wrestling touch, sheath\\'d hooded sharp-tooth\\'d touch!\\n  Did it make you ache so, leaving me?\\n\\n  Parting track\\'d by arriving, perpetual payment of perpetual loan,\\n  Rich showering rain, and recompense richer afterward.\\n\\n  Sprouts take and accumulate, stand by the curb prolific and vital,\\n  Landscapes projected masculine, full-sized and golden.\"\\n\"  All truths wait in all things,\\n  They neither hasten their own delivery nor resist it,\\n  They do not need the obstetric forceps of the surgeon,\\n  The insignificant is as big to me as any,\\n  (What is less or more than a touch?)\\n\\n  Logic and sermons never convince,\\n  The damp of the night drives deeper into my soul.\\n\\n  (Only what proves itself to every man and woman is so,\\n  Only what nobody denies is so.)\\n\\n  A minute and a drop of me settle my brain,\\n  I believe the soggy clods shall become lovers and lamps,\\n  And a compend of compends is the meat of a man or woman,\\n  And a summit and flower there is the feeling they have for each other,\\n  And they are to branch boundlessly out of that lesson until it\\n      becomes omnific,\\n  And until one and all shall delight us, and we them.\"\\n\"  I believe a leaf of grass is no less than the journey work of the stars,\\n  And the pismire is equally perfect, and a grain of sand, and the egg\\n      of the wren,\\n  And the tree-toad is a chef-d\\'oeuvre for the highest,\\n  And the running blackberry would adorn the parlors of heaven,\\n  And the narrowest hinge in my hand puts to scorn all machinery,\\n  And the cow crunching with depress\\'d head surpasses any statue,\\n  And a mouse is miracle enough to stagger sextillions of infidels.\\n\\n  I find I incorporate gneiss, coal, long-threaded moss, fruits,\\n      grains, esculent roots,\\n  And am stucco\\'d with quadrupeds and birds all over,\\n  And have distanced what is behind me for good reasons,\\n  But call any thing back again when I desire it.\\n\\n  In vain the speeding or shyness,\\n  In vain the plutonic rocks send their old heat against my approach,\\n  In vain the mastodon retreats beneath its own powder\\'d bones,\\n  In vain objects stand leagues off and assume manifold shapes,\\n  In vain the ocean settling in hollows and the great monsters lying low,\\n  In vain the buzzard houses herself with the sky,\\n  In vain the snake slides through the creepers and logs,\\n  In vain the elk takes to the inner passes of the woods,\\n  In vain the razor-bill\\'d auk sails far north to Labrador,\\n  I follow quickly, I ascend to the nest in the fissure of the cliff.\"\\n\"  I think I could turn and live with animals, they are so placid and\\n      self-contain\\'d,\\n  I stand and look at them long and long.\\n\\n  They do not sweat and whine about their condition,\\n  They do not lie awake in the dark and weep for their sins,\\n  They do not make me sick discussing their duty to God,\\n  Not one is dissatisfied, not one is demented with the mania of\\n      owning things,\\n  Not one kneels to another, nor to his kind that lived thousands of\\n      years ago,\\n  Not one is respectable or unhappy over the whole earth.\\n\\n  So they show their relations to me and I accept them,\\n  They bring me tokens of myself, they evince them plainly in their\\n      possession.\\n\\n  I wonder where they get those tokens,\\n  Did I pass that way huge times ago and negligently drop them?\\n\\n  Myself moving forward then and now and forever,\\n  Gathering and showing more always and with velocity,\\n  Infinite and omnigenous, and the like of these among them,\\n  Not too exclusive toward the reachers of my remembrancers,\\n  Picking out here one that I love, and now go with him on brotherly terms.\\n\\n  A gigantic beauty of a stallion, fresh and responsive to my caresses,\\n  Head high in the forehead, wide between the ears,\\n  Limbs glossy and supple, tail dusting the ground,\\n  Eyes full of sparkling wickedness, ears finely cut, flexibly moving.\\n\\n  His nostrils dilate as my heels embrace him,\\n  His well-built limbs tremble with pleasure as we race around and return.\\n\\n  I but use you a minute, then I resign you, stallion,\\n  Why do I need your paces when I myself out-gallop them?\\n  Even as I stand or sit passing faster than you.\"\\n\"  Space and Time! now I see it is true, what I guess\\'d at,\\n  What I guess\\'d when I loaf\\'d on the grass,\\n  What I guess\\'d while I lay alone in my bed,\\n  And again as I walk\\'d the beach under the paling stars of the morning.\\n\\n  My ties and ballasts leave me, my elbows rest in sea-gaps,\\n  I skirt sierras, my palms cover continents,\\n  I am afoot with my vision.\\n\\n  By the city\\'s quadrangular houses—in log huts, camping with lumber-men,\\n  Along the ruts of the turnpike, along the dry gulch and rivulet bed,\\n  Weeding my onion-patch or hosing rows of carrots and parsnips,\\n      crossing savannas, trailing in forests,\\n  Prospecting, gold-digging, girdling the trees of a new purchase,\\n  Scorch\\'d ankle-deep by the hot sand, hauling my boat down the\\n      shallow river,\\n  Where the panther walks to and fro on a limb overhead, where the\\n      buck turns furiously at the hunter,\\n  Where the rattlesnake suns his flabby length on a rock, where the\\n      otter is feeding on fish,\\n  Where the alligator in his tough pimples sleeps by the bayou,\\n  Where the black bear is searching for roots or honey, where the\\n      beaver pats the mud with his paddle-shaped tall;\\n  Over the growing sugar, over the yellow-flower\\'d cotton plant, over\\n      the rice in its low moist field,\\n  Over the sharp-peak\\'d farm house, with its scallop\\'d scum and\\n      slender shoots from the gutters,\\n  Over the western persimmon, over the long-leav\\'d corn, over the\\n      delicate blue-flower flax,\\n  Over the white and brown buckwheat, a hummer and buzzer there with\\n      the rest,\\n  Over the dusky green of the rye as it ripples and shades in the breeze;\\n  Scaling mountains, pulling myself cautiously up, holding on by low\\n      scragged limbs,\\n  Walking the path worn in the grass and beat through the leaves of the brush,\\n  Where the quail is whistling betwixt the woods and the wheat-lot,\\n  Where the bat flies in the Seventh-month eve, where the great\\n      goldbug drops through the dark,\\n  Where the brook puts out of the roots of the old tree and flows to\\n      the meadow,\\n  Where cattle stand and shake away flies with the tremulous\\n      shuddering of their hides,\\n  Where the cheese-cloth hangs in the kitchen, where andirons straddle\\n      the hearth-slab, where cobwebs fall in festoons from the rafters;\\n  Where trip-hammers crash, where the press is whirling its cylinders,\\n  Wherever the human heart beats with terrible throes under its ribs,\\n  Where the pear-shaped balloon is floating aloft, (floating in it\\n      myself and looking composedly down,)\\n  Where the life-car is drawn on the slip-noose, where the heat\\n      hatches pale-green eggs in the dented sand,\\n  Where the she-whale swims with her calf and never forsakes it,\\n  Where the steam-ship trails hind-ways its long pennant of smoke,\\n  Where the fin of the shark cuts like a black chip out of the water,\\n  Where the half-burn\\'d brig is riding on unknown currents,\\n  Where shells grow to her slimy deck, where the dead are corrupting below;\\n  Where the dense-starr\\'d flag is borne at the head of the regiments,\\n  Approaching Manhattan up by the long-stretching island,\\n  Under Niagara, the cataract falling like a veil over my countenance,\\n  Upon a door-step, upon the horse-block of hard wood outside,\\n  Upon the race-course, or enjoying picnics or jigs or a good game of\\n      base-ball,\\n  At he-festivals, with blackguard gibes, ironical license,\\n      bull-dances, drinking, laughter,\\n  At the cider-mill tasting the sweets of the brown mash, sucking the\\n      juice through a straw,\\n  At apple-peelings wanting kisses for all the red fruit I find,\\n  At musters, beach-parties, friendly bees, huskings, house-raisings;\\n  Where the mocking-bird sounds his delicious gurgles, cackles,\\n      screams, weeps,\\n  Where the hay-rick stands in the barn-yard, where the dry-stalks are\\n      scatter\\'d, where the brood-cow waits in the hovel,\\n  Where the bull advances to do his masculine work, where the stud to\\n      the mare, where the cock is treading the hen,\\n  Where the heifers browse, where geese nip their food with short jerks,\\n  Where sun-down shadows lengthen over the limitless and lonesome prairie,\\n  Where herds of buffalo make a crawling spread of the square miles\\n      far and near,\\n  Where the humming-bird shimmers, where the neck of the long-lived\\n      swan is curving and winding,\\n  Where the laughing-gull scoots by the shore, where she laughs her\\n      near-human laugh,\\n  Where bee-hives range on a gray bench in the garden half hid by the\\n      high weeds,\\n  Where band-neck\\'d partridges roost in a ring on the ground with\\n      their heads out,\\n  Where burial coaches enter the arch\\'d gates of a cemetery,\\n  Where winter wolves bark amid wastes of snow and icicled trees,\\n  Where the yellow-crown\\'d heron comes to the edge of the marsh at\\n      night and feeds upon small crabs,\\n  Where the splash of swimmers and divers cools the warm noon,\\n  Where the katy-did works her chromatic reed on the walnut-tree over\\n      the well,\\n  Through patches of citrons and cucumbers with silver-wired leaves,\\n  Through the salt-lick or orange glade, or under conical firs,\\n  Through the gymnasium, through the curtain\\'d saloon, through the\\n      office or public hall;\\n  Pleas\\'d with the native and pleas\\'d with the foreign, pleas\\'d with\\n      the new and old,\\n  Pleas\\'d with the homely woman as well as the handsome,\\n  Pleas\\'d with the quakeress as she puts off her bonnet and talks melodiously,\\n  Pleas\\'d with the tune of the choir of the whitewash\\'d church,\\n  Pleas\\'d with the earnest words of the sweating Methodist preacher,\\n      impress\\'d seriously at the camp-meeting;\\n  Looking in at the shop-windows of Broadway the whole forenoon,\\n      flatting the flesh of my nose on the thick plate glass,\\n  Wandering the same afternoon with my face turn\\'d up to the clouds,\\n      or down a lane or along the beach,\\n  My right and left arms round the sides of two friends, and I in the middle;\\n  Coming home with the silent and dark-cheek\\'d bush-boy, (behind me\\n      he rides at the drape of the day,)\\n  Far from the settlements studying the print of animals\\' feet, or the\\n      moccasin print,\\n  By the cot in the hospital reaching lemonade to a feverish patient,\\n  Nigh the coffin\\'d corpse when all is still, examining with a candle;\\n  Voyaging to every port to dicker and adventure,\\n  Hurrying with the modern crowd as eager and fickle as any,\\n  Hot toward one I hate, ready in my madness to knife him,\\n  Solitary at midnight in my back yard, my thoughts gone from me a long while,\\n  Walking the old hills of Judaea with the beautiful gentle God by my side,\\n  Speeding through space, speeding through heaven and the stars,\\n  Speeding amid the seven satellites and the broad ring, and the\\n      diameter of eighty thousand miles,\\n  Speeding with tail\\'d meteors, throwing fire-balls like the rest,\\n  Carrying the crescent child that carries its own full mother in its belly,\\n  Storming, enjoying, planning, loving, cautioning,\\n  Backing and filling, appearing and disappearing,\\n  I tread day and night such roads.\\n\\n  I visit the orchards of spheres and look at the product,\\n  And look at quintillions ripen\\'d and look at quintillions green.\\n\\n  I fly those flights of a fluid and swallowing soul,\\n  My course runs below the soundings of plummets.\\n\\n  I help myself to material and immaterial,\\n  No guard can shut me off, no law prevent me.\\n\\n  I anchor my ship for a little while only,\\n  My messengers continually cruise away or bring their returns to me.\\n\\n  I go hunting polar furs and the seal, leaping chasms with a\\n      pike-pointed staff, clinging to topples of brittle and blue.\\n\\n  I ascend to the foretruck,\\n  I take my place late at night in the crow\\'s-nest,\\n  We sail the arctic sea, it is plenty light enough,\\n  Through the clear atmosphere I stretch around on the wonderful beauty,\\n  The enormous masses of ice pass me and I pass them, the scenery is\\n      plain in all directions,\\n  The white-topt mountains show in the distance, I fling out my\\n      fancies toward them,\\n  We are approaching some great battle-field in which we are soon to\\n      be engaged,\\n  We pass the colossal outposts of the encampment, we pass with still\\n      feet and caution,\\n  Or we are entering by the suburbs some vast and ruin\\'d city,\\n  The blocks and fallen architecture more than all the living cities\\n      of the globe.\\n\\n  I am a free companion, I bivouac by invading watchfires,\\n  I turn the bridegroom out of bed and stay with the bride myself,\\n  I tighten her all night to my thighs and lips.\\n\\n  My voice is the wife\\'s voice, the screech by the rail of the stairs,\\n  They fetch my man\\'s body up dripping and drown\\'d.\\n\\n  I understand the large hearts of heroes,\\n  The courage of present times and all times,\\n  How the skipper saw the crowded and rudderless wreck of the\\n      steamship, and Death chasing it up and down the storm,\\n  How he knuckled tight and gave not back an inch, and was faithful of\\n      days and faithful of nights,\\n  And chalk\\'d in large letters on a board, Be of good cheer, we will\\n      not desert you;\\n  How he follow\\'d with them and tack\\'d with them three days and\\n      would not give it up,\\n  How he saved the drifting company at last,\\n  How the lank loose-gown\\'d women look\\'d when boated from the\\n      side of their prepared graves,\\n  How the silent old-faced infants and the lifted sick, and the\\n      sharp-lipp\\'d unshaved men;\\n  All this I swallow, it tastes good, I like it well, it becomes mine,\\n  I am the man, I suffer\\'d, I was there.\\n\\n  The disdain and calmness of martyrs,\\n  The mother of old, condemn\\'d for a witch, burnt with dry wood, her\\n      children gazing on,\\n  The hounded slave that flags in the race, leans by the fence,\\n      blowing, cover\\'d with sweat,\\n  The twinges that sting like needles his legs and neck, the murderous\\n      buckshot and the bullets,\\n  All these I feel or am.\\n\\n  I am the hounded slave, I wince at the bite of the dogs,\\n  Hell and despair are upon me, crack and again crack the marksmen,\\n  I clutch the rails of the fence, my gore dribs, thinn\\'d with the\\n      ooze of my skin,\\n  I fall on the weeds and stones,\\n  The riders spur their unwilling horses, haul close,\\n  Taunt my dizzy ears and beat me violently over the head with whip-stocks.\\n\\n  Agonies are one of my changes of garments,\\n  I do not ask the wounded person how he feels, I myself become the\\n      wounded person,\\n  My hurts turn livid upon me as I lean on a cane and observe.\\n\\n  I am the mash\\'d fireman with breast-bone broken,\\n  Tumbling walls buried me in their debris,\\n  Heat and smoke I inspired, I heard the yelling shouts of my comrades,\\n  I heard the distant click of their picks and shovels,\\n  They have clear\\'d the beams away, they tenderly lift me forth.\\n\\n  I lie in the night air in my red shirt, the pervading hush is for my sake,\\n  Painless after all I lie exhausted but not so unhappy,\\n  White and beautiful are the faces around me, the heads are bared\\n      of their fire-caps,\\n  The kneeling crowd fades with the light of the torches.\\n\\n  Distant and dead resuscitate,\\n  They show as the dial or move as the hands of me, I am the clock myself.\\n\\n  I am an old artillerist, I tell of my fort\\'s bombardment,\\n  I am there again.\\n\\n  Again the long roll of the drummers,\\n  Again the attacking cannon, mortars,\\n  Again to my listening ears the cannon responsive.\\n\\n  I take part, I see and hear the whole,\\n  The cries, curses, roar, the plaudits for well-aim\\'d shots,\\n  The ambulanza slowly passing trailing its red drip,\\n  Workmen searching after damages, making indispensable repairs,\\n  The fall of grenades through the rent roof, the fan-shaped explosion,\\n  The whizz of limbs, heads, stone, wood, iron, high in the air.\\n\\n  Again gurgles the mouth of my dying general, he furiously waves\\n      with his hand,\\n  He gasps through the clot Mind not me—mind—the entrenchments.\"\\n\"  Now I tell what I knew in Texas in my early youth,\\n  (I tell not the fall of Alamo,\\n  Not one escaped to tell the fall of Alamo,\\n  The hundred and fifty are dumb yet at Alamo,)\\n  \\'Tis the tale of the murder in cold blood of four hundred and twelve\\n      young men.\\n\\n  Retreating they had form\\'d in a hollow square with their baggage for\\n      breastworks,\\n  Nine hundred lives out of the surrounding enemies, nine times their\\n      number, was the price they took in advance,\\n  Their colonel was wounded and their ammunition gone,\\n  They treated for an honorable capitulation, receiv\\'d writing and\\n      seal, gave up their arms and march\\'d back prisoners of war.\\n\\n  They were the glory of the race of rangers,\\n  Matchless with horse, rifle, song, supper, courtship,\\n  Large, turbulent, generous, handsome, proud, and affectionate,\\n  Bearded, sunburnt, drest in the free costume of hunters,\\n  Not a single one over thirty years of age.\\n\\n  The second First-day morning they were brought out in squads and\\n      massacred, it was beautiful early summer,\\n  The work commenced about five o\\'clock and was over by eight.\\n\\n  None obey\\'d the command to kneel,\\n  Some made a mad and helpless rush, some stood stark and straight,\\n  A few fell at once, shot in the temple or heart, the living and dead\\n      lay together,\\n  The maim\\'d and mangled dug in the dirt, the new-comers saw them there,\\n  Some half-kill\\'d attempted to crawl away,\\n  These were despatch\\'d with bayonets or batter\\'d with the blunts of muskets,\\n  A youth not seventeen years old seiz\\'d his assassin till two more\\n      came to release him,\\n  The three were all torn and cover\\'d with the boy\\'s blood.\\n\\n  At eleven o\\'clock began the burning of the bodies;\\n  That is the tale of the murder of the four hundred and twelve young men.\"\\n\"  Would you hear of an old-time sea-fight?\\n  Would you learn who won by the light of the moon and stars?\\n  List to the yarn, as my grandmother\\'s father the sailor told it to me.\\n\\n  Our foe was no skulk in his ship I tell you, (said he,)\\n  His was the surly English pluck, and there is no tougher or truer,\\n      and never was, and never will be;\\n  Along the lower\\'d eve he came horribly raking us.\\n\\n  We closed with him, the yards entangled, the cannon touch\\'d,\\n  My captain lash\\'d fast with his own hands.\\n\\n  We had receiv\\'d some eighteen pound shots under the water,\\n  On our lower-gun-deck two large pieces had burst at the first fire,\\n      killing all around and blowing up overhead.\\n\\n  Fighting at sun-down, fighting at dark,\\n  Ten o\\'clock at night, the full moon well up, our leaks on the gain,\\n      and five feet of water reported,\\n  The master-at-arms loosing the prisoners confined in the after-hold\\n      to give them a chance for themselves.\\n\\n  The transit to and from the magazine is now stopt by the sentinels,\\n  They see so many strange faces they do not know whom to trust.\\n\\n  Our frigate takes fire,\\n  The other asks if we demand quarter?\\n  If our colors are struck and the fighting done?\\n\\n  Now I laugh content, for I hear the voice of my little captain,\\n  We have not struck, he composedly cries, we have just begun our part\\n      of the fighting.\\n\\n  Only three guns are in use,\\n  One is directed by the captain himself against the enemy\\'s main-mast,\\n  Two well serv\\'d with grape and canister silence his musketry and\\n      clear his decks.\\n\\n  The tops alone second the fire of this little battery, especially\\n      the main-top,\\n  They hold out bravely during the whole of the action.\\n\\n  Not a moment\\'s cease,\\n  The leaks gain fast on the pumps, the fire eats toward the powder-magazine.\\n\\n  One of the pumps has been shot away, it is generally thought we are sinking.\\n\\n  Serene stands the little captain,\\n  He is not hurried, his voice is neither high nor low,\\n  His eyes give more light to us than our battle-lanterns.\\n\\n  Toward twelve there in the beams of the moon they surrender to us.\"\\n\"  Stretch\\'d and still lies the midnight,\\n  Two great hulls motionless on the breast of the darkness,\\n  Our vessel riddled and slowly sinking, preparations to pass to the\\n      one we have conquer\\'d,\\n  The captain on the quarter-deck coldly giving his orders through a\\n      countenance white as a sheet,\\n  Near by the corpse of the child that serv\\'d in the cabin,\\n  The dead face of an old salt with long white hair and carefully\\n      curl\\'d whiskers,\\n  The flames spite of all that can be done flickering aloft and below,\\n  The husky voices of the two or three officers yet fit for duty,\\n  Formless stacks of bodies and bodies by themselves, dabs of flesh\\n      upon the masts and spars,\\n  Cut of cordage, dangle of rigging, slight shock of the soothe of waves,\\n  Black and impassive guns, litter of powder-parcels, strong scent,\\n  A few large stars overhead, silent and mournful shining,\\n  Delicate sniffs of sea-breeze, smells of sedgy grass and fields by\\n      the shore, death-messages given in charge to survivors,\\n  The hiss of the surgeon\\'s knife, the gnawing teeth of his saw,\\n  Wheeze, cluck, swash of falling blood, short wild scream, and long,\\n      dull, tapering groan,\\n  These so, these irretrievable.\"\\n\"  You laggards there on guard! look to your arms!\\n  In at the conquer\\'d doors they crowd! I am possess\\'d!\\n  Embody all presences outlaw\\'d or suffering,\\n  See myself in prison shaped like another man,\\n  And feel the dull unintermitted pain.\\n\\n  For me the keepers of convicts shoulder their carbines and keep watch,\\n  It is I let out in the morning and barr\\'d at night.\\n\\n  Not a mutineer walks handcuff\\'d to jail but I am handcuff\\'d to him\\n      and walk by his side,\\n  (I am less the jolly one there, and more the silent one with sweat\\n      on my twitching lips.)\\n\\n  Not a youngster is taken for larceny but I go up too, and am tried\\n      and sentenced.\\n\\n  Not a cholera patient lies at the last gasp but I also lie at the last gasp,\\n  My face is ash-color\\'d, my sinews gnarl, away from me people retreat.\\n\\n  Askers embody themselves in me and I am embodied in them,\\n  I project my hat, sit shame-faced, and beg.\"\\n\"  Enough! enough! enough!\\n  Somehow I have been stunn\\'d. Stand back!\\n  Give me a little time beyond my cuff\\'d head, slumbers, dreams, gaping,\\n  I discover myself on the verge of a usual mistake.\\n\\n  That I could forget the mockers and insults!\\n  That I could forget the trickling tears and the blows of the\\n      bludgeons and hammers!\\n  That I could look with a separate look on my own crucifixion and\\n      bloody crowning.\\n\\n  I remember now,\\n  I resume the overstaid fraction,\\n  The grave of rock multiplies what has been confided to it, or to any graves,\\n  Corpses rise, gashes heal, fastenings roll from me.\\n\\n  I troop forth replenish\\'d with supreme power, one of an average\\n      unending procession,\\n  Inland and sea-coast we go, and pass all boundary lines,\\n  Our swift ordinances on their way over the whole earth,\\n  The blossoms we wear in our hats the growth of thousands of years.\\n\\n  Eleves, I salute you! come forward!\\n  Continue your annotations, continue your questionings.\"\\n\"  The friendly and flowing savage, who is he?\\n  Is he waiting for civilization, or past it and mastering it?\\n\\n  Is he some Southwesterner rais\\'d out-doors? is he Kanadian?\\n  Is he from the Mississippi country? Iowa, Oregon, California?\\n  The mountains? prairie-life, bush-life? or sailor from the sea?\\n\\n  Wherever he goes men and women accept and desire him,\\n  They desire he should like them, touch them, speak to them, stay with them.\\n\\n  Behavior lawless as snow-flakes, words simple as grass, uncomb\\'d\\n      head, laughter, and naivete,\\n  Slow-stepping feet, common features, common modes and emanations,\\n  They descend in new forms from the tips of his fingers,\\n  They are wafted with the odor of his body or breath, they fly out of\\n      the glance of his eyes.\"\\n\"  Flaunt of the sunshine I need not your bask—lie over!\\n  You light surfaces only, I force surfaces and depths also.\\n\\n  Earth! you seem to look for something at my hands,\\n  Say, old top-knot, what do you want?\\n\\n  Man or woman, I might tell how I like you, but cannot,\\n  And might tell what it is in me and what it is in you, but cannot,\\n  And might tell that pining I have, that pulse of my nights and days.\\n\\n  Behold, I do not give lectures or a little charity,\\n  When I give I give myself.\\n\\n  You there, impotent, loose in the knees,\\n  Open your scarf\\'d chops till I blow grit within you,\\n  Spread your palms and lift the flaps of your pockets,\\n  I am not to be denied, I compel, I have stores plenty and to spare,\\n  And any thing I have I bestow.\\n\\n  I do not ask who you are, that is not important to me,\\n  You can do nothing and be nothing but what I will infold you.\\n\\n  To cotton-field drudge or cleaner of privies I lean,\\n  On his right cheek I put the family kiss,\\n  And in my soul I swear I never will deny him.\\n\\n  On women fit for conception I start bigger and nimbler babes.\\n  (This day I am jetting the stuff of far more arrogant republics.)\\n\\n  To any one dying, thither I speed and twist the knob of the door.\\n  Turn the bed-clothes toward the foot of the bed,\\n  Let the physician and the priest go home.\\n\\n  I seize the descending man and raise him with resistless will,\\n  O despairer, here is my neck,\\n  By God, you shall not go down! hang your whole weight upon me.\\n\\n  I dilate you with tremendous breath, I buoy you up,\\n  Every room of the house do I fill with an arm\\'d force,\\n  Lovers of me, bafflers of graves.\\n\\n  Sleep—I and they keep guard all night,\\n  Not doubt, not decease shall dare to lay finger upon you,\\n  I have embraced you, and henceforth possess you to myself,\\n  And when you rise in the morning you will find what I tell you is so.\"\\n\"  I am he bringing help for the sick as they pant on their backs,\\n  And for strong upright men I bring yet more needed help.\\n\\n  I heard what was said of the universe,\\n  Heard it and heard it of several thousand years;\\n  It is middling well as far as it goes—but is that all?\\n\\n  Magnifying and applying come I,\\n  Outbidding at the start the old cautious hucksters,\\n  Taking myself the exact dimensions of Jehovah,\\n  Lithographing Kronos, Zeus his son, and Hercules his grandson,\\n  Buying drafts of Osiris, Isis, Belus, Brahma, Buddha,\\n  In my portfolio placing Manito loose, Allah on a leaf, the crucifix\\n      engraved,\\n  With Odin and the hideous-faced Mexitli and every idol and image,\\n  Taking them all for what they are worth and not a cent more,\\n  Admitting they were alive and did the work of their days,\\n  (They bore mites as for unfledg\\'d birds who have now to rise and fly\\n      and sing for themselves,)\\n  Accepting the rough deific sketches to fill out better in myself,\\n      bestowing them freely on each man and woman I see,\\n  Discovering as much or more in a framer framing a house,\\n  Putting higher claims for him there with his roll\\'d-up sleeves\\n      driving the mallet and chisel,\\n  Not objecting to special revelations, considering a curl of smoke or\\n      a hair on the back of my hand just as curious as any revelation,\\n  Lads ahold of fire-engines and hook-and-ladder ropes no less to me\\n      than the gods of the antique wars,\\n  Minding their voices peal through the crash of destruction,\\n  Their brawny limbs passing safe over charr\\'d laths, their white\\n      foreheads whole and unhurt out of the flames;\\n  By the mechanic\\'s wife with her babe at her nipple interceding for\\n      every person born,\\n  Three scythes at harvest whizzing in a row from three lusty angels\\n      with shirts bagg\\'d out at their waists,\\n  The snag-tooth\\'d hostler with red hair redeeming sins past and to come,\\n  Selling all he possesses, traveling on foot to fee lawyers for his\\n      brother and sit by him while he is tried for forgery;\\n  What was strewn in the amplest strewing the square rod about me, and\\n      not filling the square rod then,\\n  The bull and the bug never worshipp\\'d half enough,\\n  Dung and dirt more admirable than was dream\\'d,\\n  The supernatural of no account, myself waiting my time to be one of\\n      the supremes,\\n  The day getting ready for me when I shall do as much good as the\\n      best, and be as prodigious;\\n  By my life-lumps! becoming already a creator,\\n  Putting myself here and now to the ambush\\'d womb of the shadows.\"\\n\"  A call in the midst of the crowd,\\n  My own voice, orotund sweeping and final.\\n\\n  Come my children,\\n  Come my boys and girls, my women, household and intimates,\\n  Now the performer launches his nerve, he has pass\\'d his prelude on\\n      the reeds within.\\n\\n  Easily written loose-finger\\'d chords—I feel the thrum of your\\n      climax and close.\\n\\n  My head slues round on my neck,\\n  Music rolls, but not from the organ,\\n  Folks are around me, but they are no household of mine.\\n\\n  Ever the hard unsunk ground,\\n  Ever the eaters and drinkers, ever the upward and downward sun, ever\\n      the air and the ceaseless tides,\\n  Ever myself and my neighbors, refreshing, wicked, real,\\n  Ever the old inexplicable query, ever that thorn\\'d thumb, that\\n      breath of itches and thirsts,\\n  Ever the vexer\\'s hoot! hoot! till we find where the sly one hides\\n      and bring him forth,\\n  Ever love, ever the sobbing liquid of life,\\n  Ever the bandage under the chin, ever the trestles of death.\\n\\n  Here and there with dimes on the eyes walking,\\n  To feed the greed of the belly the brains liberally spooning,\\n  Tickets buying, taking, selling, but in to the feast never once going,\\n  Many sweating, ploughing, thrashing, and then the chaff for payment\\n      receiving,\\n  A few idly owning, and they the wheat continually claiming.\\n\\n  This is the city and I am one of the citizens,\\n  Whatever interests the rest interests me, politics, wars, markets,\\n      newspapers, schools,\\n  The mayor and councils, banks, tariffs, steamships, factories,\\n      stocks, stores, real estate and personal estate.\\n\\n  The little plentiful manikins skipping around in collars and tail\\'d coats\\n  I am aware who they are, (they are positively not worms or fleas,)\\n  I acknowledge the duplicates of myself, the weakest and shallowest\\n      is deathless with me,\\n  What I do and say the same waits for them,\\n  Every thought that flounders in me the same flounders in them.\\n\\n  I know perfectly well my own egotism,\\n  Know my omnivorous lines and must not write any less,\\n  And would fetch you whoever you are flush with myself.\\n\\n  Not words of routine this song of mine,\\n  But abruptly to question, to leap beyond yet nearer bring;\\n  This printed and bound book—but the printer and the\\n      printing-office boy?\\n  The well-taken photographs—but your wife or friend close and solid\\n      in your arms?\\n  The black ship mail\\'d with iron, her mighty guns in her turrets—but\\n      the pluck of the captain and engineers?\\n  In the houses the dishes and fare and furniture—but the host and\\n      hostess, and the look out of their eyes?\\n  The sky up there—yet here or next door, or across the way?\\n  The saints and sages in history—but you yourself?\\n  Sermons, creeds, theology—but the fathomless human brain,\\n  And what is reason? and what is love? and what is life?\"\\n\"  I do not despise you priests, all time, the world over,\\n  My faith is the greatest of faiths and the least of faiths,\\n  Enclosing worship ancient and modern and all between ancient and modern,\\n  Believing I shall come again upon the earth after five thousand years,\\n  Waiting responses from oracles, honoring the gods, saluting the sun,\\n  Making a fetich of the first rock or stump, powowing with sticks in\\n      the circle of obis,\\n  Helping the llama or brahmin as he trims the lamps of the idols,\\n  Dancing yet through the streets in a phallic procession, rapt and\\n      austere in the woods a gymnosophist,\\n  Drinking mead from the skull-cap, to Shastas and Vedas admirant,\\n      minding the Koran,\\n  Walking the teokallis, spotted with gore from the stone and knife,\\n      beating the serpent-skin drum,\\n  Accepting the Gospels, accepting him that was crucified, knowing\\n      assuredly that he is divine,\\n  To the mass kneeling or the puritan\\'s prayer rising, or sitting\\n      patiently in a pew,\\n  Ranting and frothing in my insane crisis, or waiting dead-like till\\n      my spirit arouses me,\\n  Looking forth on pavement and land, or outside of pavement and land,\\n  Belonging to the winders of the circuit of circuits.\\n\\n  One of that centripetal and centrifugal gang I turn and talk like\\n      man leaving charges before a journey.\\n\\n  Down-hearted doubters dull and excluded,\\n  Frivolous, sullen, moping, angry, affected, dishearten\\'d, atheistical,\\n  I know every one of you, I know the sea of torment, doubt, despair\\n      and unbelief.\\n\\n  How the flukes splash!\\n  How they contort rapid as lightning, with spasms and spouts of blood!\\n\\n  Be at peace bloody flukes of doubters and sullen mopers,\\n  I take my place among you as much as among any,\\n  The past is the push of you, me, all, precisely the same,\\n  And what is yet untried and afterward is for you, me, all, precisely\\n      the same.\\n\\n  I do not know what is untried and afterward,\\n  But I know it will in its turn prove sufficient, and cannot fail.\\n\\n  Each who passes is consider\\'d, each who stops is consider\\'d, not\\n      single one can it fall.\\n\\n  It cannot fall the young man who died and was buried,\\n  Nor the young woman who died and was put by his side,\\n  Nor the little child that peep\\'d in at the door, and then drew back\\n      and was never seen again,\\n  Nor the old man who has lived without purpose, and feels it with\\n      bitterness worse than gall,\\n  Nor him in the poor house tubercled by rum and the bad disorder,\\n  Nor the numberless slaughter\\'d and wreck\\'d, nor the brutish koboo\\n      call\\'d the ordure of humanity,\\n  Nor the sacs merely floating with open mouths for food to slip in,\\n  Nor any thing in the earth, or down in the oldest graves of the earth,\\n  Nor any thing in the myriads of spheres, nor the myriads of myriads\\n      that inhabit them,\\n  Nor the present, nor the least wisp that is known.\"\\n\"  It is time to explain myself—let us stand up.\\n\\n  What is known I strip away,\\n  I launch all men and women forward with me into the Unknown.\\n\\n  The clock indicates the moment—but what does eternity indicate?\\n\\n  We have thus far exhausted trillions of winters and summers,\\n  There are trillions ahead, and trillions ahead of them.\\n\\n  Births have brought us richness and variety,\\n  And other births will bring us richness and variety.\\n\\n  I do not call one greater and one smaller,\\n  That which fills its period and place is equal to any.\\n\\n  Were mankind murderous or jealous upon you, my brother, my sister?\\n  I am sorry for you, they are not murderous or jealous upon me,\\n  All has been gentle with me, I keep no account with lamentation,\\n  (What have I to do with lamentation?)\\n\\n  I am an acme of things accomplish\\'d, and I an encloser of things to be.\\n\\n  My feet strike an apex of the apices of the stairs,\\n  On every step bunches of ages, and larger bunches between the steps,\\n  All below duly travel\\'d, and still I mount and mount.\\n\\n  Rise after rise bow the phantoms behind me,\\n  Afar down I see the huge first Nothing, I know I was even there,\\n  I waited unseen and always, and slept through the lethargic mist,\\n  And took my time, and took no hurt from the fetid carbon.\\n\\n  Long I was hugg\\'d close—long and long.\\n\\n  Immense have been the preparations for me,\\n  Faithful and friendly the arms that have help\\'d me.\\n\\n  Cycles ferried my cradle, rowing and rowing like cheerful boatmen,\\n  For room to me stars kept aside in their own rings,\\n  They sent influences to look after what was to hold me.\\n\\n  Before I was born out of my mother generations guided me,\\n  My embryo has never been torpid, nothing could overlay it.\\n\\n  For it the nebula cohered to an orb,\\n  The long slow strata piled to rest it on,\\n  Vast vegetables gave it sustenance,\\n  Monstrous sauroids transported it in their mouths and deposited it\\n      with care.\\n\\n  All forces have been steadily employ\\'d to complete and delight me,\\n  Now on this spot I stand with my robust soul.\"\\n\" O span of youth! ever-push\\'d elasticity!\\n  O manhood, balanced, florid and full.\\n\\n  My lovers suffocate me,\\n  Crowding my lips, thick in the pores of my skin,\\n  Jostling me through streets and public halls, coming naked to me at night,\\n  Crying by day, Ahoy! from the rocks of the river, swinging and\\n      chirping over my head,\\n  Calling my name from flower-beds, vines, tangled underbrush,\\n  Lighting on every moment of my life,\\n  Bussing my body with soft balsamic busses,\\n  Noiselessly passing handfuls out of their hearts and giving them to be mine.\\n\\n  Old age superbly rising! O welcome, ineffable grace of dying days!\\n\\n  Every condition promulges not only itself, it promulges what grows\\n      after and out of itself,\\n  And the dark hush promulges as much as any.\\n\\n  I open my scuttle at night and see the far-sprinkled systems,\\n  And all I see multiplied as high as I can cipher edge but the rim of\\n      the farther systems.\\n\\n  Wider and wider they spread, expanding, always expanding,\\n  Outward and outward and forever outward.\\n\\n  My sun has his sun and round him obediently wheels,\\n  He joins with his partners a group of superior circuit,\\n  And greater sets follow, making specks of the greatest inside them.\\n\\n  There is no stoppage and never can be stoppage,\\n  If I, you, and the worlds, and all beneath or upon their surfaces,\\n      were this moment reduced back to a pallid float, it would\\n      not avail the long run,\\n  We should surely bring up again where we now stand,\\n  And surely go as much farther, and then farther and farther.\\n\\n  A few quadrillions of eras, a few octillions of cubic leagues, do\\n      not hazard the span or make it impatient,\\n  They are but parts, any thing is but a part.\\n\\n  See ever so far, there is limitless space outside of that,\\n  Count ever so much, there is limitless time around that.\\n\\n  My rendezvous is appointed, it is certain,\\n  The Lord will be there and wait till I come on perfect terms,\\n  The great Camerado, the lover true for whom I pine will be there.\"\\n\"  I know I have the best of time and space, and was never measured and\\n      never will be measured.\\n\\n  I tramp a perpetual journey, (come listen all!)\\n  My signs are a rain-proof coat, good shoes, and a staff cut from the woods,\\n  No friend of mine takes his ease in my chair,\\n  I have no chair, no church, no philosophy,\\n  I lead no man to a dinner-table, library, exchange,\\n  But each man and each woman of you I lead upon a knoll,\\n  My left hand hooking you round the waist,\\n  My right hand pointing to landscapes of continents and the public road.\\n\\n  Not I, not any one else can travel that road for you,\\n  You must travel it for yourself.\\n\\n  It is not far, it is within reach,\\n  Perhaps you have been on it since you were born and did not know,\\n  Perhaps it is everywhere on water and on land.\\n\\n  Shoulder your duds dear son, and I will mine, and let us hasten forth,\\n  Wonderful cities and free nations we shall fetch as we go.\\n\\n  If you tire, give me both burdens, and rest the chuff of your hand\\n      on my hip,\\n  And in due time you shall repay the same service to me,\\n  For after we start we never lie by again.\\n\\n  This day before dawn I ascended a hill and look\\'d at the crowded heaven,\\n  And I said to my spirit When we become the enfolders of those orbs,\\n      and the pleasure and knowledge of every thing in them, shall we\\n      be fill\\'d and satisfied then?\\n  And my spirit said No, we but level that lift to pass and continue beyond.\\n\\n  You are also asking me questions and I hear you,\\n  I answer that I cannot answer, you must find out for yourself.\\n\\n  Sit a while dear son,\\n  Here are biscuits to eat and here is milk to drink,\\n  But as soon as you sleep and renew yourself in sweet clothes, I kiss you\\n      with a good-by kiss and open the gate for your egress hence.\\n\\n  Long enough have you dream\\'d contemptible dreams,\\n  Now I wash the gum from your eyes,\\n  You must habit yourself to the dazzle of the light and of every\\n      moment of your life.\\n\\n  Long have you timidly waded holding a plank by the shore,\\n  Now I will you to be a bold swimmer,\\n  To jump off in the midst of the sea, rise again, nod to me, shout,\\n      and laughingly dash with your hair.\"\\n\"  I am the teacher of athletes,\\n  He that by me spreads a wider breast than my own proves the width of my own,\\n  He most honors my style who learns under it to destroy the teacher.\\n\\n  The boy I love, the same becomes a man not through derived power,\\n      but in his own right,\\n  Wicked rather than virtuous out of conformity or fear,\\n  Fond of his sweetheart, relishing well his steak,\\n  Unrequited love or a slight cutting him worse than sharp steel cuts,\\n  First-rate to ride, to fight, to hit the bull\\'s eye, to sail a\\n      skiff, to sing a song or play on the banjo,\\n  Preferring scars and the beard and faces pitted with small-pox over\\n      all latherers,\\n  And those well-tann\\'d to those that keep out of the sun.\\n\\n  I teach straying from me, yet who can stray from me?\\n  I follow you whoever you are from the present hour,\\n  My words itch at your ears till you understand them.\\n\\n  I do not say these things for a dollar or to fill up the time while\\n      I wait for a boat,\\n  (It is you talking just as much as myself, I act as the tongue of you,\\n  Tied in your mouth, in mine it begins to be loosen\\'d.)\\n\\n  I swear I will never again mention love or death inside a house,\\n  And I swear I will never translate myself at all, only to him or her\\n      who privately stays with me in the open air.\\n\\n  If you would understand me go to the heights or water-shore,\\n  The nearest gnat is an explanation, and a drop or motion of waves key,\\n  The maul, the oar, the hand-saw, second my words.\\n\\n  No shutter\\'d room or school can commune with me,\\n  But roughs and little children better than they.\\n\\n  The young mechanic is closest to me, he knows me well,\\n  The woodman that takes his axe and jug with him shall take me with\\n      him all day,\\n  The farm-boy ploughing in the field feels good at the sound of my voice,\\n  In vessels that sail my words sail, I go with fishermen and seamen\\n      and love them.\\n\\n  The soldier camp\\'d or upon the march is mine,\\n  On the night ere the pending battle many seek me, and I do not fail them,\\n  On that solemn night (it may be their last) those that know me seek me.\\n  My face rubs to the hunter\\'s face when he lies down alone in his blanket,\\n  The driver thinking of me does not mind the jolt of his wagon,\\n  The young mother and old mother comprehend me,\\n  The girl and the wife rest the needle a moment and forget where they are,\\n  They and all would resume what I have told them.\"\\n\"  I have said that the soul is not more than the body,\\n  And I have said that the body is not more than the soul,\\n  And nothing, not God, is greater to one than one\\'s self is,\\n  And whoever walks a furlong without sympathy walks to his own\\n      funeral drest in his shroud,\\n  And I or you pocketless of a dime may purchase the pick of the earth,\\n  And to glance with an eye or show a bean in its pod confounds the\\n      learning of all times,\\n  And there is no trade or employment but the young man following it\\n      may become a hero,\\n  And there is no object so soft but it makes a hub for the wheel\\'d universe,\\n  And I say to any man or woman, Let your soul stand cool and composed\\n      before a million universes.\\n\\n  And I say to mankind, Be not curious about God,\\n  For I who am curious about each am not curious about God,\\n  (No array of terms can say how much I am at peace about God and\\n      about death.)\\n\\n  I hear and behold God in every object, yet understand God not in the least,\\n  Nor do I understand who there can be more wonderful than myself.\\n\\n  Why should I wish to see God better than this day?\\n  I see something of God each hour of the twenty-four, and each moment then,\\n  In the faces of men and women I see God, and in my own face in the glass,\\n  I find letters from God dropt in the street, and every one is sign\\'d\\n      by God\\'s name,\\n  And I leave them where they are, for I know that wheresoe\\'er I go,\\n  Others will punctually come for ever and ever.\"\\n\"  And as to you Death, and you bitter hug of mortality, it is idle to\\n      try to alarm me.\\n\\n  To his work without flinching the accoucheur comes,\\n  I see the elder-hand pressing receiving supporting,\\n  I recline by the sills of the exquisite flexible doors,\\n  And mark the outlet, and mark the relief and escape.\\n\\n  And as to you Corpse I think you are good manure, but that does not\\n      offend me,\\n  I smell the white roses sweet-scented and growing,\\n  I reach to the leafy lips, I reach to the polish\\'d breasts of melons.\\n\\n  And as to you Life I reckon you are the leavings of many deaths,\\n  (No doubt I have died myself ten thousand times before.)\\n\\n  I hear you whispering there O stars of heaven,\\n  O suns—O grass of graves—O perpetual transfers and promotions,\\n  If you do not say any thing how can I say any thing?\\n\\n  Of the turbid pool that lies in the autumn forest,\\n  Of the moon that descends the steeps of the soughing twilight,\\n  Toss, sparkles of day and dusk—toss on the black stems that decay\\n      in the muck,\\n  Toss to the moaning gibberish of the dry limbs.\\n\\n  I ascend from the moon, I ascend from the night,\\n  I perceive that the ghastly glimmer is noonday sunbeams reflected,\\n  And debouch to the steady and central from the offspring great or small.\"\\n\"  There is that in me—I do not know what it is—but I know it is in me.\\n\\n  Wrench\\'d and sweaty—calm and cool then my body becomes,\\n  I sleep—I sleep long.\\n\\n  I do not know it—it is without name—it is a word unsaid,\\n  It is not in any dictionary, utterance, symbol.\\n\\n  Something it swings on more than the earth I swing on,\\n  To it the creation is the friend whose embracing awakes me.\\n\\n  Perhaps I might tell more. Outlines! I plead for my brothers and sisters.\\n\\n  Do you see O my brothers and sisters?\\n  It is not chaos or death—it is form, union, plan—it is eternal\\n      life—it is Happiness.\"\\n\"  The past and present wilt—I have fill\\'d them, emptied them.\\n  And proceed to fill my next fold of the future.\\n\\n  Listener up there! what have you to confide to me?\\n  Look in my face while I snuff the sidle of evening,\\n  (Talk honestly, no one else hears you, and I stay only a minute longer.)\\n\\n  Do I contradict myself?\\n  Very well then I contradict myself,\\n  (I am large, I contain multitudes.)\\n\\n  I concentrate toward them that are nigh, I wait on the door-slab.\\n\\n  Who has done his day\\'s work? who will soonest be through with his supper?\\n  Who wishes to walk with me?\\n\\n  Will you speak before I am gone? will you prove already too late?\"\\n\"  The spotted hawk swoops by and accuses me, he complains of my gab\\n      and my loitering.\\n\\n  I too am not a bit tamed, I too am untranslatable,\\n  I sound my barbaric yawp over the roofs of the world.\\n\\n  The last scud of day holds back for me,\\n  It flings my likeness after the rest and true as any on the shadow\\'d wilds,\\n  It coaxes me to the vapor and the dusk.\\n\\n  I depart as air, I shake my white locks at the runaway sun,\\n  I effuse my flesh in eddies, and drift it in lacy jags.\\n\\n  I bequeath myself to the dirt to grow from the grass I love,\\n  If you want me again look for me under your boot-soles.\\n\\n  You will hardly know who I am or what I mean,\\n  But I shall be good health to you nevertheless,\\n  And filter and fibre your blood.\\n\\n  Failing to fetch me at first keep encouraged,\\n  Missing me one place search another,\\n  I stop somewhere waiting for you.\"\\n\"I will be the gladdest thing\\nUnder the sun!\\nI will touch a hundred flowers\\nAnd not pick one.\\nI will look at cliffs and clouds\\nWith quiet eyes,\\nWatch the wind bow down the grass,\\nAnd the grass rise.\\nAnd when lights begin to show\\nUp from the town,\\nI will mark which must be mine,\\nAnd then start down!\"\\n\"Whose woods these are I think I know.\\nHis house is in the village, though;\\nHe will not see me stopping here\\nTo watch his woods fill up with snow.\\nMy little horse must think it queer\\nTo stop without a farmhouse near\\nBetween the woods and frozen lake\\nThe darkest evening of the year.\\n\\nHe gives his harness bells a shake\\nTo ask if there is some mistake.\\nThe only other sound\\'s the sweep\\nOf easy wind and downy flake.\\nThe woods are lovely, dark and deep,\\nBut I have promises to keep,\\nAnd miles to go before I sleep,\\nAnd miles to go before I sleep.\"\\n\"When will the stream be aweary of flowing\\nUnder my eye?\\nWhen will the wind be aweary of blowing\\nOver the sky?\\n\\nWhen will the clouds be aweary of fleeting?\\nWhen will the heart be aweary of beating?\\nAnd nature die?\\nNever, O, never, nothing will die;\\n\\nThe stream flows,\\nThe wind blows,\\nThe cloud fleets,\\nThe heart beats,\\nNothing will die.\\n\\nNothing will die;\\nAll things will change\\nThro’ eternity.\\n’Tis the world’s winter;\\nAutumn and summer\\nAre gone long ago;\\nEarth is dry to the centre,\\nBut spring, a new comer,\\nA spring rich and strange,\\nShall make the winds blow\\nRound and round,\\nThro’ and thro’,\\nHere and there,\\nTill the air\\nAnd the ground\\nShall be fill’d with life anew.\\n\\nThe world was never made;\\nIt will change, but it will not fade.\\nSo let the wind range;\\nFor even and morn\\nEver will be\\nThro’ eternity.\\nNothing was born;\\nNothing will die;\\nAll things will change. \"\\n\"OBIIT MDCCCXXXIII.\\n \\nStrong Son of God, immortal Love,\\nWhom we, that have not seen thy face,\\nBy faith, and faith alone, embrace,\\nBelieving where we cannot prove;\\n\\nThine are these orbs of light and shade;\\nThou madest Life in man and brute;\\nThou madest Death; and lo, thy foot\\nIs on the skull which thou hast made.\\n\\nThou wilt not leave us in the dust:\\nThou madest man, he knows not why,\\nHe thinks he was not made to die;\\nAnd thou hast made him: thou art just.\\n\\nThou seemest human and divine,\\nThe highest, holiest manhood, thou:\\nOur wills are ours, we know not how;\\nOur wills are ours, to make them thine.\\n\\nOur little systems have their day;\\nThey have their day and cease to be:\\nThey are but broken lights of thee,\\nAnd thou, O Lord, art more than they.\\n\\nWe have but faith: we cannot know;\\nFor knowledge is of things we see;\\nAnd yet we trust it comes from thee,\\nA beam in darkness: let it grow.\\n\\nLet knowledge grow from more to more,\\nBut more of reverence in us dwell;\\nThat mind and soul, according well,\\nMay make one music as before,\\n\\nBut vaster. We are fools and slight;\\nWe mock thee when we do not fear:\\nBut help thy foolish ones to bear;\\nHelp thy vain worlds to bear thy light.\\n\\nForgive what seem’d my sin in me;\\nWhat seem’d my worth since I began;\\nFor merit lives from man to man,\\nAnd not from man, O Lord, to thee.\\n\\nForgive my grief for one removed,\\nThy creature, whom I found so fair.\\nI trust he lives in thee, and there\\nI find him worthier to be loved.\\n\\nForgive these wild and wandering cries,\\nConfusions of a wasted youth;\\nForgive them where they fail in truth,\\nAnd in thy wisdom make me wise.\"\\n\"I held it truth, with him who sings\\nTo one clear harp in divers tones,\\nThat men may rise on stepping-stones\\nOf their dead selves to higher things.\\n\\nBut who shall so forecast the years\\nAnd find in loss a gain to match?\\nOr reach a hand thro’ time to catch\\nThe far-off interest of tears?\\n\\nLet Love clasp Grief lest both be drown’d,\\nLet darkness keep her raven gloss:\\nAh, sweeter to be drunk with loss,\\nTo dance with death, to beat the ground,\\n\\nThan that the victor Hours should scorn\\nThe long result of love, and boast,\\n‘Behold the man that loved and lost,\\nBut all he was is overworn.’\"\\n\"Old Yew, which graspest at the stones\\nThat name the under-lying dead,\\nThy fibres net the dreamless head,\\nThy roots are wrapt about the bones.\\n\\nThe seasons bring the flower again,\\nAnd bring the firstling to the flock;\\nAnd in the dusk of thee, the clock\\nBeats out the little lives of men.\\n\\nO not for thee the glow, the bloom,\\nWho changest not in any gale,\\nNor branding summer suns avail\\nTo touch thy thousand years of gloom:\\n\\nAnd gazing on thee, sullen tree,\\nSick for thy stubborn hardihood,\\nI seem to fail from out my blood\\nAnd grow incorporate into thee.\"\\n\"O Sorrow, cruel fellowship,\\nO Priestess in the vaults of Death,\\nO sweet and bitter in a breath,\\nWhat whispers from thy lying lip?\\n\\n‘The stars,’ she whispers, ‘blindly run;\\nA web is wov’n across the sky;\\nFrom out waste places comes a cry,\\nAnd murmurs from the dying sun:\\n\\n‘And all the phantom, Nature, stands–\\nWith all the music in her tone,\\nA hollow echo of my own,–\\nA hollow form with empty hands.’\\n\\nAnd shall I take a thing so blind,\\nEmbrace her as my natural good;\\nOr crush her, like a vice of blood,\\nUpon the threshold of the mind?\"\\n\"To Sleep I give my powers away;\\nMy will is bondsman to the dark;\\nI sit within a helmless bark,\\nAnd with my heart I muse and say:\\n\\nO heart, how fares it with thee now,\\nThat thou should’st fail from thy desire,\\nWho scarcely darest to inquire,\\n‘What is it makes me beat so low?’\\n\\nSomething it is which thou hast lost,\\nSome pleasure from thine early years.\\nBreak, thou deep vase of chilling tears,\\nThat grief hath shaken into frost!\\n\\nSuch clouds of nameless trouble cross\\nAll night below the darken’d eyes;\\nWith morning wakes the will, and cries,\\n‘Thou shalt not be the fool of loss.’\"\\n\"I sometimes hold it half a sin\\nTo put in words the grief I feel;\\nFor words, like Nature, half reveal\\nAnd half conceal the Soul within.\\n\\nBut, for the unquiet heart and brain,\\nA use in measured language lies;\\nThe sad mechanic exercise,\\nLike dull narcotics, numbing pain.\\n\\nIn words, like weeds, I’ll wrap me o’er,\\nLike coarsest clothes against the cold:\\nBut that large grief which these enfold\\nIs given in outline and no more.\"\\n\"Three little birds in a row\\nSat musing.\\nA man passed near that place.\\nThen did the little birds nudge each other.\\n\\nThey said, \"\"He thinks he can sing.\"\"\\nThey threw back their heads to laugh.\\nWith quaint countenances\\nThey regarded him.\\nThey were very curious,\\nThose three little birds in a row.\"\\n\"The little sparrows\\nhop ingenuously\\nabout the pavement\\nquarreling\\nwith sharp voices\\nover those things\\nthat interest them.\\nBut we who are wiser\\nshut ourselves in\\non either hand\\nand no one knows\\nwhether we think good\\nor evil.\\nMeanwhile,\\nthe old man who goes about\\ngathering dog-lime\\nwalks in the gutter\\nwithout looking up\\nand his tread\\nis more majestic than\\nthat of the Episcopal minister\\napproaching the pulpit\\nof a Sunday.\\nThese things\\nastonish me beyond words.\"\\n\"There will come soft rains and the smell of the ground,\\nAnd swallows circling with their shimmering sound;\\n\\nAnd frogs in the pools, singing at night,\\nAnd wild plum trees in tremulous white,\\n\\nRobins will wear their feathery fire,\\nWhistling their whims on a low fence-wire;\\n\\nAnd not one will know of the war, not one\\nWill care at last when it is done.\\n\\nNot one would mind, neither bird nor tree,\\nIf mankind perished utterly;\\n\\nAnd Spring herself, when she woke at dawn,\\nWould scarcely know that we were gone.\"\\n\"I think that I shall never see\\nA poem lovely as a tree.\\n\\nA tree whose hungry mouth is prest\\nAgainst the earth\\'s sweet flowing breast;\\n\\nA tree that looks at God all day,\\nAnd lifts her leafy arms to pray;\\n\\nA tree that may in Summer wear\\nA nest of robins in her hair;\\n\\nUpon whose bosom snow has lain;\\nWho intimately lives with rain.\\n\\nPoems are made by fools like me,\\nBut only God can make a tree.\"\\n\"The little white clouds are racing over the sky, \\n    And the fields are strewn with the gold of the flower of March, \\n    The daffodil breaks under foot, and the tasselled larch \\nSways and swings as the thrush goes hurrying by. \\n\\nA delicate odour is borne on the wings of the morning breeze, \\n    The odour of deep wet grass, and of brown new-furrowed earth, \\n    The birds are singing for joy of the Spring\\'s glad birth, \\nHopping from branch to branch on the rocking trees. \\n\\nAnd all the woods are alive with the murmur and sound of Spring, \\n    And the rose-bud breaks into pink on the climbing briar, \\n    And the crocus-bed is a quivering moon of fire \\nGirdled round with the belt of an amethyst ring. \\n\\nAnd the plane to the pine-tree is whispering some tale of love \\n    Till it rustles with laughter and tosses its mantle of green, \\n    And the gloom of the wych-elm\\'s hollow is lit with the iris sheen \\nOf the burnished rainbow throat and the silver breast of a dove. \\n\\nSee! the lark starts up from his bed in the meadow there, \\n    Breaking the gossamer threads and the nets of dew, \\n    And flashing adown the river, a flame of blue! \\nThe kingfisher flies like an arrow, and wounds the air. \"\\n\"No cloud, no relique of the sunken day\\nDistinguishes the West, no long thin slip\\nOf sullen Light, no obscure trembling hues.\\nCome, we will rest on this old mossy Bridge!\\nYou see the glimmer of the stream beneath,\\nBut hear no murmuring: it flows silently\\nO\\'er its soft bed of verdure. All is still,\\nA balmy night! and tho\\' the stars be dim,\\nYet let us think upon the vernal showers\\nThat gladden the green earth, and we shall find\\nA pleasure in the dimness of the stars.\\nAnd hark! the Nightingale begins its song,\\n\"\"Most musical, most melancholy\"\" (1) Bird!\\nA melancholy Bird? O idle thought!\\nIn nature there is nothing melancholy.\\n—But some night-wandering Man, whose heart was pierc\\'d\\nWith the remembrance of a grievous wrong,\\nOr slow distemper or neglected love,\\n(And so, poor Wretch! fill\\'d all things with himself\\nAnd made all gentle sounds tell back the tale\\nOf his own sorrows) he and such as he\\nFirst nam\\'d these notes a melancholy strain;\\nAnd many a poet echoes the conceit,\\nPoet, who hath been building up the rhyme\\nWhen he had better far have stretch\\'d his limbs\\nBeside a brook in mossy forest-dell\\nBy sun or moonlight, to the influxes\\nOf shapes and sounds and shifting elements\\nSurrendering his whole spirit, of his song\\nAnd of his fame forgetful! so his fame\\nShould share in nature\\'s immortality,\\nA venerable thing! and so his song\\nShould make all nature lovelier, and itself\\nBe lov\\'d, like nature!—But \\'twill not be so;\\nAnd youths and maidens most poetical\\nWho lose the deep\\'ning twilights of the spring\\nIn ball-rooms and hot theatres, they still\\nFull of meek sympathy must heave their sighs\\nO\\'er Philomela\\'s pity-pleading strains.\\nMy Friend, and my Friend\\'s Sister! we have learnt\\nA different lore: we may not thus profane\\nNature\\'s sweet voices always full of love\\nAnd joyance! \\'Tis the merry Nightingale\\nThat crowds, and hurries, and precipitates\\nWith fast thick warble his delicious notes,\\nAs he were fearful, that an April night\\nWould be too short for him to utter forth\\nHis love-chant, and disburthen his full soul\\nOf all its music! And I know a grove\\nOf large extent, hard by a castle huge\\nWhich the great lord inhabits not: and so\\nThis grove is wild with tangling underwood,\\nAnd the trim walks are broken up, and grass,\\nThin grass and king-cups grow within the paths.\\nBut never elsewhere in one place I knew\\nSo many Nightingales: and far and near\\nIn wood and thicket over the wide grove\\nThey answer and provoke each other\\'s songs—\\nWith skirmish and capricious passagings,\\nAnd murmurs musical and swift jug jug\\nAnd one low piping sound more sweet than all—\\nStirring the air with such an harmony,\\nThat should you close your eyes, you might almost\\nForget it was not day! On moonlight bushes,\\nWhose dewy leafits are but half disclos\\'d,\\nYou may perchance behold them on the twigs,\\nTheir bright, bright eyes, their eyes both bright and full,\\nGlistning, while many a glow-worm in the shade\\nLights up her love-torch.\\n\\n                          A most gentle maid\\nWho dwelleth in her hospitable home\\nHard by the Castle, and at latest eve,\\n(Even like a Lady vow\\'d and dedicate\\nTo something more than nature in the grove)\\nGlides thro\\' the pathways; she knows all their notes,\\nThat gentle Maid! and oft, a moment\\'s space,\\nWhat time the moon was lost behind a cloud,\\nHath heard a pause of silence: till the Moon\\nEmerging, hath awaken\\'d earth and sky\\nWith one sensation, and those wakeful Birds\\nHave all burst forth in choral minstrelsy,\\nAs if one quick and sudden Gale had swept\\nAn hundred airy harps! And she hath watch\\'d\\nMany a Nightingale perch giddily\\nOn blosmy twig still swinging from the breeze,\\nAnd to that motion tune his wanton song,\\nLike tipsy Joy that reels with tossing head.\\n\\nFarewell, O Warbler! till to-morrow eve,\\nAnd you, my friends! farewell, a short farewell!\\nWe have been loitering long and pleasantly,\\nAnd now for our dear homes.—That strain again!\\nFull fain it would delay me!—My dear Babe,\\nWho, capable of no articulate sound,\\nMars all things with his imitative lisp,\\nHow he would place his hand beside his ear,\\nHis little hand, the small forefinger up,\\nAnd bid us listen! And I deem it wise\\nTo make him Nature\\'s playmate. He knows well\\nThe evening star: and once when he awoke\\nIn most distressful mood (some inward pain\\nHad made up that strange thing, an infant\\'s dream)\\nI hurried with him to our orchard plot,\\nAnd he beholds the moon, and hush\\'d at once\\nSuspends his sobs, and laughs most silently,\\nWhile his fair eyes that swam with undropt tears\\nDid glitter in the yellow moon-beam! Well—\\nIt is a father\\'s tale. But if that Heaven\\nShould give me life, his childhood shall grow up\\nFamiliar with these songs, that with the night\\nHe may associate Joy! Once more farewell,\\nSweet Nightingale! once more, my friends! farewell.\"\\n\"Lo! where the Moon along the sky\\nSails with her happy destiny;\\nOft is she hid from mortal eye\\nOr dimly seen,\\nBut when the clouds asunder fly\\nHow bright her mien!\\n\\nFar different we--a froward race,\\nThousands though rich in Fortune\\'s grace\\nWith cherished sullenness of pace\\nTheir way pursue, \\nIngrates who wear a smileless face\\nThe whole year through.\\n\\nIf kindred humours e\\'er would make\\nMy spirit droop for drooping\\'s sake,\\nFrom Fancy following in thy wake,\\nBright ship of heaven!\\nA counter impulse let me take\\nAnd be forgiven. \"\\n\"Oh, I can smile for you, and tilt my head, \\nAnd drink your rushing words with eager lips, \\nAnd paint my mouth for you a fragrant red, \\nAnd trace your brows with tutored finger-tips. \\nWhen you rehearse your list of loves to me, \\nOh, I can laugh and marvel, rapturous-eyed. \\nAnd you laugh back, nor can you ever see \\nThe thousand little deaths my heart has died. \\nAnd you believe, so well I know my part, \\nThat I am gay as morning, light as snow, \\nAnd all the straining things within my heart \\nYou\\'ll never know. \\n\\nOh, I can laugh and listen, when we meet, \\nAnd you bring tales of fresh adventurings, -- \\nOf ladies delicately indiscreet, \\nOf lingering hands, and gently whispered things. \\nAnd you are pleased with me, and strive anew \\nTo sing me sagas of your late delights. \\nThus do you want me -- marveling, gay, and true, \\nNor do you see my staring eyes of nights. \\nAnd when, in search of novelty, you stray, \\nOh, I can kiss you blithely as you go .... \\nAnd what goes on, my love, while you\\'re away, \\nYou\\'ll never know. \"\\n\"If those I loved were lost\\nThe Crier\\'s voice would tell me --\\nIf those I loved were found\\nThe bells of Ghent would ring --\\n\\nDid those I loved repose\\nThe Daisy would impel me.\\nPhilip -- when bewildered\\nBore his riddle in!\"\\n\"And cannot pleasures, while they last,\\nBe actual unless, when past,\\nThey leave us shuddering and aghast,\\n      With anguish smarting?\\nAnd cannot friends be firm and fast,\\n      And yet bear parting?\\n\\nAnd must I then, at Friendship’s call,\\nCalmly resign the little all\\n(Trifling, I grant, it is and small)\\n      I have of gladness,\\nAnd lend my being to the thrall\\n      Of gloom and sadness?\\n\\nAnd think you that I should be dumb,\\nAnd full dolorum omnium,\\nExcepting when you choose to come\\n      And share my dinner?\\nAt other times be sour and glum\\n      And daily thinner?\\n\\nMust he then only live to weep,\\nWho’d prove his friendship true and deep\\nBy day a lonely shadow creep,\\n      At night-time languish,\\nOft raising in his broken sleep\\n      The moan of anguish?\\n\\nThe lover, if for certain days\\nHis fair one be denied his gaze,\\nSinks not in grief and wild amaze,\\n      But, wiser wooer,\\nHe spends the time in writing lays,\\n      And posts them to her.\\n\\nAnd if the verse flow free and fast,\\nTill even the poet is aghast,\\nA touching Valentine at last\\n      The post shall carry,\\nWhen thirteen days are gone and past\\n      Of February.\\n\\nFarewell, dear friend, and when we meet,\\nIn desert waste or crowded street,\\nPerhaps before this week shall fleet,\\n      Perhaps to-morrow.\\nI trust to find your heart the seat\\n      Of wasting sorrow.\"\\n\"He loved three things, alive:\\nWhite peacocks, songs at eve,\\nAnd antique maps of America.\\nHated when children cried,\\nAnd raspberry jam with tea,\\nAnd feminine hysteria.\\n…And he had married me.\"\\n\"‘I have no name:\\nI am but two days old.’\\nWhat shall I call thee?\\n‘I happy am,\\nJoy is my name.’\\nSweet joy befall thee!\\n\\nPretty joy!\\nSweet joy, but two days old.\\nSweet joy I call thee:\\nThou dost smile,\\nI sing the while,\\nSweet joy befall thee!\"\\n\"The city had withdrawn into itself\\nAnd left at last the country to the country;\\nWhen between whirls of snow not come to lie\\nAnd whirls of foliage not yet laid, there drove\\nA stranger to our yard, who looked the city,\\nYet did in country fashion in that there\\nHe sat and waited till he drew us out\\nA-buttoning coats to ask him who he was.\\nHe proved to be the city come again\\nTo look for something it had left behind\\nAnd could not do without and keep its Christmas.\\nHe asked if I would sell my Christmas trees;\\nMy woods—the young fir balsams like a place\\nWhere houses all are churches and have spires.\\nI hadn’t thought of them as Christmas Trees.\\nI doubt if I was tempted for a moment\\nTo sell them off their feet to go in cars\\nAnd leave the slope behind the house all bare,\\nWhere the sun shines now no warmer than the moon.\\nI’d hate to have them know it if I was.\\nYet more I’d hate to hold my trees except\\nAs others hold theirs or refuse for them,\\nBeyond the time of profitable growth,\\nThe trial by market everything must come to.\\nI dallied so much with the thought of selling.\\nThen whether from mistaken courtesy\\nAnd fear of seeming short of speech, or whether\\nFrom hope of hearing good of what was mine,\\nI said, “There aren’t enough to be worth while.”\\n“I could soon tell how many they would cut,\\nYou let me look them over.”\\n\\n“You could look.\\nBut don’t expect I’m going to let you have them.”\\nPasture they spring in, some in clumps too close\\nThat lop each other of boughs, but not a few\\nQuite solitary and having equal boughs\\nAll round and round. The latter he nodded “Yes” to,\\nOr paused to say beneath some lovelier one,\\nWith a buyer’s moderation, “That would do.”\\nI thought so too, but wasn’t there to say so.\\nWe climbed the pasture on the south, crossed over,\\nAnd came down on the north.\\nHe said, “A thousand.”\\n\\n“A thousand Christmas trees!—at what apiece?”\\n\\nHe felt some need of softening that to me:\\n“A thousand trees would come to thirty dollars.”\\n\\nThen I was certain I had never meant\\nTo let him have them. Never show surprise!\\nBut thirty dollars seemed so small beside\\nThe extent of pasture I should strip, three cents\\n(For that was all they figured out apiece),\\nThree cents so small beside the dollar friends\\nI should be writing to within the hour\\nWould pay in cities for good trees like those,\\nRegular vestry-trees whole Sunday Schools\\nCould hang enough on to pick off enough.\\nA thousand Christmas trees I didn’t know I had!\\nWorth three cents more to give away than sell,\\nAs may be shown by a simple calculation.\\nToo bad I couldn’t lay one in a letter.\\nI can’t help wishing I could send you one,\\nIn wishing you herewith a Merry Christmas. \"\\n\"    O gift of God! O perfect day:\\n    Whereon shall no man work, but play;\\n    Whereon it is enough for me,\\n    Not to be doing, but to be!\\n\\n    Through every fibre of my brain,\\n    Through every nerve, through every vein,\\n    I feel the electric thrill, the touch\\n    Of life, that seems almost too much.\\n\\n    I hear the wind among the trees\\n    Playing celestial symphonies;\\n    I see the branches downward bent,\\n    Like keys of some great instrument.\\n\\n    And over me unrolls on high\\n    The splendid scenery of the sky,\\n    Where though a sapphire sea the sun\\n    Sails like a golden galleon,\\n\\n    Towards yonder cloud-land in the West,\\n    Towards yonder Islands of the Blest,\\n    Whose steep sierra far uplifts\\n    Its craggy summits white with drifts.\\n\\n    Blow, winds! and waft through all the rooms\\n    The snow-flakes of the cherry-blooms!\\n    Blow, winds! and bend within my reach\\n    The fiery blossoms of the peach!\\n\\n    O Life and Love! O happy throng\\n    Of thoughts, whose only speech is song!\\n    O heart of man! canst thou not be\\n    Blithe as the air is, and as free?\"\\n\"The world is too much with us; late and soon,\\nGetting and spending, we lay waste our powers:\\nLittle we see in Nature that is ours;\\nWe have given our hearts away, a sordid boon!\\nThis Sea that bares her bosom to the moon;\\nThe winds that will be howling at all hours,\\nAnd are up-gathered now like sleeping flowers;\\nFor this, for everything, we are out of tune,\\nIt moves us not.--Great God! I\\'d rather be\\nA Pagan suckled in a creed outworn;\\nSo might I, standing on this pleasant lea,\\nHave glimpses that would make me less forlorn;\\nHave sight of Proteus rising from the sea;\\nOr hear old Triton blow his wreathed horn. \"\\n\"    To him who in the love of Nature holds\\nCommunion with her visible forms, she speaks\\nA various language; for his gayer hours\\nShe has a voice of gladness, and a smile\\nAnd eloquence of beauty, and she glides\\nInto his darker musings, with a mild\\nAnd healing sympathy, that steals away\\nTheir sharpness, e\\'re he is aware. When thoughts\\nOf the last bitter hour come like a blight\\nOver thy spirit, and sad images\\nOf the stern agony, and shroud, and pall,\\nAnd breathless darkness, and the narrow house,\\nMake thee to shudder, and grow sick at heart;—\\nGo forth, under the open sky, and list\\nTo Nature\\'s teachings, while from all around—\\nEarth and her waters, and the depths of air,—\\nComes a still voice—Yet a few days, and thee\\nThe all-beholding sun shall see no more\\nIn all his course; nor yet in the cold ground,\\nWhere thy pale form was laid, with many tears,\\nNor in the embrace of ocean, shall exist\\nThy image. Earth, that nourished thee, shall claim\\nThy growth, to be resolved to earth again,\\nAnd, lost each human trace, surrendering up\\nThine individual being, shalt thou go\\nTo mix for ever with the elements,\\nTo be a brother to the insensible rock\\nAnd to the sluggish clod, which the rude swain\\nTurns with his share, and treads upon. The oak\\nShall send his roots abroad, and pierce thy mould.\\n\\n    Yet not to thine eternal resting-place\\nShalt thou retire alone—nor couldst thou wish\\nCouch more magnificent. Thou shalt lie down\\nWith patriarchs of the infant world—with kings,\\nThe powerful of the earth—the wise, the good,\\nFair forms, and hoary seers of ages past,\\nAll in one mighty sepulchre.—The hills\\nRock-ribbed and ancient as the sun,—the vales\\nStretching in pensive quietness between;\\nThe venerable woods—rivers that move\\nIn majesty, and the complaining brooks\\nThat make the meadows green; and, poured round all,\\nOld ocean\\'s gray and melancholy waste,—\\nAre but the solemn decorations all\\nOf the great tomb of man. The golden sun,\\nThe planets, all the infinite host of heaven,\\nAre shining on the sad abodes of death,\\nThrough the still lapse of ages. All that tread\\nThe globe are but a handful to the tribes\\nThat slumber in its bosom.—Take the wings\\nOf morning—and the Barcan desert pierce,\\nOr lose thyself in the continuous woods\\nWhere rolls the Oregon, and hears no sound,\\nSave his own dashings—yet—the dead are there:\\nAnd millions in those solitudes, since first\\nThe flight of years began, have laid them down\\nIn their last sleep—the dead reign there alone.\\nSo shalt thou rest—-and what, if thou withdraw\\nUnheeded by the living, and no friend\\nTake note of thy departure? All that breathe\\nWill share thy destiny. The gay will laugh\\nWhen thou art gone, the solemn brood of care\\nPlod on, and each one as before will chase\\nHis favourite phantom; yet all these shall leave\\nTheir mirth and their employments, and shall come,\\nAnd make their bed with thee. As the long train\\nOf ages glide away, the sons of men,\\nThe youth in life\\'s green spring, and he who goes\\nIn the full strength of years, matron, and maid,\\nAnd the sweet babe, and the gray-headed man,—\\nShall one by one be gathered to thy side,\\nBy those, who in their turn shall follow them.\\n\\n    So live, that when thy summons comes to join\\nThe innumerable caravan, that moves\\nTo that mysterious realm, where each shall take\\nHis chamber in the silent halls of death,\\nThou go not like the quarry-slave at night,\\nScourged to his dungeon, but, sustained and soothed\\nBy an unfaltering trust, approach thy grave,\\nLike one who wraps the drapery of his couch\\nAbout him, and lies down to pleasant dreams.\"\\n\"It was an April morning: fresh and clear \\nThe Rivulet, delighting in its strength, \\nRan with a young man\\'s speed; and yet the voice \\nOf waters which the winter had supplied \\nWas softened down into a vernal tone. \\nThe spirit of enjoyment and desire, \\nAnd hopes and wishes, from all living things \\nWent circling, like a multitude of sounds. \\nThe budding groves seemed eager to urge on \\nThe steps of June; as if their various hues \\nWere only hindrances that stood between \\nThem and their object: but, meanwhile, prevailed \\nSuch an entire contentment in the air \\nThat every naked ash, and tardy tree \\nYet leafless, showed as if the countenance \\nWith which it looked on this delightful day \\nWere native to the summer.--Up the brook \\nI roamed in the confusion of my heart, \\nAlive to all things and forgetting all. \\nAt length I to a sudden turning came \\nIn this continuous glen, where down a rock \\nThe Stream, so ardent in its course before, \\nSent forth such sallies of glad sound, that all \\nWhich I till then had heard, appeared the voice \\nOf common pleasure: beast and bird, the lamb, \\nThe shepherd\\'s dog, the linnet and the thrush \\nVied with this waterfall, and made a song, \\nWhich, while I listened, seemed like the wild growth \\nOr like some natural produce of the air, \\nThat could not cease to be. Green leaves were here; \\nBut \\'twas the foliage of the rocks--the birch, \\nThe yew, the holly, and the bright green thorn, \\nWith hanging islands of resplendent furze: \\nAnd, on a summit, distant a short space, \\nBy any who should look beyond the dell, \\nA single mountain-cottage might be seen. \\nI gazed and gazed, and to myself I said, \\n\\'Our thoughts at least are ours; and this wild nook, \\nMy EMMA, I will dedicate to thee.\\' \\n----Soon did the spot become my other home, \\nMy dwelling, and my out-of-doors abode. \\nAnd, of the Shepherds who have seen me there, \\nTo whom I sometimes in our idle talk \\nHave told this fancy, two or three, perhaps, \\nYears after we are gone and in our graves, \\nWhen they have cause to speak of this wild place, \\nMay call it by the name of EMMA\\'S DELL. \"'"
      ]
     },
     "execution_count": 3,
     "metadata": {},
     "output_type": "execute_result"
    }
   ],
   "source": [
    "data_path='C:\\\\Users\\\\a3318\\\\OneDrive - Axtria\\\\Documents\\\\Data\\\\poems\\\\poems.txt'\n",
    "\n",
    "with open(data_path,encoding='utf8') as f:\n",
    "    lines=f.read()\n",
    "lines"
   ]
  },
  {
   "cell_type": "code",
   "execution_count": 4,
   "id": "0c204dfe",
   "metadata": {},
   "outputs": [],
   "source": [
    "lines=lines.split('\\n\\n')"
   ]
  },
  {
   "cell_type": "code",
   "execution_count": 5,
   "id": "539a4b75",
   "metadata": {},
   "outputs": [],
   "source": [
    "import os\n",
    "os.environ[\"KERAS_BACKEND\"] = \"tensorflow\"\n",
    "\n",
    "import keras\n",
    "from keras import layers\n",
    "from keras import ops\n",
    "from keras.layers import TextVectorization\n",
    "import numpy as np\n",
    "import os\n",
    "import string\n",
    "import random\n",
    "import tensorflow\n",
    "import tensorflow.data as tf_data\n",
    "import tensorflow.strings as tf_strings"
   ]
  },
  {
   "cell_type": "code",
   "execution_count": 6,
   "id": "75f443e2",
   "metadata": {},
   "outputs": [],
   "source": [
    "def causal_attention_mask(batch_size, n_dest, n_src, dtype):\n",
    "    \"\"\"\n",
    "    Mask the upper half of the dot product matrix in self attention.\n",
    "    This prevents flow of information from future tokens to current token.\n",
    "    1's in the lower triangle, counting from the lower right corner.\n",
    "    \"\"\"\n",
    "    i = ops.arange(n_dest)[:, None]\n",
    "    j = ops.arange(n_src)\n",
    "    m = i >= j - n_src + n_dest\n",
    "    mask = ops.cast(m, dtype)\n",
    "    mask = ops.reshape(mask, [1, n_dest, n_src])\n",
    "    mult = ops.concatenate(\n",
    "        [ops.expand_dims(batch_size, -1), ops.convert_to_tensor([1, 1])], 0\n",
    "    )\n",
    "    return ops.tile(mask, mult)\n",
    "\n",
    "\n",
    "class TransformerBlock(layers.Layer):\n",
    "    def __init__(self, embed_dim, num_heads, ff_dim, rate=0.1):\n",
    "        super().__init__()\n",
    "        self.att = layers.MultiHeadAttention(num_heads, embed_dim)\n",
    "        self.ffn = keras.Sequential(\n",
    "            [\n",
    "                layers.Dense(ff_dim, activation=\"relu\"),\n",
    "                layers.Dense(embed_dim),\n",
    "            ]\n",
    "        )\n",
    "        self.layernorm1 = layers.LayerNormalization(epsilon=1e-6)\n",
    "        self.layernorm2 = layers.LayerNormalization(epsilon=1e-6)\n",
    "        self.dropout1 = layers.Dropout(rate)\n",
    "        self.dropout2 = layers.Dropout(rate)\n",
    "\n",
    "    def call(self, inputs):\n",
    "        input_shape = ops.shape(inputs)\n",
    "        batch_size = input_shape[0]\n",
    "        seq_len = input_shape[1]\n",
    "        causal_mask = causal_attention_mask(batch_size, seq_len, seq_len, \"bool\")\n",
    "        attention_output = self.att(inputs, inputs, attention_mask=causal_mask)\n",
    "        attention_output = self.dropout1(attention_output)\n",
    "        out1 = self.layernorm1(inputs + attention_output)\n",
    "        ffn_output = self.ffn(out1)\n",
    "        ffn_output = self.dropout2(ffn_output)\n",
    "        return self.layernorm2(out1 + ffn_output)"
   ]
  },
  {
   "cell_type": "code",
   "execution_count": 7,
   "id": "e3dfb45f",
   "metadata": {},
   "outputs": [],
   "source": [
    "class TokenAndPositionEmbedding(layers.Layer):\n",
    "    def __init__(self, maxlen, vocab_size, embed_dim):\n",
    "        super().__init__()\n",
    "        self.token_emb = layers.Embedding(input_dim=vocab_size, output_dim=embed_dim)\n",
    "        self.pos_emb = layers.Embedding(input_dim=maxlen, output_dim=embed_dim)\n",
    "\n",
    "    def call(self, x):\n",
    "        maxlen = ops.shape(x)[-1]\n",
    "        positions = ops.arange(0, maxlen, 1)\n",
    "        positions = self.pos_emb(positions)\n",
    "        x = self.token_emb(x)\n",
    "        return x + positions"
   ]
  },
  {
   "cell_type": "code",
   "execution_count": 8,
   "id": "575e7a4d",
   "metadata": {},
   "outputs": [],
   "source": [
    "vocab_size = 20000  # Only consider the top 20k words\n",
    "maxlen = 80  # Max sequence size\n",
    "embed_dim = 256  # Embedding size for each token\n",
    "num_heads = 2  # Number of attention heads\n",
    "feed_forward_dim = 256  # Hidden layer size in feed forward network inside transformer\n",
    "\n",
    "\n",
    "def create_model():\n",
    "    inputs = layers.Input(shape=(maxlen,), dtype=\"int32\")\n",
    "    embedding_layer = TokenAndPositionEmbedding(maxlen, vocab_size, embed_dim)\n",
    "    x = embedding_layer(inputs)\n",
    "    transformer_block1 = TransformerBlock(embed_dim, num_heads, feed_forward_dim)\n",
    "    x = transformer_block1(x)\n",
    "    transformer_block2 = TransformerBlock(embed_dim, num_heads, feed_forward_dim)\n",
    "    x = transformer_block2(x)\n",
    "    transformer_block3 = TransformerBlock(embed_dim, num_heads, feed_forward_dim)\n",
    "    x = transformer_block3(x)\n",
    "    outputs = layers.Dense(vocab_size)(x)\n",
    "    model = keras.Model(inputs=inputs, outputs=[outputs, x])\n",
    "    loss_fn = keras.losses.SparseCategoricalCrossentropy(from_logits=True)\n",
    "    model.compile(\n",
    "        \"adam\",\n",
    "        loss=[loss_fn, None],\n",
    "    )  # No loss and optimization based on word embeddings from transformer block\n",
    "    return model"
   ]
  },
  {
   "cell_type": "code",
   "execution_count": 9,
   "id": "ab578387",
   "metadata": {},
   "outputs": [
    {
     "name": "stdout",
     "output_type": "stream",
     "text": [
      "WARNING:tensorflow:From c:\\Users\\a3318\\AppData\\Local\\Programs\\Python\\Python311\\Lib\\site-packages\\keras\\src\\backend\\tensorflow\\core.py:232: The name tf.placeholder is deprecated. Please use tf.compat.v1.placeholder instead.\n",
      "\n"
     ]
    },
    {
     "data": {
      "text/html": [
       "<pre style=\"white-space:pre;overflow-x:auto;line-height:normal;font-family:Menlo,'DejaVu Sans Mono',consolas,'Courier New',monospace\"><span style=\"font-weight: bold\">Model: \"functional_3\"</span>\n",
       "</pre>\n"
      ],
      "text/plain": [
       "\u001b[1mModel: \"functional_3\"\u001b[0m\n"
      ]
     },
     "metadata": {},
     "output_type": "display_data"
    },
    {
     "data": {
      "text/html": [
       "<pre style=\"white-space:pre;overflow-x:auto;line-height:normal;font-family:Menlo,'DejaVu Sans Mono',consolas,'Courier New',monospace\">┏━━━━━━━━━━━━━━━━━━━━━━━━━━━━━━━━━┳━━━━━━━━━━━━━━━━━━━━━━━━┳━━━━━━━━━━━━━━━┓\n",
       "┃<span style=\"font-weight: bold\"> Layer (type)                    </span>┃<span style=\"font-weight: bold\"> Output Shape           </span>┃<span style=\"font-weight: bold\">       Param # </span>┃\n",
       "┡━━━━━━━━━━━━━━━━━━━━━━━━━━━━━━━━━╇━━━━━━━━━━━━━━━━━━━━━━━━╇━━━━━━━━━━━━━━━┩\n",
       "│ input_layer (<span style=\"color: #0087ff; text-decoration-color: #0087ff\">InputLayer</span>)        │ (<span style=\"color: #00d7ff; text-decoration-color: #00d7ff\">None</span>, <span style=\"color: #00af00; text-decoration-color: #00af00\">80</span>)             │             <span style=\"color: #00af00; text-decoration-color: #00af00\">0</span> │\n",
       "├─────────────────────────────────┼────────────────────────┼───────────────┤\n",
       "│ token_and_position_embedding    │ (<span style=\"color: #00d7ff; text-decoration-color: #00d7ff\">None</span>, <span style=\"color: #00af00; text-decoration-color: #00af00\">80</span>, <span style=\"color: #00af00; text-decoration-color: #00af00\">256</span>)        │     <span style=\"color: #00af00; text-decoration-color: #00af00\">5,140,480</span> │\n",
       "│ (<span style=\"color: #0087ff; text-decoration-color: #0087ff\">TokenAndPositionEmbedding</span>)     │                        │               │\n",
       "├─────────────────────────────────┼────────────────────────┼───────────────┤\n",
       "│ transformer_block               │ (<span style=\"color: #00d7ff; text-decoration-color: #00d7ff\">None</span>, <span style=\"color: #00af00; text-decoration-color: #00af00\">80</span>, <span style=\"color: #00af00; text-decoration-color: #00af00\">256</span>)        │       <span style=\"color: #00af00; text-decoration-color: #00af00\">658,688</span> │\n",
       "│ (<span style=\"color: #0087ff; text-decoration-color: #0087ff\">TransformerBlock</span>)              │                        │               │\n",
       "├─────────────────────────────────┼────────────────────────┼───────────────┤\n",
       "│ transformer_block_1             │ (<span style=\"color: #00d7ff; text-decoration-color: #00d7ff\">None</span>, <span style=\"color: #00af00; text-decoration-color: #00af00\">80</span>, <span style=\"color: #00af00; text-decoration-color: #00af00\">256</span>)        │       <span style=\"color: #00af00; text-decoration-color: #00af00\">658,688</span> │\n",
       "│ (<span style=\"color: #0087ff; text-decoration-color: #0087ff\">TransformerBlock</span>)              │                        │               │\n",
       "├─────────────────────────────────┼────────────────────────┼───────────────┤\n",
       "│ transformer_block_2             │ (<span style=\"color: #00d7ff; text-decoration-color: #00d7ff\">None</span>, <span style=\"color: #00af00; text-decoration-color: #00af00\">80</span>, <span style=\"color: #00af00; text-decoration-color: #00af00\">256</span>)        │       <span style=\"color: #00af00; text-decoration-color: #00af00\">658,688</span> │\n",
       "│ (<span style=\"color: #0087ff; text-decoration-color: #0087ff\">TransformerBlock</span>)              │                        │               │\n",
       "├─────────────────────────────────┼────────────────────────┼───────────────┤\n",
       "│ dense_6 (<span style=\"color: #0087ff; text-decoration-color: #0087ff\">Dense</span>)                 │ (<span style=\"color: #00d7ff; text-decoration-color: #00d7ff\">None</span>, <span style=\"color: #00af00; text-decoration-color: #00af00\">80</span>, <span style=\"color: #00af00; text-decoration-color: #00af00\">20000</span>)      │     <span style=\"color: #00af00; text-decoration-color: #00af00\">5,140,000</span> │\n",
       "└─────────────────────────────────┴────────────────────────┴───────────────┘\n",
       "</pre>\n"
      ],
      "text/plain": [
       "┏━━━━━━━━━━━━━━━━━━━━━━━━━━━━━━━━━┳━━━━━━━━━━━━━━━━━━━━━━━━┳━━━━━━━━━━━━━━━┓\n",
       "┃\u001b[1m \u001b[0m\u001b[1mLayer (type)                   \u001b[0m\u001b[1m \u001b[0m┃\u001b[1m \u001b[0m\u001b[1mOutput Shape          \u001b[0m\u001b[1m \u001b[0m┃\u001b[1m \u001b[0m\u001b[1m      Param #\u001b[0m\u001b[1m \u001b[0m┃\n",
       "┡━━━━━━━━━━━━━━━━━━━━━━━━━━━━━━━━━╇━━━━━━━━━━━━━━━━━━━━━━━━╇━━━━━━━━━━━━━━━┩\n",
       "│ input_layer (\u001b[38;5;33mInputLayer\u001b[0m)        │ (\u001b[38;5;45mNone\u001b[0m, \u001b[38;5;34m80\u001b[0m)             │             \u001b[38;5;34m0\u001b[0m │\n",
       "├─────────────────────────────────┼────────────────────────┼───────────────┤\n",
       "│ token_and_position_embedding    │ (\u001b[38;5;45mNone\u001b[0m, \u001b[38;5;34m80\u001b[0m, \u001b[38;5;34m256\u001b[0m)        │     \u001b[38;5;34m5,140,480\u001b[0m │\n",
       "│ (\u001b[38;5;33mTokenAndPositionEmbedding\u001b[0m)     │                        │               │\n",
       "├─────────────────────────────────┼────────────────────────┼───────────────┤\n",
       "│ transformer_block               │ (\u001b[38;5;45mNone\u001b[0m, \u001b[38;5;34m80\u001b[0m, \u001b[38;5;34m256\u001b[0m)        │       \u001b[38;5;34m658,688\u001b[0m │\n",
       "│ (\u001b[38;5;33mTransformerBlock\u001b[0m)              │                        │               │\n",
       "├─────────────────────────────────┼────────────────────────┼───────────────┤\n",
       "│ transformer_block_1             │ (\u001b[38;5;45mNone\u001b[0m, \u001b[38;5;34m80\u001b[0m, \u001b[38;5;34m256\u001b[0m)        │       \u001b[38;5;34m658,688\u001b[0m │\n",
       "│ (\u001b[38;5;33mTransformerBlock\u001b[0m)              │                        │               │\n",
       "├─────────────────────────────────┼────────────────────────┼───────────────┤\n",
       "│ transformer_block_2             │ (\u001b[38;5;45mNone\u001b[0m, \u001b[38;5;34m80\u001b[0m, \u001b[38;5;34m256\u001b[0m)        │       \u001b[38;5;34m658,688\u001b[0m │\n",
       "│ (\u001b[38;5;33mTransformerBlock\u001b[0m)              │                        │               │\n",
       "├─────────────────────────────────┼────────────────────────┼───────────────┤\n",
       "│ dense_6 (\u001b[38;5;33mDense\u001b[0m)                 │ (\u001b[38;5;45mNone\u001b[0m, \u001b[38;5;34m80\u001b[0m, \u001b[38;5;34m20000\u001b[0m)      │     \u001b[38;5;34m5,140,000\u001b[0m │\n",
       "└─────────────────────────────────┴────────────────────────┴───────────────┘\n"
      ]
     },
     "metadata": {},
     "output_type": "display_data"
    },
    {
     "data": {
      "text/html": [
       "<pre style=\"white-space:pre;overflow-x:auto;line-height:normal;font-family:Menlo,'DejaVu Sans Mono',consolas,'Courier New',monospace\"><span style=\"font-weight: bold\"> Total params: </span><span style=\"color: #00af00; text-decoration-color: #00af00\">12,256,544</span> (46.76 MB)\n",
       "</pre>\n"
      ],
      "text/plain": [
       "\u001b[1m Total params: \u001b[0m\u001b[38;5;34m12,256,544\u001b[0m (46.76 MB)\n"
      ]
     },
     "metadata": {},
     "output_type": "display_data"
    },
    {
     "data": {
      "text/html": [
       "<pre style=\"white-space:pre;overflow-x:auto;line-height:normal;font-family:Menlo,'DejaVu Sans Mono',consolas,'Courier New',monospace\"><span style=\"font-weight: bold\"> Trainable params: </span><span style=\"color: #00af00; text-decoration-color: #00af00\">12,256,544</span> (46.76 MB)\n",
       "</pre>\n"
      ],
      "text/plain": [
       "\u001b[1m Trainable params: \u001b[0m\u001b[38;5;34m12,256,544\u001b[0m (46.76 MB)\n"
      ]
     },
     "metadata": {},
     "output_type": "display_data"
    },
    {
     "data": {
      "text/html": [
       "<pre style=\"white-space:pre;overflow-x:auto;line-height:normal;font-family:Menlo,'DejaVu Sans Mono',consolas,'Courier New',monospace\"><span style=\"font-weight: bold\"> Non-trainable params: </span><span style=\"color: #00af00; text-decoration-color: #00af00\">0</span> (0.00 B)\n",
       "</pre>\n"
      ],
      "text/plain": [
       "\u001b[1m Non-trainable params: \u001b[0m\u001b[38;5;34m0\u001b[0m (0.00 B)\n"
      ]
     },
     "metadata": {},
     "output_type": "display_data"
    }
   ],
   "source": [
    "model=create_model()\n",
    "model.summary()"
   ]
  },
  {
   "cell_type": "code",
   "execution_count": 10,
   "id": "694d5ea8",
   "metadata": {},
   "outputs": [],
   "source": [
    "def custom_standardization(input_string):\n",
    "    \"\"\"Remove html line-break tags and handle punctuation\"\"\"\n",
    "    lowercased = tf_strings.lower(input_string)\n",
    "    stripped_html = tf_strings.regex_replace(lowercased, \"<br />\", \" \")\n",
    "    return tf_strings.regex_replace(stripped_html, f\"([{string.punctuation}])\", r\" \\1\")\n",
    "\n",
    "\n",
    "# Create a vectorization layer and adapt it to the text\n",
    "vectorize_layer = TextVectorization(\n",
    "    standardize=custom_standardization,\n",
    "    max_tokens=vocab_size - 1,\n",
    "    output_mode=\"int\",\n",
    "    output_sequence_length=maxlen + 1,\n",
    ")\n",
    "vectorize_layer.adapt(lines)\n",
    "vocab = vectorize_layer.get_vocabulary()  # To get words back from token indices\n"
   ]
  },
  {
   "cell_type": "code",
   "execution_count": 11,
   "id": "6fb5e71a",
   "metadata": {},
   "outputs": [],
   "source": [
    "def prepare_lm_inputs_labels(text):\n",
    "    \"\"\"\n",
    "    Shift word sequences by 1 position so that the target for position (i) is\n",
    "    word at position (i+1). The model will use all words up till position (i)\n",
    "    to predict the next word.\n",
    "    \"\"\"\n",
    "    text = tensorflow.expand_dims(text, -1)\n",
    "    print(text.shape)\n",
    "    tokenized_sentences = vectorize_layer(text)\n",
    "    \n",
    "    x = tokenized_sentences[:, :-1]\n",
    "    y = tokenized_sentences[:, 1:]\n",
    "    return x, y"
   ]
  },
  {
   "cell_type": "code",
   "execution_count": 12,
   "id": "bd5fa36b",
   "metadata": {},
   "outputs": [
    {
     "name": "stdout",
     "output_type": "stream",
     "text": [
      "(435, 1)\n"
     ]
    }
   ],
   "source": [
    "x,y= prepare_lm_inputs_labels(lines)"
   ]
  },
  {
   "cell_type": "code",
   "execution_count": 2,
   "id": "f23ad808",
   "metadata": {},
   "outputs": [
    {
     "ename": "NameError",
     "evalue": "name 'y' is not defined",
     "output_type": "error",
     "traceback": [
      "\u001b[31m---------------------------------------------------------------------------\u001b[39m",
      "\u001b[31mNameError\u001b[39m                                 Traceback (most recent call last)",
      "\u001b[36mCell\u001b[39m\u001b[36m \u001b[39m\u001b[32mIn[2]\u001b[39m\u001b[32m, line 1\u001b[39m\n\u001b[32m----> \u001b[39m\u001b[32m1\u001b[39m \u001b[43my\u001b[49m\n",
      "\u001b[31mNameError\u001b[39m: name 'y' is not defined"
     ]
    }
   ],
   "source": [
    "y"
   ]
  },
  {
   "cell_type": "code",
   "execution_count": 13,
   "id": "6a429937",
   "metadata": {},
   "outputs": [
    {
     "name": "stdout",
     "output_type": "stream",
     "text": [
      "Epoch 1/5\n",
      "14/14 - 23s - 2s/step - loss: 7.4774\n",
      "Epoch 2/5\n",
      "14/14 - 16s - 1s/step - loss: 4.2797\n",
      "Epoch 3/5\n",
      "14/14 - 16s - 1s/step - loss: 3.4989\n",
      "Epoch 4/5\n",
      "14/14 - 16s - 1s/step - loss: 3.3659\n",
      "Epoch 5/5\n",
      "14/14 - 16s - 1s/step - loss: 3.1656\n"
     ]
    },
    {
     "data": {
      "text/plain": [
       "<keras.src.callbacks.history.History at 0x1e919016e50>"
      ]
     },
     "execution_count": 13,
     "metadata": {},
     "output_type": "execute_result"
    }
   ],
   "source": [
    "model = create_model()\n",
    "\n",
    "model.fit(x,y, verbose=2, epochs=5)"
   ]
  },
  {
   "cell_type": "code",
   "execution_count": 26,
   "id": "e7dba417",
   "metadata": {},
   "outputs": [],
   "source": [
    "outs=model(x)"
   ]
  },
  {
   "cell_type": "code",
   "execution_count": 36,
   "id": "44701a84",
   "metadata": {},
   "outputs": [
    {
     "data": {
      "text/plain": [
       "<tf.Tensor: shape=(), dtype=float32, numpy=16.90903091430664>"
      ]
     },
     "execution_count": 36,
     "metadata": {},
     "output_type": "execute_result"
    }
   ],
   "source": [
    "loss=keras.losses.SparseCategoricalCrossentropy()\n",
    "loss(y,outs[0])"
   ]
  },
  {
   "cell_type": "code",
   "execution_count": 38,
   "id": "0ef3c32a",
   "metadata": {},
   "outputs": [
    {
     "data": {
      "text/html": [
       "<pre style=\"white-space:pre;overflow-x:auto;line-height:normal;font-family:Menlo,'DejaVu Sans Mono',consolas,'Courier New',monospace\"><span style=\"font-weight: bold\">Model: \"functional_7\"</span>\n",
       "</pre>\n"
      ],
      "text/plain": [
       "\u001b[1mModel: \"functional_7\"\u001b[0m\n"
      ]
     },
     "metadata": {},
     "output_type": "display_data"
    },
    {
     "data": {
      "text/html": [
       "<pre style=\"white-space:pre;overflow-x:auto;line-height:normal;font-family:Menlo,'DejaVu Sans Mono',consolas,'Courier New',monospace\">┏━━━━━━━━━━━━━━━━━━━━━━━━━━━━━━━━━┳━━━━━━━━━━━━━━━━━━━━━━━━┳━━━━━━━━━━━━━━━┓\n",
       "┃<span style=\"font-weight: bold\"> Layer (type)                    </span>┃<span style=\"font-weight: bold\"> Output Shape           </span>┃<span style=\"font-weight: bold\">       Param # </span>┃\n",
       "┡━━━━━━━━━━━━━━━━━━━━━━━━━━━━━━━━━╇━━━━━━━━━━━━━━━━━━━━━━━━╇━━━━━━━━━━━━━━━┩\n",
       "│ input_layer_4 (<span style=\"color: #0087ff; text-decoration-color: #0087ff\">InputLayer</span>)      │ (<span style=\"color: #00d7ff; text-decoration-color: #00d7ff\">None</span>, <span style=\"color: #00af00; text-decoration-color: #00af00\">80</span>)             │             <span style=\"color: #00af00; text-decoration-color: #00af00\">0</span> │\n",
       "├─────────────────────────────────┼────────────────────────┼───────────────┤\n",
       "│ token_and_position_embedding_1  │ (<span style=\"color: #00d7ff; text-decoration-color: #00d7ff\">None</span>, <span style=\"color: #00af00; text-decoration-color: #00af00\">80</span>, <span style=\"color: #00af00; text-decoration-color: #00af00\">256</span>)        │     <span style=\"color: #00af00; text-decoration-color: #00af00\">5,140,480</span> │\n",
       "│ (<span style=\"color: #0087ff; text-decoration-color: #0087ff\">TokenAndPositionEmbedding</span>)     │                        │               │\n",
       "├─────────────────────────────────┼────────────────────────┼───────────────┤\n",
       "│ transformer_block_3             │ (<span style=\"color: #00d7ff; text-decoration-color: #00d7ff\">None</span>, <span style=\"color: #00af00; text-decoration-color: #00af00\">80</span>, <span style=\"color: #00af00; text-decoration-color: #00af00\">256</span>)        │       <span style=\"color: #00af00; text-decoration-color: #00af00\">658,688</span> │\n",
       "│ (<span style=\"color: #0087ff; text-decoration-color: #0087ff\">TransformerBlock</span>)              │                        │               │\n",
       "├─────────────────────────────────┼────────────────────────┼───────────────┤\n",
       "│ transformer_block_4             │ (<span style=\"color: #00d7ff; text-decoration-color: #00d7ff\">None</span>, <span style=\"color: #00af00; text-decoration-color: #00af00\">80</span>, <span style=\"color: #00af00; text-decoration-color: #00af00\">256</span>)        │       <span style=\"color: #00af00; text-decoration-color: #00af00\">658,688</span> │\n",
       "│ (<span style=\"color: #0087ff; text-decoration-color: #0087ff\">TransformerBlock</span>)              │                        │               │\n",
       "├─────────────────────────────────┼────────────────────────┼───────────────┤\n",
       "│ transformer_block_5             │ (<span style=\"color: #00d7ff; text-decoration-color: #00d7ff\">None</span>, <span style=\"color: #00af00; text-decoration-color: #00af00\">80</span>, <span style=\"color: #00af00; text-decoration-color: #00af00\">256</span>)        │       <span style=\"color: #00af00; text-decoration-color: #00af00\">658,688</span> │\n",
       "│ (<span style=\"color: #0087ff; text-decoration-color: #0087ff\">TransformerBlock</span>)              │                        │               │\n",
       "├─────────────────────────────────┼────────────────────────┼───────────────┤\n",
       "│ dense_13 (<span style=\"color: #0087ff; text-decoration-color: #0087ff\">Dense</span>)                │ (<span style=\"color: #00d7ff; text-decoration-color: #00d7ff\">None</span>, <span style=\"color: #00af00; text-decoration-color: #00af00\">80</span>, <span style=\"color: #00af00; text-decoration-color: #00af00\">20000</span>)      │     <span style=\"color: #00af00; text-decoration-color: #00af00\">5,140,000</span> │\n",
       "└─────────────────────────────────┴────────────────────────┴───────────────┘\n",
       "</pre>\n"
      ],
      "text/plain": [
       "┏━━━━━━━━━━━━━━━━━━━━━━━━━━━━━━━━━┳━━━━━━━━━━━━━━━━━━━━━━━━┳━━━━━━━━━━━━━━━┓\n",
       "┃\u001b[1m \u001b[0m\u001b[1mLayer (type)                   \u001b[0m\u001b[1m \u001b[0m┃\u001b[1m \u001b[0m\u001b[1mOutput Shape          \u001b[0m\u001b[1m \u001b[0m┃\u001b[1m \u001b[0m\u001b[1m      Param #\u001b[0m\u001b[1m \u001b[0m┃\n",
       "┡━━━━━━━━━━━━━━━━━━━━━━━━━━━━━━━━━╇━━━━━━━━━━━━━━━━━━━━━━━━╇━━━━━━━━━━━━━━━┩\n",
       "│ input_layer_4 (\u001b[38;5;33mInputLayer\u001b[0m)      │ (\u001b[38;5;45mNone\u001b[0m, \u001b[38;5;34m80\u001b[0m)             │             \u001b[38;5;34m0\u001b[0m │\n",
       "├─────────────────────────────────┼────────────────────────┼───────────────┤\n",
       "│ token_and_position_embedding_1  │ (\u001b[38;5;45mNone\u001b[0m, \u001b[38;5;34m80\u001b[0m, \u001b[38;5;34m256\u001b[0m)        │     \u001b[38;5;34m5,140,480\u001b[0m │\n",
       "│ (\u001b[38;5;33mTokenAndPositionEmbedding\u001b[0m)     │                        │               │\n",
       "├─────────────────────────────────┼────────────────────────┼───────────────┤\n",
       "│ transformer_block_3             │ (\u001b[38;5;45mNone\u001b[0m, \u001b[38;5;34m80\u001b[0m, \u001b[38;5;34m256\u001b[0m)        │       \u001b[38;5;34m658,688\u001b[0m │\n",
       "│ (\u001b[38;5;33mTransformerBlock\u001b[0m)              │                        │               │\n",
       "├─────────────────────────────────┼────────────────────────┼───────────────┤\n",
       "│ transformer_block_4             │ (\u001b[38;5;45mNone\u001b[0m, \u001b[38;5;34m80\u001b[0m, \u001b[38;5;34m256\u001b[0m)        │       \u001b[38;5;34m658,688\u001b[0m │\n",
       "│ (\u001b[38;5;33mTransformerBlock\u001b[0m)              │                        │               │\n",
       "├─────────────────────────────────┼────────────────────────┼───────────────┤\n",
       "│ transformer_block_5             │ (\u001b[38;5;45mNone\u001b[0m, \u001b[38;5;34m80\u001b[0m, \u001b[38;5;34m256\u001b[0m)        │       \u001b[38;5;34m658,688\u001b[0m │\n",
       "│ (\u001b[38;5;33mTransformerBlock\u001b[0m)              │                        │               │\n",
       "├─────────────────────────────────┼────────────────────────┼───────────────┤\n",
       "│ dense_13 (\u001b[38;5;33mDense\u001b[0m)                │ (\u001b[38;5;45mNone\u001b[0m, \u001b[38;5;34m80\u001b[0m, \u001b[38;5;34m20000\u001b[0m)      │     \u001b[38;5;34m5,140,000\u001b[0m │\n",
       "└─────────────────────────────────┴────────────────────────┴───────────────┘\n"
      ]
     },
     "metadata": {},
     "output_type": "display_data"
    },
    {
     "data": {
      "text/html": [
       "<pre style=\"white-space:pre;overflow-x:auto;line-height:normal;font-family:Menlo,'DejaVu Sans Mono',consolas,'Courier New',monospace\"><span style=\"font-weight: bold\"> Total params: </span><span style=\"color: #00af00; text-decoration-color: #00af00\">12,256,544</span> (46.76 MB)\n",
       "</pre>\n"
      ],
      "text/plain": [
       "\u001b[1m Total params: \u001b[0m\u001b[38;5;34m12,256,544\u001b[0m (46.76 MB)\n"
      ]
     },
     "metadata": {},
     "output_type": "display_data"
    },
    {
     "data": {
      "text/html": [
       "<pre style=\"white-space:pre;overflow-x:auto;line-height:normal;font-family:Menlo,'DejaVu Sans Mono',consolas,'Courier New',monospace\"><span style=\"font-weight: bold\"> Trainable params: </span><span style=\"color: #00af00; text-decoration-color: #00af00\">12,256,544</span> (46.76 MB)\n",
       "</pre>\n"
      ],
      "text/plain": [
       "\u001b[1m Trainable params: \u001b[0m\u001b[38;5;34m12,256,544\u001b[0m (46.76 MB)\n"
      ]
     },
     "metadata": {},
     "output_type": "display_data"
    },
    {
     "data": {
      "text/html": [
       "<pre style=\"white-space:pre;overflow-x:auto;line-height:normal;font-family:Menlo,'DejaVu Sans Mono',consolas,'Courier New',monospace\"><span style=\"font-weight: bold\"> Non-trainable params: </span><span style=\"color: #00af00; text-decoration-color: #00af00\">0</span> (0.00 B)\n",
       "</pre>\n"
      ],
      "text/plain": [
       "\u001b[1m Non-trainable params: \u001b[0m\u001b[38;5;34m0\u001b[0m (0.00 B)\n"
      ]
     },
     "metadata": {},
     "output_type": "display_data"
    }
   ],
   "source": [
    "model.summary()"
   ]
  },
  {
   "cell_type": "code",
   "execution_count": 15,
   "id": "33697337",
   "metadata": {},
   "outputs": [],
   "source": [
    "import tensorflow as tf"
   ]
  },
  {
   "cell_type": "code",
   "execution_count": 18,
   "id": "8b244e10",
   "metadata": {},
   "outputs": [
    {
     "name": "stdout",
     "output_type": "stream",
     "text": [
      "[[   6   85 1419    0    0    0    0    0    0    0    0    0    0    0\n",
      "     0    0    0    0    0    0    0    0    0    0    0    0    0    0\n",
      "     0    0    0    0    0    0    0    0    0    0    0    0    0    0\n",
      "     0    0    0    0    0    0    0    0    0    0    0    0    0    0\n",
      "     0    0    0    0    0    0    0    0    0    0    0    0    0    0\n",
      "     0    0    0    0    0    0    0    0    0    0]]\n",
      "[[   6   85 1419   46    0    0    0    0    0    0    0    0    0    0\n",
      "     0    0    0    0    0    0    0    0    0    0    0    0    0    0\n",
      "     0    0    0    0    0    0    0    0    0    0    0    0    0    0\n",
      "     0    0    0    0    0    0    0    0    0    0    0    0    0    0\n",
      "     0    0    0    0    0    0    0    0    0    0    0    0    0    0\n",
      "     0    0    0    0    0    0    0    0    0    0]]\n",
      "[[   6   85 1419   46    6    0    0    0    0    0    0    0    0    0\n",
      "     0    0    0    0    0    0    0    0    0    0    0    0    0    0\n",
      "     0    0    0    0    0    0    0    0    0    0    0    0    0    0\n",
      "     0    0    0    0    0    0    0    0    0    0    0    0    0    0\n",
      "     0    0    0    0    0    0    0    0    0    0    0    0    0    0\n",
      "     0    0    0    0    0    0    0    0    0    0]]\n",
      "[[   6   85 1419   46    6    2    0    0    0    0    0    0    0    0\n",
      "     0    0    0    0    0    0    0    0    0    0    0    0    0    0\n",
      "     0    0    0    0    0    0    0    0    0    0    0    0    0    0\n",
      "     0    0    0    0    0    0    0    0    0    0    0    0    0    0\n",
      "     0    0    0    0    0    0    0    0    0    0    0    0    0    0\n",
      "     0    0    0    0    0    0    0    0    0    0]]\n",
      "[[   6   85 1419   46    6    2    3    0    0    0    0    0    0    0\n",
      "     0    0    0    0    0    0    0    0    0    0    0    0    0    0\n",
      "     0    0    0    0    0    0    0    0    0    0    0    0    0    0\n",
      "     0    0    0    0    0    0    0    0    0    0    0    0    0    0\n",
      "     0    0    0    0    0    0    0    0    0    0    0    0    0    0\n",
      "     0    0    0    0    0    0    0    0    0    0]]\n",
      "[[   6   85 1419   46    6    2    3   46    0    0    0    0    0    0\n",
      "     0    0    0    0    0    0    0    0    0    0    0    0    0    0\n",
      "     0    0    0    0    0    0    0    0    0    0    0    0    0    0\n",
      "     0    0    0    0    0    0    0    0    0    0    0    0    0    0\n",
      "     0    0    0    0    0    0    0    0    0    0    0    0    0    0\n",
      "     0    0    0    0    0    0    0    0    0    0]]\n",
      "[[   6   85 1419   46    6    2    3   46    4    0    0    0    0    0\n",
      "     0    0    0    0    0    0    0    0    0    0    0    0    0    0\n",
      "     0    0    0    0    0    0    0    0    0    0    0    0    0    0\n",
      "     0    0    0    0    0    0    0    0    0    0    0    0    0    0\n",
      "     0    0    0    0    0    0    0    0    0    0    0    0    0    0\n",
      "     0    0    0    0    0    0    0    0    0    0]]\n",
      "[[   6   85 1419   46    6    2    3   46    4    2    0    0    0    0\n",
      "     0    0    0    0    0    0    0    0    0    0    0    0    0    0\n",
      "     0    0    0    0    0    0    0    0    0    0    0    0    0    0\n",
      "     0    0    0    0    0    0    0    0    0    0    0    0    0    0\n",
      "     0    0    0    0    0    0    0    0    0    0    0    0    0    0\n",
      "     0    0    0    0    0    0    0    0    0    0]]\n",
      "[[   6   85 1419   46    6    2    3   46    4    2    2    0    0    0\n",
      "     0    0    0    0    0    0    0    0    0    0    0    0    0    0\n",
      "     0    0    0    0    0    0    0    0    0    0    0    0    0    0\n",
      "     0    0    0    0    0    0    0    0    0    0    0    0    0    0\n",
      "     0    0    0    0    0    0    0    0    0    0    0    0    0    0\n",
      "     0    0    0    0    0    0    0    0    0    0]]\n",
      "[[   6   85 1419   46    6    2    3   46    4    2    2    3    0    0\n",
      "     0    0    0    0    0    0    0    0    0    0    0    0    0    0\n",
      "     0    0    0    0    0    0    0    0    0    0    0    0    0    0\n",
      "     0    0    0    0    0    0    0    0    0    0    0    0    0    0\n",
      "     0    0    0    0    0    0    0    0    0    0    0    0    0    0\n",
      "     0    0    0    0    0    0    0    0    0    0]]\n",
      "[[   6   85 1419   46    6    2    3   46    4    2    2    3    4    0\n",
      "     0    0    0    0    0    0    0    0    0    0    0    0    0    0\n",
      "     0    0    0    0    0    0    0    0    0    0    0    0    0    0\n",
      "     0    0    0    0    0    0    0    0    0    0    0    0    0    0\n",
      "     0    0    0    0    0    0    0    0    0    0    0    0    0    0\n",
      "     0    0    0    0    0    0    0    0    0    0]]\n",
      "[[   6   85 1419   46    6    2    3   46    4    2    2    3    4    4\n",
      "     0    0    0    0    0    0    0    0    0    0    0    0    0    0\n",
      "     0    0    0    0    0    0    0    0    0    0    0    0    0    0\n",
      "     0    0    0    0    0    0    0    0    0    0    0    0    0    0\n",
      "     0    0    0    0    0    0    0    0    0    0    0    0    0    0\n",
      "     0    0    0    0    0    0    0    0    0    0]]\n",
      "[[   6   85 1419   46    6    2    3   46    4    2    2    3    4    4\n",
      "   144    0    0    0    0    0    0    0    0    0    0    0    0    0\n",
      "     0    0    0    0    0    0    0    0    0    0    0    0    0    0\n",
      "     0    0    0    0    0    0    0    0    0    0    0    0    0    0\n",
      "     0    0    0    0    0    0    0    0    0    0    0    0    0    0\n",
      "     0    0    0    0    0    0    0    0    0    0]]\n",
      "[[   6   85 1419   46    6    2    3   46    4    2    2    3    4    4\n",
      "   144    3    0    0    0    0    0    0    0    0    0    0    0    0\n",
      "     0    0    0    0    0    0    0    0    0    0    0    0    0    0\n",
      "     0    0    0    0    0    0    0    0    0    0    0    0    0    0\n",
      "     0    0    0    0    0    0    0    0    0    0    0    0    0    0\n",
      "     0    0    0    0    0    0    0    0    0    0]]\n",
      "[[   6   85 1419   46    6    2    3   46    4    2    2    3    4    4\n",
      "   144    3    3    0    0    0    0    0    0    0    0    0    0    0\n",
      "     0    0    0    0    0    0    0    0    0    0    0    0    0    0\n",
      "     0    0    0    0    0    0    0    0    0    0    0    0    0    0\n",
      "     0    0    0    0    0    0    0    0    0    0    0    0    0    0\n",
      "     0    0    0    0    0    0    0    0    0    0]]\n",
      "[[   6   85 1419   46    6    2    3   46    4    2    2    3    4    4\n",
      "   144    3    3    2    0    0    0    0    0    0    0    0    0    0\n",
      "     0    0    0    0    0    0    0    0    0    0    0    0    0    0\n",
      "     0    0    0    0    0    0    0    0    0    0    0    0    0    0\n",
      "     0    0    0    0    0    0    0    0    0    0    0    0    0    0\n",
      "     0    0    0    0    0    0    0    0    0    0]]\n",
      "[[   6   85 1419   46    6    2    3   46    4    2    2    3    4    4\n",
      "   144    3    3    2  144    0    0    0    0    0    0    0    0    0\n",
      "     0    0    0    0    0    0    0    0    0    0    0    0    0    0\n",
      "     0    0    0    0    0    0    0    0    0    0    0    0    0    0\n",
      "     0    0    0    0    0    0    0    0    0    0    0    0    0    0\n",
      "     0    0    0    0    0    0    0    0    0    0]]\n",
      "[[   6   85 1419   46    6    2    3   46    4    2    2    3    4    4\n",
      "   144    3    3    2  144  144    0    0    0    0    0    0    0    0\n",
      "     0    0    0    0    0    0    0    0    0    0    0    0    0    0\n",
      "     0    0    0    0    0    0    0    0    0    0    0    0    0    0\n",
      "     0    0    0    0    0    0    0    0    0    0    0    0    0    0\n",
      "     0    0    0    0    0    0    0    0    0    0]]\n",
      "[[   6   85 1419   46    6    2    3   46    4    2    2    3    4    4\n",
      "   144    3    3    2  144  144    4    0    0    0    0    0    0    0\n",
      "     0    0    0    0    0    0    0    0    0    0    0    0    0    0\n",
      "     0    0    0    0    0    0    0    0    0    0    0    0    0    0\n",
      "     0    0    0    0    0    0    0    0    0    0    0    0    0    0\n",
      "     0    0    0    0    0    0    0    0    0    0]]\n",
      "[[   6   85 1419   46    6    2    3   46    4    2    2    3    4    4\n",
      "   144    3    3    2  144  144    4    2    0    0    0    0    0    0\n",
      "     0    0    0    0    0    0    0    0    0    0    0    0    0    0\n",
      "     0    0    0    0    0    0    0    0    0    0    0    0    0    0\n",
      "     0    0    0    0    0    0    0    0    0    0    0    0    0    0\n",
      "     0    0    0    0    0    0    0    0    0    0]]\n",
      "[[   6   85 1419   46    6    2    3   46    4    2    2    3    4    4\n",
      "   144    3    3    2  144  144    4    2    2    0    0    0    0    0\n",
      "     0    0    0    0    0    0    0    0    0    0    0    0    0    0\n",
      "     0    0    0    0    0    0    0    0    0    0    0    0    0    0\n",
      "     0    0    0    0    0    0    0    0    0    0    0    0    0    0\n",
      "     0    0    0    0    0    0    0    0    0    0]]\n",
      "[[   6   85 1419   46    6    2    3   46    4    2    2    3    4    4\n",
      "   144    3    3    2  144  144    4    2    2    3    0    0    0    0\n",
      "     0    0    0    0    0    0    0    0    0    0    0    0    0    0\n",
      "     0    0    0    0    0    0    0    0    0    0    0    0    0    0\n",
      "     0    0    0    0    0    0    0    0    0    0    0    0    0    0\n",
      "     0    0    0    0    0    0    0    0    0    0]]\n",
      "[[   6   85 1419   46    6    2    3   46    4    2    2    3    4    4\n",
      "   144    3    3    2  144  144    4    2    2    3    4    0    0    0\n",
      "     0    0    0    0    0    0    0    0    0    0    0    0    0    0\n",
      "     0    0    0    0    0    0    0    0    0    0    0    0    0    0\n",
      "     0    0    0    0    0    0    0    0    0    0    0    0    0    0\n",
      "     0    0    0    0    0    0    0    0    0    0]]\n",
      "[[   6   85 1419   46    6    2    3   46    4    2    2    3    4    4\n",
      "   144    3    3    2  144  144    4    2    2    3    4    4    0    0\n",
      "     0    0    0    0    0    0    0    0    0    0    0    0    0    0\n",
      "     0    0    0    0    0    0    0    0    0    0    0    0    0    0\n",
      "     0    0    0    0    0    0    0    0    0    0    0    0    0    0\n",
      "     0    0    0    0    0    0    0    0    0    0]]\n",
      "[[   6   85 1419   46    6    2    3   46    4    2    2    3    4    4\n",
      "   144    3    3    2  144  144    4    2    2    3    4    4  144    0\n",
      "     0    0    0    0    0    0    0    0    0    0    0    0    0    0\n",
      "     0    0    0    0    0    0    0    0    0    0    0    0    0    0\n",
      "     0    0    0    0    0    0    0    0    0    0    0    0    0    0\n",
      "     0    0    0    0    0    0    0    0    0    0]]\n",
      "[[   6   85 1419   46    6    2    3   46    4    2    2    3    4    4\n",
      "   144    3    3    2  144  144    4    2    2    3    4    4  144    3\n",
      "     0    0    0    0    0    0    0    0    0    0    0    0    0    0\n",
      "     0    0    0    0    0    0    0    0    0    0    0    0    0    0\n",
      "     0    0    0    0    0    0    0    0    0    0    0    0    0    0\n",
      "     0    0    0    0    0    0    0    0    0    0]]\n",
      "[[   6   85 1419   46    6    2    3   46    4    2    2    3    4    4\n",
      "   144    3    3    2  144  144    4    2    2    3    4    4  144    3\n",
      "     3    0    0    0    0    0    0    0    0    0    0    0    0    0\n",
      "     0    0    0    0    0    0    0    0    0    0    0    0    0    0\n",
      "     0    0    0    0    0    0    0    0    0    0    0    0    0    0\n",
      "     0    0    0    0    0    0    0    0    0    0]]\n",
      "[[   6   85 1419   46    6    2    3   46    4    2    2    3    4    4\n",
      "   144    3    3    2  144  144    4    2    2    3    4    4  144    3\n",
      "     3    2    0    0    0    0    0    0    0    0    0    0    0    0\n",
      "     0    0    0    0    0    0    0    0    0    0    0    0    0    0\n",
      "     0    0    0    0    0    0    0    0    0    0    0    0    0    0\n",
      "     0    0    0    0    0    0    0    0    0    0]]\n",
      "[[   6   85 1419   46    6    2    3   46    4    2    2    3    4    4\n",
      "   144    3    3    2  144  144    4    2    2    3    4    4  144    3\n",
      "     3    2  144    0    0    0    0    0    0    0    0    0    0    0\n",
      "     0    0    0    0    0    0    0    0    0    0    0    0    0    0\n",
      "     0    0    0    0    0    0    0    0    0    0    0    0    0    0\n",
      "     0    0    0    0    0    0    0    0    0    0]]\n",
      "[[   6   85 1419   46    6    2    3   46    4    2    2    3    4    4\n",
      "   144    3    3    2  144  144    4    2    2    3    4    4  144    3\n",
      "     3    2  144  144    0    0    0    0    0    0    0    0    0    0\n",
      "     0    0    0    0    0    0    0    0    0    0    0    0    0    0\n",
      "     0    0    0    0    0    0    0    0    0    0    0    0    0    0\n",
      "     0    0    0    0    0    0    0    0    0    0]]\n",
      "[[   6   85 1419   46    6    2    3   46    4    2    2    3    4    4\n",
      "   144    3    3    2  144  144    4    2    2    3    4    4  144    3\n",
      "     3    2  144  144    4    0    0    0    0    0    0    0    0    0\n",
      "     0    0    0    0    0    0    0    0    0    0    0    0    0    0\n",
      "     0    0    0    0    0    0    0    0    0    0    0    0    0    0\n",
      "     0    0    0    0    0    0    0    0    0    0]]\n",
      "[[   6   85 1419   46    6    2    3   46    4    2    2    3    4    4\n",
      "   144    3    3    2  144  144    4    2    2    3    4    4  144    3\n",
      "     3    2  144  144    4    2    0    0    0    0    0    0    0    0\n",
      "     0    0    0    0    0    0    0    0    0    0    0    0    0    0\n",
      "     0    0    0    0    0    0    0    0    0    0    0    0    0    0\n",
      "     0    0    0    0    0    0    0    0    0    0]]\n",
      "[[   6   85 1419   46    6    2    3   46    4    2    2    3    4    4\n",
      "   144    3    3    2  144  144    4    2    2    3    4    4  144    3\n",
      "     3    2  144  144    4    2    2    0    0    0    0    0    0    0\n",
      "     0    0    0    0    0    0    0    0    0    0    0    0    0    0\n",
      "     0    0    0    0    0    0    0    0    0    0    0    0    0    0\n",
      "     0    0    0    0    0    0    0    0    0    0]]\n",
      "[[   6   85 1419   46    6    2    3   46    4    2    2    3    4    4\n",
      "   144    3    3    2  144  144    4    2    2    3    4    4  144    3\n",
      "     3    2  144  144    4    2    2    3    0    0    0    0    0    0\n",
      "     0    0    0    0    0    0    0    0    0    0    0    0    0    0\n",
      "     0    0    0    0    0    0    0    0    0    0    0    0    0    0\n",
      "     0    0    0    0    0    0    0    0    0    0]]\n",
      "[[   6   85 1419   46    6    2    3   46    4    2    2    3    4    4\n",
      "   144    3    3    2  144  144    4    2    2    3    4    4  144    3\n",
      "     3    2  144  144    4    2    2    3    4    0    0    0    0    0\n",
      "     0    0    0    0    0    0    0    0    0    0    0    0    0    0\n",
      "     0    0    0    0    0    0    0    0    0    0    0    0    0    0\n",
      "     0    0    0    0    0    0    0    0    0    0]]\n",
      "[[   6   85 1419   46    6    2    3   46    4    2    2    3    4    4\n",
      "   144    3    3    2  144  144    4    2    2    3    4    4  144    3\n",
      "     3    2  144  144    4    2    2    3    4    4    0    0    0    0\n",
      "     0    0    0    0    0    0    0    0    0    0    0    0    0    0\n",
      "     0    0    0    0    0    0    0    0    0    0    0    0    0    0\n",
      "     0    0    0    0    0    0    0    0    0    0]]\n",
      "[[   6   85 1419   46    6    2    3   46    4    2    2    3    4    4\n",
      "   144    3    3    2  144  144    4    2    2    3    4    4  144    3\n",
      "     3    2  144  144    4    2    2    3    4    4  144    0    0    0\n",
      "     0    0    0    0    0    0    0    0    0    0    0    0    0    0\n",
      "     0    0    0    0    0    0    0    0    0    0    0    0    0    0\n",
      "     0    0    0    0    0    0    0    0    0    0]]\n",
      "[[   6   85 1419   46    6    2    3   46    4    2    2    3    4    4\n",
      "   144    3    3    2  144  144    4    2    2    3    4    4  144    3\n",
      "     3    2  144  144    4    2    2    3    4    4  144    3    0    0\n",
      "     0    0    0    0    0    0    0    0    0    0    0    0    0    0\n",
      "     0    0    0    0    0    0    0    0    0    0    0    0    0    0\n",
      "     0    0    0    0    0    0    0    0    0    0]]\n",
      "[[   6   85 1419   46    6    2    3   46    4    2    2    3    4    4\n",
      "   144    3    3    2  144  144    4    2    2    3    4    4  144    3\n",
      "     3    2  144  144    4    2    2    3    4    4  144    3    3    0\n",
      "     0    0    0    0    0    0    0    0    0    0    0    0    0    0\n",
      "     0    0    0    0    0    0    0    0    0    0    0    0    0    0\n",
      "     0    0    0    0    0    0    0    0    0    0]]\n",
      "[[   6   85 1419   46    6    2    3   46    4    2    2    3    4    4\n",
      "   144    3    3    2  144  144    4    2    2    3    4    4  144    3\n",
      "     3    2  144  144    4    2    2    3    4    4  144    3    3    2\n",
      "     0    0    0    0    0    0    0    0    0    0    0    0    0    0\n",
      "     0    0    0    0    0    0    0    0    0    0    0    0    0    0\n",
      "     0    0    0    0    0    0    0    0    0    0]]\n",
      "[[   6   85 1419   46    6    2    3   46    4    2    2    3    4    4\n",
      "   144    3    3    2  144  144    4    2    2    3    4    4  144    3\n",
      "     3    2  144  144    4    2    2    3    4    4  144    3    3    2\n",
      "   144    0    0    0    0    0    0    0    0    0    0    0    0    0\n",
      "     0    0    0    0    0    0    0    0    0    0    0    0    0    0\n",
      "     0    0    0    0    0    0    0    0    0    0]]\n",
      "[[   6   85 1419   46    6    2    3   46    4    2    2    3    4    4\n",
      "   144    3    3    2  144  144    4    2    2    3    4    4  144    3\n",
      "     3    2  144  144    4    2    2    3    4    4  144    3    3    2\n",
      "   144  144    0    0    0    0    0    0    0    0    0    0    0    0\n",
      "     0    0    0    0    0    0    0    0    0    0    0    0    0    0\n",
      "     0    0    0    0    0    0    0    0    0    0]]\n",
      "[[   6   85 1419   46    6    2    3   46    4    2    2    3    4    4\n",
      "   144    3    3    2  144  144    4    2    2    3    4    4  144    3\n",
      "     3    2  144  144    4    2    2    3    4    4  144    3    3    2\n",
      "   144  144    4    0    0    0    0    0    0    0    0    0    0    0\n",
      "     0    0    0    0    0    0    0    0    0    0    0    0    0    0\n",
      "     0    0    0    0    0    0    0    0    0    0]]\n",
      "[[   6   85 1419   46    6    2    3   46    4    2    2    3    4    4\n",
      "   144    3    3    2  144  144    4    2    2    3    4    4  144    3\n",
      "     3    2  144  144    4    2    2    3    4    4  144    3    3    2\n",
      "   144  144    4    2    0    0    0    0    0    0    0    0    0    0\n",
      "     0    0    0    0    0    0    0    0    0    0    0    0    0    0\n",
      "     0    0    0    0    0    0    0    0    0    0]]\n",
      "[[   6   85 1419   46    6    2    3   46    4    2    2    3    4    4\n",
      "   144    3    3    2  144  144    4    2    2    3    4    4  144    3\n",
      "     3    2  144  144    4    2    2    3    4    4  144    3    3    2\n",
      "   144  144    4    2    2    0    0    0    0    0    0    0    0    0\n",
      "     0    0    0    0    0    0    0    0    0    0    0    0    0    0\n",
      "     0    0    0    0    0    0    0    0    0    0]]\n",
      "[[   6   85 1419   46    6    2    3   46    4    2    2    3    4    4\n",
      "   144    3    3    2  144  144    4    2    2    3    4    4  144    3\n",
      "     3    2  144  144    4    2    2    3    4    4  144    3    3    2\n",
      "   144  144    4    2    2    3    0    0    0    0    0    0    0    0\n",
      "     0    0    0    0    0    0    0    0    0    0    0    0    0    0\n",
      "     0    0    0    0    0    0    0    0    0    0]]\n",
      "[[   6   85 1419   46    6    2    3   46    4    2    2    3    4    4\n",
      "   144    3    3    2  144  144    4    2    2    3    4    4  144    3\n",
      "     3    2  144  144    4    2    2    3    4    4  144    3    3    2\n",
      "   144  144    4    2    2    3    4    0    0    0    0    0    0    0\n",
      "     0    0    0    0    0    0    0    0    0    0    0    0    0    0\n",
      "     0    0    0    0    0    0    0    0    0    0]]\n",
      "[[   6   85 1419   46    6    2    3   46    4    2    2    3    4    4\n",
      "   144    3    3    2  144  144    4    2    2    3    4    4  144    3\n",
      "     3    2  144  144    4    2    2    3    4    4  144    3    3    2\n",
      "   144  144    4    2    2    3    4    4    0    0    0    0    0    0\n",
      "     0    0    0    0    0    0    0    0    0    0    0    0    0    0\n",
      "     0    0    0    0    0    0    0    0    0    0]]\n",
      "[[   6   85 1419   46    6    2    3   46    4    2    2    3    4    4\n",
      "   144    3    3    2  144  144    4    2    2    3    4    4  144    3\n",
      "     3    2  144  144    4    2    2    3    4    4  144    3    3    2\n",
      "   144  144    4    2    2    3    4    4  144    0    0    0    0    0\n",
      "     0    0    0    0    0    0    0    0    0    0    0    0    0    0\n",
      "     0    0    0    0    0    0    0    0    0    0]]\n",
      "[[   6   85 1419   46    6    2    3   46    4    2    2    3    4    4\n",
      "   144    3    3    2  144  144    4    2    2    3    4    4  144    3\n",
      "     3    2  144  144    4    2    2    3    4    4  144    3    3    2\n",
      "   144  144    4    2    2    3    4    4  144    3    0    0    0    0\n",
      "     0    0    0    0    0    0    0    0    0    0    0    0    0    0\n",
      "     0    0    0    0    0    0    0    0    0    0]]\n",
      "[[   6   85 1419   46    6    2    3   46    4    2    2    3    4    4\n",
      "   144    3    3    2  144  144    4    2    2    3    4    4  144    3\n",
      "     3    2  144  144    4    2    2    3    4    4  144    3    3    2\n",
      "   144  144    4    2    2    3    4    4  144    3    3    0    0    0\n",
      "     0    0    0    0    0    0    0    0    0    0    0    0    0    0\n",
      "     0    0    0    0    0    0    0    0    0    0]]\n",
      "[[   6   85 1419   46    6    2    3   46    4    2    2    3    4    4\n",
      "   144    3    3    2  144  144    4    2    2    3    4    4  144    3\n",
      "     3    2  144  144    4    2    2    3    4    4  144    3    3    2\n",
      "   144  144    4    2    2    3    4    4  144    3    3    2    0    0\n",
      "     0    0    0    0    0    0    0    0    0    0    0    0    0    0\n",
      "     0    0    0    0    0    0    0    0    0    0]]\n",
      "[[   6   85 1419   46    6    2    3   46    4    2    2    3    4    4\n",
      "   144    3    3    2  144  144    4    2    2    3    4    4  144    3\n",
      "     3    2  144  144    4    2    2    3    4    4  144    3    3    2\n",
      "   144  144    4    2    2    3    4    4  144    3    3    2  144    0\n",
      "     0    0    0    0    0    0    0    0    0    0    0    0    0    0\n",
      "     0    0    0    0    0    0    0    0    0    0]]\n",
      "[[   6   85 1419   46    6    2    3   46    4    2    2    3    4    4\n",
      "   144    3    3    2  144  144    4    2    2    3    4    4  144    3\n",
      "     3    2  144  144    4    2    2    3    4    4  144    3    3    2\n",
      "   144  144    4    2    2    3    4    4  144    3    3    2  144  144\n",
      "     0    0    0    0    0    0    0    0    0    0    0    0    0    0\n",
      "     0    0    0    0    0    0    0    0    0    0]]\n",
      "[[   6   85 1419   46    6    2    3   46    4    2    2    3    4    4\n",
      "   144    3    3    2  144  144    4    2    2    3    4    4  144    3\n",
      "     3    2  144  144    4    2    2    3    4    4  144    3    3    2\n",
      "   144  144    4    2    2    3    4    4  144    3    3    2  144  144\n",
      "     4    0    0    0    0    0    0    0    0    0    0    0    0    0\n",
      "     0    0    0    0    0    0    0    0    0    0]]\n",
      "[[   6   85 1419   46    6    2    3   46    4    2    2    3    4    4\n",
      "   144    3    3    2  144  144    4    2    2    3    4    4  144    3\n",
      "     3    2  144  144    4    2    2    3    4    4  144    3    3    2\n",
      "   144  144    4    2    2    3    4    4  144    3    3    2  144  144\n",
      "     4    2    0    0    0    0    0    0    0    0    0    0    0    0\n",
      "     0    0    0    0    0    0    0    0    0    0]]\n",
      "[[   6   85 1419   46    6    2    3   46    4    2    2    3    4    4\n",
      "   144    3    3    2  144  144    4    2    2    3    4    4  144    3\n",
      "     3    2  144  144    4    2    2    3    4    4  144    3    3    2\n",
      "   144  144    4    2    2    3    4    4  144    3    3    2  144  144\n",
      "     4    2    2    0    0    0    0    0    0    0    0    0    0    0\n",
      "     0    0    0    0    0    0    0    0    0    0]]\n",
      "[[   6   85 1419   46    6    2    3   46    4    2    2    3    4    4\n",
      "   144    3    3    2  144  144    4    2    2    3    4    4  144    3\n",
      "     3    2  144  144    4    2    2    3    4    4  144    3    3    2\n",
      "   144  144    4    2    2    3    4    4  144    3    3    2  144  144\n",
      "     4    2    2    3    0    0    0    0    0    0    0    0    0    0\n",
      "     0    0    0    0    0    0    0    0    0    0]]\n",
      "[[   6   85 1419   46    6    2    3   46    4    2    2    3    4    4\n",
      "   144    3    3    2  144  144    4    2    2    3    4    4  144    3\n",
      "     3    2  144  144    4    2    2    3    4    4  144    3    3    2\n",
      "   144  144    4    2    2    3    4    4  144    3    3    2  144  144\n",
      "     4    2    2    3    4    0    0    0    0    0    0    0    0    0\n",
      "     0    0    0    0    0    0    0    0    0    0]]\n",
      "[[   6   85 1419   46    6    2    3   46    4    2    2    3    4    4\n",
      "   144    3    3    2  144  144    4    2    2    3    4    4  144    3\n",
      "     3    2  144  144    4    2    2    3    4    4  144    3    3    2\n",
      "   144  144    4    2    2    3    4    4  144    3    3    2  144  144\n",
      "     4    2    2    3    4    4    0    0    0    0    0    0    0    0\n",
      "     0    0    0    0    0    0    0    0    0    0]]\n",
      "[[   6   85 1419   46    6    2    3   46    4    2    2    3    4    4\n",
      "   144    3    3    2  144  144    4    2    2    3    4    4  144    3\n",
      "     3    2  144  144    4    2    2    3    4    4  144    3    3    2\n",
      "   144  144    4    2    2    3    4    4  144    3    3    2  144  144\n",
      "     4    2    2    3    4    4  144    0    0    0    0    0    0    0\n",
      "     0    0    0    0    0    0    0    0    0    0]]\n",
      "[[   6   85 1419   46    6    2    3   46    4    2    2    3    4    4\n",
      "   144    3    3    2  144  144    4    2    2    3    4    4  144    3\n",
      "     3    2  144  144    4    2    2    3    4    4  144    3    3    2\n",
      "   144  144    4    2    2    3    4    4  144    3    3    2  144  144\n",
      "     4    2    2    3    4    4  144    3    0    0    0    0    0    0\n",
      "     0    0    0    0    0    0    0    0    0    0]]\n",
      "[[   6   85 1419   46    6    2    3   46    4    2    2    3    4    4\n",
      "   144    3    3    2  144  144    4    2    2    3    4    4  144    3\n",
      "     3    2  144  144    4    2    2    3    4    4  144    3    3    2\n",
      "   144  144    4    2    2    3    4    4  144    3    3    2  144  144\n",
      "     4    2    2    3    4    4  144    3    3    0    0    0    0    0\n",
      "     0    0    0    0    0    0    0    0    0    0]]\n",
      "[[   6   85 1419   46    6    2    3   46    4    2    2    3    4    4\n",
      "   144    3    3    2  144  144    4    2    2    3    4    4  144    3\n",
      "     3    2  144  144    4    2    2    3    4    4  144    3    3    2\n",
      "   144  144    4    2    2    3    4    4  144    3    3    2  144  144\n",
      "     4    2    2    3    4    4  144    3    3    2    0    0    0    0\n",
      "     0    0    0    0    0    0    0    0    0    0]]\n",
      "[[   6   85 1419   46    6    2    3   46    4    2    2    3    4    4\n",
      "   144    3    3    2  144  144    4    2    2    3    4    4  144    3\n",
      "     3    2  144  144    4    2    2    3    4    4  144    3    3    2\n",
      "   144  144    4    2    2    3    4    4  144    3    3    2  144  144\n",
      "     4    2    2    3    4    4  144    3    3    2    2    0    0    0\n",
      "     0    0    0    0    0    0    0    0    0    0]]\n",
      "[[   6   85 1419   46    6    2    3   46    4    2    2    3    4    4\n",
      "   144    3    3    2  144  144    4    2    2    3    4    4  144    3\n",
      "     3    2  144  144    4    2    2    3    4    4  144    3    3    2\n",
      "   144  144    4    2    2    3    4    4  144    3    3    2  144  144\n",
      "     4    2    2    3    4    4  144    3    3    2    2  144    0    0\n",
      "     0    0    0    0    0    0    0    0    0    0]]\n",
      "[[   6   85 1419   46    6    2    3   46    4    2    2    3    4    4\n",
      "   144    3    3    2  144  144    4    2    2    3    4    4  144    3\n",
      "     3    2  144  144    4    2    2    3    4    4  144    3    3    2\n",
      "   144  144    4    2    2    3    4    4  144    3    3    2  144  144\n",
      "     4    2    2    3    4    4  144    3    3    2    2  144    4    0\n",
      "     0    0    0    0    0    0    0    0    0    0]]\n",
      "[[   6   85 1419   46    6    2    3   46    4    2    2    3    4    4\n",
      "   144    3    3    2  144  144    4    2    2    3    4    4  144    3\n",
      "     3    2  144  144    4    2    2    3    4    4  144    3    3    2\n",
      "   144  144    4    2    2    3    4    4  144    3    3    2  144  144\n",
      "     4    2    2    3    4    4  144    3    3    2    2  144    4    4\n",
      "     0    0    0    0    0    0    0    0    0    0]]\n",
      "[[   6   85 1419   46    6    2    3   46    4    2    2    3    4    4\n",
      "   144    3    3    2  144  144    4    2    2    3    4    4  144    3\n",
      "     3    2  144  144    4    2    2    3    4    4  144    3    3    2\n",
      "   144  144    4    2    2    3    4    4  144    3    3    2  144  144\n",
      "     4    2    2    3    4    4  144    3    3    2    2  144    4    4\n",
      "     2    0    0    0    0    0    0    0    0    0]]\n",
      "[[   6   85 1419   46    6    2    3   46    4    2    2    3    4    4\n",
      "   144    3    3    2  144  144    4    2    2    3    4    4  144    3\n",
      "     3    2  144  144    4    2    2    3    4    4  144    3    3    2\n",
      "   144  144    4    2    2    3    4    4  144    3    3    2  144  144\n",
      "     4    2    2    3    4    4  144    3    3    2    2  144    4    4\n",
      "     2    3    0    0    0    0    0    0    0    0]]\n",
      "[[   6   85 1419   46    6    2    3   46    4    2    2    3    4    4\n",
      "   144    3    3    2  144  144    4    2    2    3    4    4  144    3\n",
      "     3    2  144  144    4    2    2    3    4    4  144    3    3    2\n",
      "   144  144    4    2    2    3    4    4  144    3    3    2  144  144\n",
      "     4    2    2    3    4    4  144    3    3    2    2  144    4    4\n",
      "     2    3    3    0    0    0    0    0    0    0]]\n",
      "[[   6   85 1419   46    6    2    3   46    4    2    2    3    4    4\n",
      "   144    3    3    2  144  144    4    2    2    3    4    4  144    3\n",
      "     3    2  144  144    4    2    2    3    4    4  144    3    3    2\n",
      "   144  144    4    2    2    3    4    4  144    3    3    2  144  144\n",
      "     4    2    2    3    4    4  144    3    3    2    2  144    4    4\n",
      "     2    3    3    4    0    0    0    0    0    0]]\n",
      "[[   6   85 1419   46    6    2    3   46    4    2    2    3    4    4\n",
      "   144    3    3    2  144  144    4    2    2    3    4    4  144    3\n",
      "     3    2  144  144    4    2    2    3    4    4  144    3    3    2\n",
      "   144  144    4    2    2    3    4    4  144    3    3    2  144  144\n",
      "     4    2    2    3    4    4  144    3    3    2    2  144    4    4\n",
      "     2    3    3    4  144    0    0    0    0    0]]\n",
      "[[   6   85 1419   46    6    2    3   46    4    2    2    3    4    4\n",
      "   144    3    3    2  144  144    4    2    2    3    4    4  144    3\n",
      "     3    2  144  144    4    2    2    3    4    4  144    3    3    2\n",
      "   144  144    4    2    2    3    4    4  144    3    3    2  144  144\n",
      "     4    2    2    3    4    4  144    3    3    2    2  144    4    4\n",
      "     2    3    3    4  144  144    0    0    0    0]]\n",
      "[[   6   85 1419   46    6    2    3   46    4    2    2    3    4    4\n",
      "   144    3    3    2  144  144    4    2    2    3    4    4  144    3\n",
      "     3    2  144  144    4    2    2    3    4    4  144    3    3    2\n",
      "   144  144    4    2    2    3    4    4  144    3    3    2  144  144\n",
      "     4    2    2    3    4    4  144    3    3    2    2  144    4    4\n",
      "     2    3    3    4  144  144    3    0    0    0]]\n",
      "[[   6   85 1419   46    6    2    3   46    4    2    2    3    4    4\n",
      "   144    3    3    2  144  144    4    2    2    3    4    4  144    3\n",
      "     3    2  144  144    4    2    2    3    4    4  144    3    3    2\n",
      "   144  144    4    2    2    3    4    4  144    3    3    2  144  144\n",
      "     4    2    2    3    4    4  144    3    3    2    2  144    4    4\n",
      "     2    3    3    4  144  144    3    2    0    0]]\n",
      "[[   6   85 1419   46    6    2    3   46    4    2    2    3    4    4\n",
      "   144    3    3    2  144  144    4    2    2    3    4    4  144    3\n",
      "     3    2  144  144    4    2    2    3    4    4  144    3    3    2\n",
      "   144  144    4    2    2    3    4    4  144    3    3    2  144  144\n",
      "     4    2    2    3    4    4  144    3    3    2    2  144    4    4\n",
      "     2    3    3    4  144  144    3    2    2    0]]\n",
      "[[   6   85 1419   46    6    2    3   46    4    2    2    3    4    4\n",
      "   144    3    3    2  144  144    4    2    2    3    4    4  144    3\n",
      "     3    2  144  144    4    2    2    3    4    4  144    3    3    2\n",
      "   144  144    4    2    2    3    4    4  144    3    3    2  144  144\n",
      "     4    2    2    3    4    4  144    3    3    2    2  144    4    4\n",
      "     2    3    3    4  144  144    3    2    2  144]]\n",
      "[[   6   85 1419   46    6    2    3   46    4    2    2    3    4    4\n",
      "   144    3    3    2  144  144    4    2    2    3    4    4  144    3\n",
      "     3    2  144  144    4    2    2    3    4    4  144    3    3    2\n",
      "   144  144    4    2    2    3    4    4  144    3    3    2  144  144\n",
      "     4    2    2    3    4    4  144    3    3    2    2  144    4    4\n",
      "     2    3    3    4  144  144    3    2    2  144]]\n",
      "[[   6   85 1419   46    6    2    3   46    4    2    2    3    4    4\n",
      "   144    3    3    2  144  144    4    2    2    3    4    4  144    3\n",
      "     3    2  144  144    4    2    2    3    4    4  144    3    3    2\n",
      "   144  144    4    2    2    3    4    4  144    3    3    2  144  144\n",
      "     4    2    2    3    4    4  144    3    3    2    2  144    4    4\n",
      "     2    3    3    4  144  144    3    2    2  144]]\n"
     ]
    }
   ],
   "source": [
    "initial='I would rather'\n",
    "sentence=[]\n",
    "for i in range(0,80):\n",
    "    vect_in=vectorize_layer(initial)\n",
    "    vect_in=np.expand_dims(vect_in,0)\n",
    "    vect_in=vect_in[:,0:80]\n",
    "    print(vect_in)\n",
    "    outs=model(vect_in)[0]\n",
    "    outs=outs/0.5\n",
    "    softmax_out=tf.nn.softmax(outs)\n",
    "    out=tf.argmax(softmax_out,axis=2)\n",
    "    word=vocab[out[0][i].numpy().item()]\n",
    "    sentence.append(word)\n",
    "    initial=initial+\" \" +word\n",
    "\n",
    "    \n",
    "\n",
    "\n"
   ]
  },
  {
   "cell_type": "code",
   "execution_count": 19,
   "id": "6a1add94",
   "metadata": {},
   "outputs": [
    {
     "data": {
      "text/plain": [
       "[np.str_('am'),\n",
       " np.str_('i'),\n",
       " np.str_(','),\n",
       " np.str_('the'),\n",
       " np.str_('am'),\n",
       " np.str_('and'),\n",
       " np.str_(','),\n",
       " np.str_(','),\n",
       " np.str_('the'),\n",
       " np.str_('and'),\n",
       " np.str_('and'),\n",
       " np.str_('same'),\n",
       " np.str_('the'),\n",
       " np.str_('the'),\n",
       " np.str_(','),\n",
       " np.str_('same'),\n",
       " np.str_('same'),\n",
       " np.str_('and'),\n",
       " np.str_(','),\n",
       " np.str_(','),\n",
       " np.str_('the'),\n",
       " np.str_('and'),\n",
       " np.str_('and'),\n",
       " np.str_('same'),\n",
       " np.str_('the'),\n",
       " np.str_('the'),\n",
       " np.str_(','),\n",
       " np.str_('same'),\n",
       " np.str_('same'),\n",
       " np.str_('and'),\n",
       " np.str_(','),\n",
       " np.str_(','),\n",
       " np.str_('the'),\n",
       " np.str_('and'),\n",
       " np.str_('and'),\n",
       " np.str_('same'),\n",
       " np.str_('the'),\n",
       " np.str_('the'),\n",
       " np.str_(','),\n",
       " np.str_('same'),\n",
       " np.str_('same'),\n",
       " np.str_('and'),\n",
       " np.str_(','),\n",
       " np.str_(','),\n",
       " np.str_('the'),\n",
       " np.str_('and'),\n",
       " np.str_('and'),\n",
       " np.str_('same'),\n",
       " np.str_('the'),\n",
       " np.str_('the'),\n",
       " np.str_(','),\n",
       " np.str_('same'),\n",
       " np.str_('same'),\n",
       " np.str_('and'),\n",
       " np.str_(','),\n",
       " np.str_(','),\n",
       " np.str_('the'),\n",
       " np.str_('and'),\n",
       " np.str_('and'),\n",
       " np.str_('same'),\n",
       " np.str_('the'),\n",
       " np.str_('the'),\n",
       " np.str_(','),\n",
       " np.str_(','),\n",
       " np.str_('same'),\n",
       " np.str_('and'),\n",
       " np.str_('and'),\n",
       " np.str_(','),\n",
       " np.str_('the'),\n",
       " np.str_('the'),\n",
       " np.str_('and'),\n",
       " np.str_('same'),\n",
       " np.str_('same'),\n",
       " np.str_('the'),\n",
       " np.str_(','),\n",
       " np.str_(','),\n",
       " np.str_('same'),\n",
       " np.str_('and'),\n",
       " np.str_('and'),\n",
       " np.str_(',')]"
      ]
     },
     "execution_count": 19,
     "metadata": {},
     "output_type": "execute_result"
    }
   ],
   "source": [
    "sentence"
   ]
  },
  {
   "cell_type": "code",
   "execution_count": 193,
   "id": "9be1318f",
   "metadata": {},
   "outputs": [],
   "source": [
    "out=tf.argmax(softmax_out,axis=2)"
   ]
  },
  {
   "cell_type": "code",
   "execution_count": 34,
   "id": "161bfac2",
   "metadata": {},
   "outputs": [
    {
     "data": {
      "text/plain": [
       "np.str_('some')"
      ]
     },
     "execution_count": 34,
     "metadata": {},
     "output_type": "execute_result"
    }
   ],
   "source": [
    "vocab[120]"
   ]
  },
  {
   "cell_type": "code",
   "execution_count": 196,
   "id": "2b6e4d59",
   "metadata": {},
   "outputs": [
    {
     "data": {
      "text/plain": [
       "'thee'"
      ]
     },
     "execution_count": 196,
     "metadata": {},
     "output_type": "execute_result"
    }
   ],
   "source": [
    "vocab[69]"
   ]
  }
 ],
 "metadata": {
  "kernelspec": {
   "display_name": "Python 3",
   "language": "python",
   "name": "python3"
  },
  "language_info": {
   "codemirror_mode": {
    "name": "ipython",
    "version": 3
   },
   "file_extension": ".py",
   "mimetype": "text/x-python",
   "name": "python",
   "nbconvert_exporter": "python",
   "pygments_lexer": "ipython3",
   "version": "3.11.9"
  }
 },
 "nbformat": 4,
 "nbformat_minor": 5
}
